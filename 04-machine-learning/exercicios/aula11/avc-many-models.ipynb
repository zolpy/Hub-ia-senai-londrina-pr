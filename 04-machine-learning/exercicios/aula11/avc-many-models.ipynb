{
 "cells": [
  {
   "cell_type": "markdown",
   "metadata": {
    "toc": true
   },
   "source": [
    "## O que faremos:\n",
    "\n",
    "1 Examinar os dados\n",
    "\n",
    "2 Pré-processar dos dados\n",
    "\n",
    "3 Construir diversos modelos e compará-los"
   ]
  },
  {
   "cell_type": "markdown",
   "metadata": {},
   "source": [
    "## Construindo um modelo para prever o AVC\n",
    "\n",
    "Segundo a Organização Mundial da Saúde (OMS), o AVC é a 2ª causa de morte no mundo, sendo responsável por aproximadamente 11% do total de óbitos.\n",
    "\n",
    "Esse conjunto de dados é usado para prever a probabilidade de um paciente ter um AVC com base em parâmetros de entrada, como sexo, idade, várias condições médicas e tabagismo. Cada amostra dos dados contém informações relevantes do paciente.\n",
    "\n",
    "O objetivo do projeto é criar um modelo para prever o AVC.\n",
    "\n",
    "\n",
    "Alguns passos importantes para projetos aplicados:\n",
    "1. Estudar os dados iniciais.\n",
    "2. Efetuar possíveus pré-processamento de dados.\n",
    "3. Cálculo de informações/características adicionais.\n",
    "4. Explore os dados.\n",
    "5. Construa um modelo (neste caso, usando regressão logística).\n",
    "6. Avalie o modelo sob métricas relevantes."
   ]
  },
  {
   "cell_type": "markdown",
   "metadata": {},
   "source": [
    "## Examinando os dados..."
   ]
  },
  {
   "cell_type": "code",
   "execution_count": 1,
   "metadata": {
    "execution": {
     "iopub.execute_input": "2022-02-04T14:24:45.696229Z",
     "iopub.status.busy": "2022-02-04T14:24:45.695580Z",
     "iopub.status.idle": "2022-02-04T14:24:45.699182Z",
     "shell.execute_reply": "2022-02-04T14:24:45.698599Z",
     "shell.execute_reply.started": "2022-02-04T14:24:45.696179Z"
    }
   },
   "outputs": [],
   "source": [
    "import numpy as np\n",
    "import pandas as pd\n",
    "import seaborn as sns\n",
    "import matplotlib.pyplot as plt"
   ]
  },
  {
   "cell_type": "code",
   "execution_count": 2,
   "metadata": {
    "execution": {
     "iopub.execute_input": "2022-02-04T14:24:45.714560Z",
     "iopub.status.busy": "2022-02-04T14:24:45.713861Z",
     "iopub.status.idle": "2022-02-04T14:24:45.725241Z",
     "shell.execute_reply": "2022-02-04T14:24:45.724603Z",
     "shell.execute_reply.started": "2022-02-04T14:24:45.714515Z"
    }
   },
   "outputs": [],
   "source": [
    "pd.set_option('display.float_format', '{:,.2f}'.format)"
   ]
  },
  {
   "cell_type": "code",
   "execution_count": 3,
   "metadata": {
    "execution": {
     "iopub.execute_input": "2022-02-04T14:24:45.735862Z",
     "iopub.status.busy": "2022-02-04T14:24:45.735290Z",
     "iopub.status.idle": "2022-02-04T14:24:45.768377Z",
     "shell.execute_reply": "2022-02-04T14:24:45.767623Z",
     "shell.execute_reply.started": "2022-02-04T14:24:45.735828Z"
    }
   },
   "outputs": [
    {
     "data": {
      "text/html": [
       "<div>\n",
       "<style scoped>\n",
       "    .dataframe tbody tr th:only-of-type {\n",
       "        vertical-align: middle;\n",
       "    }\n",
       "\n",
       "    .dataframe tbody tr th {\n",
       "        vertical-align: top;\n",
       "    }\n",
       "\n",
       "    .dataframe thead th {\n",
       "        text-align: right;\n",
       "    }\n",
       "</style>\n",
       "<table border=\"1\" class=\"dataframe\">\n",
       "  <thead>\n",
       "    <tr style=\"text-align: right;\">\n",
       "      <th></th>\n",
       "      <th>id</th>\n",
       "      <th>gender</th>\n",
       "      <th>age</th>\n",
       "      <th>hypertension</th>\n",
       "      <th>heart_disease</th>\n",
       "      <th>ever_married</th>\n",
       "      <th>work_type</th>\n",
       "      <th>Residence_type</th>\n",
       "      <th>avg_glucose_level</th>\n",
       "      <th>bmi</th>\n",
       "      <th>smoking_status</th>\n",
       "      <th>stroke</th>\n",
       "    </tr>\n",
       "  </thead>\n",
       "  <tbody>\n",
       "    <tr>\n",
       "      <th>0</th>\n",
       "      <td>9046</td>\n",
       "      <td>Male</td>\n",
       "      <td>67.00</td>\n",
       "      <td>0</td>\n",
       "      <td>1</td>\n",
       "      <td>Yes</td>\n",
       "      <td>Private</td>\n",
       "      <td>Urban</td>\n",
       "      <td>228.69</td>\n",
       "      <td>36.60</td>\n",
       "      <td>formerly smoked</td>\n",
       "      <td>1</td>\n",
       "    </tr>\n",
       "    <tr>\n",
       "      <th>1</th>\n",
       "      <td>51676</td>\n",
       "      <td>Female</td>\n",
       "      <td>61.00</td>\n",
       "      <td>0</td>\n",
       "      <td>0</td>\n",
       "      <td>Yes</td>\n",
       "      <td>Self-employed</td>\n",
       "      <td>Rural</td>\n",
       "      <td>202.21</td>\n",
       "      <td>nan</td>\n",
       "      <td>never smoked</td>\n",
       "      <td>1</td>\n",
       "    </tr>\n",
       "    <tr>\n",
       "      <th>2</th>\n",
       "      <td>31112</td>\n",
       "      <td>Male</td>\n",
       "      <td>80.00</td>\n",
       "      <td>0</td>\n",
       "      <td>1</td>\n",
       "      <td>Yes</td>\n",
       "      <td>Private</td>\n",
       "      <td>Rural</td>\n",
       "      <td>105.92</td>\n",
       "      <td>32.50</td>\n",
       "      <td>never smoked</td>\n",
       "      <td>1</td>\n",
       "    </tr>\n",
       "    <tr>\n",
       "      <th>3</th>\n",
       "      <td>60182</td>\n",
       "      <td>Female</td>\n",
       "      <td>49.00</td>\n",
       "      <td>0</td>\n",
       "      <td>0</td>\n",
       "      <td>Yes</td>\n",
       "      <td>Private</td>\n",
       "      <td>Urban</td>\n",
       "      <td>171.23</td>\n",
       "      <td>34.40</td>\n",
       "      <td>smokes</td>\n",
       "      <td>1</td>\n",
       "    </tr>\n",
       "    <tr>\n",
       "      <th>4</th>\n",
       "      <td>1665</td>\n",
       "      <td>Female</td>\n",
       "      <td>79.00</td>\n",
       "      <td>1</td>\n",
       "      <td>0</td>\n",
       "      <td>Yes</td>\n",
       "      <td>Self-employed</td>\n",
       "      <td>Rural</td>\n",
       "      <td>174.12</td>\n",
       "      <td>24.00</td>\n",
       "      <td>never smoked</td>\n",
       "      <td>1</td>\n",
       "    </tr>\n",
       "    <tr>\n",
       "      <th>5</th>\n",
       "      <td>56669</td>\n",
       "      <td>Male</td>\n",
       "      <td>81.00</td>\n",
       "      <td>0</td>\n",
       "      <td>0</td>\n",
       "      <td>Yes</td>\n",
       "      <td>Private</td>\n",
       "      <td>Urban</td>\n",
       "      <td>186.21</td>\n",
       "      <td>29.00</td>\n",
       "      <td>formerly smoked</td>\n",
       "      <td>1</td>\n",
       "    </tr>\n",
       "    <tr>\n",
       "      <th>6</th>\n",
       "      <td>53882</td>\n",
       "      <td>Male</td>\n",
       "      <td>74.00</td>\n",
       "      <td>1</td>\n",
       "      <td>1</td>\n",
       "      <td>Yes</td>\n",
       "      <td>Private</td>\n",
       "      <td>Rural</td>\n",
       "      <td>70.09</td>\n",
       "      <td>27.40</td>\n",
       "      <td>never smoked</td>\n",
       "      <td>1</td>\n",
       "    </tr>\n",
       "    <tr>\n",
       "      <th>7</th>\n",
       "      <td>10434</td>\n",
       "      <td>Female</td>\n",
       "      <td>69.00</td>\n",
       "      <td>0</td>\n",
       "      <td>0</td>\n",
       "      <td>No</td>\n",
       "      <td>Private</td>\n",
       "      <td>Urban</td>\n",
       "      <td>94.39</td>\n",
       "      <td>22.80</td>\n",
       "      <td>never smoked</td>\n",
       "      <td>1</td>\n",
       "    </tr>\n",
       "    <tr>\n",
       "      <th>8</th>\n",
       "      <td>27419</td>\n",
       "      <td>Female</td>\n",
       "      <td>59.00</td>\n",
       "      <td>0</td>\n",
       "      <td>0</td>\n",
       "      <td>Yes</td>\n",
       "      <td>Private</td>\n",
       "      <td>Rural</td>\n",
       "      <td>76.15</td>\n",
       "      <td>nan</td>\n",
       "      <td>Unknown</td>\n",
       "      <td>1</td>\n",
       "    </tr>\n",
       "    <tr>\n",
       "      <th>9</th>\n",
       "      <td>60491</td>\n",
       "      <td>Female</td>\n",
       "      <td>78.00</td>\n",
       "      <td>0</td>\n",
       "      <td>0</td>\n",
       "      <td>Yes</td>\n",
       "      <td>Private</td>\n",
       "      <td>Urban</td>\n",
       "      <td>58.57</td>\n",
       "      <td>24.20</td>\n",
       "      <td>Unknown</td>\n",
       "      <td>1</td>\n",
       "    </tr>\n",
       "  </tbody>\n",
       "</table>\n",
       "</div>"
      ],
      "text/plain": [
       "      id  gender   age  hypertension  heart_disease ever_married  \\\n",
       "0   9046    Male 67.00             0              1          Yes   \n",
       "1  51676  Female 61.00             0              0          Yes   \n",
       "2  31112    Male 80.00             0              1          Yes   \n",
       "3  60182  Female 49.00             0              0          Yes   \n",
       "4   1665  Female 79.00             1              0          Yes   \n",
       "5  56669    Male 81.00             0              0          Yes   \n",
       "6  53882    Male 74.00             1              1          Yes   \n",
       "7  10434  Female 69.00             0              0           No   \n",
       "8  27419  Female 59.00             0              0          Yes   \n",
       "9  60491  Female 78.00             0              0          Yes   \n",
       "\n",
       "       work_type Residence_type  avg_glucose_level   bmi   smoking_status  \\\n",
       "0        Private          Urban             228.69 36.60  formerly smoked   \n",
       "1  Self-employed          Rural             202.21   nan     never smoked   \n",
       "2        Private          Rural             105.92 32.50     never smoked   \n",
       "3        Private          Urban             171.23 34.40           smokes   \n",
       "4  Self-employed          Rural             174.12 24.00     never smoked   \n",
       "5        Private          Urban             186.21 29.00  formerly smoked   \n",
       "6        Private          Rural              70.09 27.40     never smoked   \n",
       "7        Private          Urban              94.39 22.80     never smoked   \n",
       "8        Private          Rural              76.15   nan          Unknown   \n",
       "9        Private          Urban              58.57 24.20          Unknown   \n",
       "\n",
       "   stroke  \n",
       "0       1  \n",
       "1       1  \n",
       "2       1  \n",
       "3       1  \n",
       "4       1  \n",
       "5       1  \n",
       "6       1  \n",
       "7       1  \n",
       "8       1  \n",
       "9       1  "
      ]
     },
     "execution_count": 3,
     "metadata": {},
     "output_type": "execute_result"
    }
   ],
   "source": [
    "data = pd.read_csv('./archive/healthcare-dataset-stroke-data.csv')\n",
    "data.head(10)"
   ]
  },
  {
   "cell_type": "markdown",
   "metadata": {},
   "source": [
    "Informações gerais sobre o dataset..."
   ]
  },
  {
   "cell_type": "code",
   "execution_count": 4,
   "metadata": {
    "execution": {
     "iopub.execute_input": "2022-02-04T14:24:45.770425Z",
     "iopub.status.busy": "2022-02-04T14:24:45.770154Z",
     "iopub.status.idle": "2022-02-04T14:24:45.788255Z",
     "shell.execute_reply": "2022-02-04T14:24:45.787433Z",
     "shell.execute_reply.started": "2022-02-04T14:24:45.770388Z"
    }
   },
   "outputs": [
    {
     "name": "stdout",
     "output_type": "stream",
     "text": [
      "<class 'pandas.core.frame.DataFrame'>\n",
      "RangeIndex: 5110 entries, 0 to 5109\n",
      "Data columns (total 12 columns):\n",
      " #   Column             Non-Null Count  Dtype  \n",
      "---  ------             --------------  -----  \n",
      " 0   id                 5110 non-null   int64  \n",
      " 1   gender             5110 non-null   object \n",
      " 2   age                5110 non-null   float64\n",
      " 3   hypertension       5110 non-null   int64  \n",
      " 4   heart_disease      5110 non-null   int64  \n",
      " 5   ever_married       5110 non-null   object \n",
      " 6   work_type          5110 non-null   object \n",
      " 7   Residence_type     5110 non-null   object \n",
      " 8   avg_glucose_level  5110 non-null   float64\n",
      " 9   bmi                4909 non-null   float64\n",
      " 10  smoking_status     5110 non-null   object \n",
      " 11  stroke             5110 non-null   int64  \n",
      "dtypes: float64(3), int64(4), object(5)\n",
      "memory usage: 479.2+ KB\n"
     ]
    }
   ],
   "source": [
    "data.info()"
   ]
  },
  {
   "cell_type": "markdown",
   "metadata": {},
   "source": [
    "Portanto, a tabela tem 12 colunas. <br>\n",
    "De acordo com a documentação de dados: <br>\n",
    "1) id: unique identifier<br>\n",
    "2) gender: \"Male\", \"Female\" or \"Other\"<br>\n",
    "3) age: age of the patient<br>\n",
    "4) hypertension: 0 if the patient doesn't have hypertension, 1 if the patient has hypertension<br>\n",
    "5) heart_disease: 0 if the patient doesn't have any heart diseases, 1 if the patient has a heart disease<br>\n",
    "6) ever_married: \"No\" or \"Yes\"<br>\n",
    "7) work_type: \"children\", \"Govt_jov\", \"Never_worked\", \"Private\" or \"Self-employed\"<br>\n",
    "8) Residence_type: \"Rural\" or \"Urban\"<br>\n",
    "9) avg_glucose_level: average glucose level in blood<br>\n",
    "10) bmi: body mass index<br>\n",
    "11) smoking_status: \"formerly smoked\", \"never smoked\", \"smokes\" or \"Unknown\"*<br>\n",
    "12) stroke: 1 if the patient had a stroke or 0 if not<br>\n",
    "\n",
    "*Notar: \"Unknown\" em ``smoking_status`` significa que aquela informação não está disponível para aquele paciente."
   ]
  },
  {
   "cell_type": "markdown",
   "metadata": {},
   "source": [
    "## Pré-processamento de dados..."
   ]
  },
  {
   "cell_type": "code",
   "execution_count": 5,
   "metadata": {
    "execution": {
     "iopub.execute_input": "2022-02-04T14:24:45.790510Z",
     "iopub.status.busy": "2022-02-04T14:24:45.789944Z",
     "iopub.status.idle": "2022-02-04T14:24:45.820810Z",
     "shell.execute_reply": "2022-02-04T14:24:45.820128Z",
     "shell.execute_reply.started": "2022-02-04T14:24:45.790455Z"
    }
   },
   "outputs": [
    {
     "data": {
      "text/html": [
       "<div>\n",
       "<style scoped>\n",
       "    .dataframe tbody tr th:only-of-type {\n",
       "        vertical-align: middle;\n",
       "    }\n",
       "\n",
       "    .dataframe tbody tr th {\n",
       "        vertical-align: top;\n",
       "    }\n",
       "\n",
       "    .dataframe thead th {\n",
       "        text-align: right;\n",
       "    }\n",
       "</style>\n",
       "<table border=\"1\" class=\"dataframe\">\n",
       "  <thead>\n",
       "    <tr style=\"text-align: right;\">\n",
       "      <th></th>\n",
       "      <th>id</th>\n",
       "      <th>age</th>\n",
       "      <th>hypertension</th>\n",
       "      <th>heart_disease</th>\n",
       "      <th>avg_glucose_level</th>\n",
       "      <th>bmi</th>\n",
       "      <th>stroke</th>\n",
       "    </tr>\n",
       "  </thead>\n",
       "  <tbody>\n",
       "    <tr>\n",
       "      <th>count</th>\n",
       "      <td>5,110.00</td>\n",
       "      <td>5,110.00</td>\n",
       "      <td>5,110.00</td>\n",
       "      <td>5,110.00</td>\n",
       "      <td>5,110.00</td>\n",
       "      <td>4,909.00</td>\n",
       "      <td>5,110.00</td>\n",
       "    </tr>\n",
       "    <tr>\n",
       "      <th>mean</th>\n",
       "      <td>36,517.83</td>\n",
       "      <td>43.23</td>\n",
       "      <td>0.10</td>\n",
       "      <td>0.05</td>\n",
       "      <td>106.15</td>\n",
       "      <td>28.89</td>\n",
       "      <td>0.05</td>\n",
       "    </tr>\n",
       "    <tr>\n",
       "      <th>std</th>\n",
       "      <td>21,161.72</td>\n",
       "      <td>22.61</td>\n",
       "      <td>0.30</td>\n",
       "      <td>0.23</td>\n",
       "      <td>45.28</td>\n",
       "      <td>7.85</td>\n",
       "      <td>0.22</td>\n",
       "    </tr>\n",
       "    <tr>\n",
       "      <th>min</th>\n",
       "      <td>67.00</td>\n",
       "      <td>0.08</td>\n",
       "      <td>0.00</td>\n",
       "      <td>0.00</td>\n",
       "      <td>55.12</td>\n",
       "      <td>10.30</td>\n",
       "      <td>0.00</td>\n",
       "    </tr>\n",
       "    <tr>\n",
       "      <th>25%</th>\n",
       "      <td>17,741.25</td>\n",
       "      <td>25.00</td>\n",
       "      <td>0.00</td>\n",
       "      <td>0.00</td>\n",
       "      <td>77.25</td>\n",
       "      <td>23.50</td>\n",
       "      <td>0.00</td>\n",
       "    </tr>\n",
       "    <tr>\n",
       "      <th>50%</th>\n",
       "      <td>36,932.00</td>\n",
       "      <td>45.00</td>\n",
       "      <td>0.00</td>\n",
       "      <td>0.00</td>\n",
       "      <td>91.88</td>\n",
       "      <td>28.10</td>\n",
       "      <td>0.00</td>\n",
       "    </tr>\n",
       "    <tr>\n",
       "      <th>75%</th>\n",
       "      <td>54,682.00</td>\n",
       "      <td>61.00</td>\n",
       "      <td>0.00</td>\n",
       "      <td>0.00</td>\n",
       "      <td>114.09</td>\n",
       "      <td>33.10</td>\n",
       "      <td>0.00</td>\n",
       "    </tr>\n",
       "    <tr>\n",
       "      <th>max</th>\n",
       "      <td>72,940.00</td>\n",
       "      <td>82.00</td>\n",
       "      <td>1.00</td>\n",
       "      <td>1.00</td>\n",
       "      <td>271.74</td>\n",
       "      <td>97.60</td>\n",
       "      <td>1.00</td>\n",
       "    </tr>\n",
       "  </tbody>\n",
       "</table>\n",
       "</div>"
      ],
      "text/plain": [
       "             id      age  hypertension  heart_disease  avg_glucose_level  \\\n",
       "count  5,110.00 5,110.00      5,110.00       5,110.00           5,110.00   \n",
       "mean  36,517.83    43.23          0.10           0.05             106.15   \n",
       "std   21,161.72    22.61          0.30           0.23              45.28   \n",
       "min       67.00     0.08          0.00           0.00              55.12   \n",
       "25%   17,741.25    25.00          0.00           0.00              77.25   \n",
       "50%   36,932.00    45.00          0.00           0.00              91.88   \n",
       "75%   54,682.00    61.00          0.00           0.00             114.09   \n",
       "max   72,940.00    82.00          1.00           1.00             271.74   \n",
       "\n",
       "           bmi   stroke  \n",
       "count 4,909.00 5,110.00  \n",
       "mean     28.89     0.05  \n",
       "std       7.85     0.22  \n",
       "min      10.30     0.00  \n",
       "25%      23.50     0.00  \n",
       "50%      28.10     0.00  \n",
       "75%      33.10     0.00  \n",
       "max      97.60     1.00  "
      ]
     },
     "execution_count": 5,
     "metadata": {},
     "output_type": "execute_result"
    }
   ],
   "source": [
    "data.describe()"
   ]
  },
  {
   "cell_type": "markdown",
   "metadata": {},
   "source": [
    "Vamos construir um mapa de calor (heatmap) para determinar quais parâmetros estão relacionados entre si (correlação). \n",
    "\n",
    "Como a presença de correlação entre os parâmetros pode levar à deterioração da qualidade do modelo construído, tais parâmetros devem ser excluídos."
   ]
  },
  {
   "cell_type": "code",
   "execution_count": 6,
   "metadata": {
    "execution": {
     "iopub.execute_input": "2022-02-04T14:24:45.823290Z",
     "iopub.status.busy": "2022-02-04T14:24:45.822452Z",
     "iopub.status.idle": "2022-02-04T14:24:46.493887Z",
     "shell.execute_reply": "2022-02-04T14:24:46.493264Z",
     "shell.execute_reply.started": "2022-02-04T14:24:45.823244Z"
    }
   },
   "outputs": [
    {
     "data": {
      "text/plain": [
       "<AxesSubplot:>"
      ]
     },
     "execution_count": 6,
     "metadata": {},
     "output_type": "execute_result"
    },
    {
     "data": {
      "image/png": "[encoded data removed]",
      "text/plain": [
       "<Figure size 432x288 with 2 Axes>"
      ]
     },
     "metadata": {
      "needs_background": "light"
     },
     "output_type": "display_data"
    }
   ],
   "source": [
    "sns.heatmap(data.corr(), annot = True)"
   ]
  },
  {
   "cell_type": "markdown",
   "metadata": {},
   "source": [
    "De acordo com o mapa de calor obtido, vemos que a relação entre os parâmetros estudados é fraca (o maior valor é 0.33)."
   ]
  },
  {
   "cell_type": "markdown",
   "metadata": {},
   "source": [
    "Agora, precisamos codificar os valores das variáveis categóricas para construir um modelo que recebe dados numéricos..."
   ]
  },
  {
   "cell_type": "code",
   "execution_count": 7,
   "metadata": {},
   "outputs": [
    {
     "name": "stdout",
     "output_type": "stream",
     "text": [
      "id                   5110\n",
      "gender                  3\n",
      "age                   104\n",
      "hypertension            2\n",
      "heart_disease           2\n",
      "ever_married            2\n",
      "work_type               5\n",
      "Residence_type          2\n",
      "avg_glucose_level    3979\n",
      "bmi                   418\n",
      "smoking_status          4\n",
      "stroke                  2\n",
      "dtype: int64\n"
     ]
    }
   ],
   "source": [
    "# Conta o número de elementos distindos em um eixo especificado.\n",
    "# Retorna uma série com o número de elementos distintos.\n",
    "data_uniques = data.nunique()\n",
    "print(data_uniques)"
   ]
  },
  {
   "cell_type": "code",
   "execution_count": 8,
   "metadata": {},
   "outputs": [
    {
     "name": "stdout",
     "output_type": "stream",
     "text": [
      "['hypertension', 'heart_disease', 'ever_married', 'Residence_type', 'stroke']\n"
     ]
    }
   ],
   "source": [
    "# Cria uma lista com as variáveis binárias\n",
    "binary_vals = list(data_uniques[data_uniques == 2].index) \n",
    "print(binary_vals)"
   ]
  },
  {
   "cell_type": "code",
   "execution_count": 9,
   "metadata": {},
   "outputs": [
    {
     "data": {
      "text/plain": [
       "hypertension       int64\n",
       "heart_disease      int64\n",
       "ever_married      object\n",
       "Residence_type    object\n",
       "stroke             int64\n",
       "dtype: object"
      ]
     },
     "execution_count": 9,
     "metadata": {},
     "output_type": "execute_result"
    }
   ],
   "source": [
    "# Quais dados são categóricos e quais numéricos?\n",
    "data[binary_vals].dtypes "
   ]
  },
  {
   "cell_type": "code",
   "execution_count": 10,
   "metadata": {},
   "outputs": [
    {
     "name": "stdout",
     "output_type": "stream",
     "text": [
      "['gender', 'work_type', 'smoking_status']\n"
     ]
    }
   ],
   "source": [
    "# Determinaremos as variáveis categóricas\n",
    "categorical_vals  = list(data_uniques[(data_uniques > 2) & (data_uniques <=6)].index)\n",
    "print(categorical_vals)"
   ]
  },
  {
   "cell_type": "code",
   "execution_count": null,
   "metadata": {},
   "outputs": [],
   "source": []
  },
  {
   "cell_type": "code",
   "execution_count": 11,
   "metadata": {},
   "outputs": [],
   "source": [
    "# Iteramos sobre todas as variáveis categóricas, ordenando-as, e então aplicamos o processo de \"encode\"\n",
    "#[[i, list(data[i].unique())] for i in categorical_vals] "
   ]
  },
  {
   "cell_type": "code",
   "execution_count": 12,
   "metadata": {},
   "outputs": [
    {
     "name": "stdout",
     "output_type": "stream",
     "text": [
      "['bmi', 'avg_glucose_level', 'id', 'age']\n"
     ]
    }
   ],
   "source": [
    "# Extendemos as variaveis numericas sobre todo o dataset e variáveis binarias\n",
    "numeric_vals = list(set(data.columns) - set(categorical_vals)- set(binary_vals))\n",
    "print(numeric_vals)"
   ]
  },
  {
   "cell_type": "markdown",
   "metadata": {},
   "source": [
    "**O processo de ``Encoding``:**"
   ]
  },
  {
   "cell_type": "code",
   "execution_count": 13,
   "metadata": {},
   "outputs": [],
   "source": [
    "from sklearn.preprocessing import LabelBinarizer, LabelEncoder, OrdinalEncoder"
   ]
  },
  {
   "cell_type": "markdown",
   "metadata": {},
   "source": [
    "**LabelBinarizer:** converte valores naturalmente binários (Yes, No, True, False) em (0 & 1).\n",
    "\n",
    "**LabelEncoder:** usado para transformar classes não numéricas desde que possível.\n",
    "\n",
    "**OrdinalEncoder:** cada valor em uma dada categoria assume um valor inteiro. Por exemplo, \"vermelho\" é 1, \"azul\" é 2, e etc."
   ]
  },
  {
   "cell_type": "code",
   "execution_count": 14,
   "metadata": {},
   "outputs": [],
   "source": [
    "lb, le, lo = LabelBinarizer(), LabelEncoder(), OrdinalEncoder()"
   ]
  },
  {
   "cell_type": "code",
   "execution_count": 15,
   "metadata": {},
   "outputs": [],
   "source": [
    "for col in categorical_vals: \n",
    "    data[col] = le.fit_transform(data[col])\n",
    "    \n",
    "for col in binary_vals:\n",
    "    data[col] = lb.fit_transform(data[col])"
   ]
  },
  {
   "cell_type": "code",
   "execution_count": 16,
   "metadata": {},
   "outputs": [
    {
     "data": {
      "text/html": [
       "<div>\n",
       "<style scoped>\n",
       "    .dataframe tbody tr th:only-of-type {\n",
       "        vertical-align: middle;\n",
       "    }\n",
       "\n",
       "    .dataframe tbody tr th {\n",
       "        vertical-align: top;\n",
       "    }\n",
       "\n",
       "    .dataframe thead th {\n",
       "        text-align: right;\n",
       "    }\n",
       "</style>\n",
       "<table border=\"1\" class=\"dataframe\">\n",
       "  <thead>\n",
       "    <tr style=\"text-align: right;\">\n",
       "      <th></th>\n",
       "      <th>id</th>\n",
       "      <th>gender</th>\n",
       "      <th>age</th>\n",
       "      <th>hypertension</th>\n",
       "      <th>heart_disease</th>\n",
       "      <th>ever_married</th>\n",
       "      <th>work_type</th>\n",
       "      <th>Residence_type</th>\n",
       "      <th>avg_glucose_level</th>\n",
       "      <th>bmi</th>\n",
       "      <th>smoking_status</th>\n",
       "      <th>stroke</th>\n",
       "    </tr>\n",
       "  </thead>\n",
       "  <tbody>\n",
       "    <tr>\n",
       "      <th>0</th>\n",
       "      <td>9046</td>\n",
       "      <td>1</td>\n",
       "      <td>67.00</td>\n",
       "      <td>0</td>\n",
       "      <td>1</td>\n",
       "      <td>1</td>\n",
       "      <td>2</td>\n",
       "      <td>1</td>\n",
       "      <td>228.69</td>\n",
       "      <td>36.60</td>\n",
       "      <td>1</td>\n",
       "      <td>1</td>\n",
       "    </tr>\n",
       "    <tr>\n",
       "      <th>1</th>\n",
       "      <td>51676</td>\n",
       "      <td>0</td>\n",
       "      <td>61.00</td>\n",
       "      <td>0</td>\n",
       "      <td>0</td>\n",
       "      <td>1</td>\n",
       "      <td>3</td>\n",
       "      <td>0</td>\n",
       "      <td>202.21</td>\n",
       "      <td>nan</td>\n",
       "      <td>2</td>\n",
       "      <td>1</td>\n",
       "    </tr>\n",
       "    <tr>\n",
       "      <th>2</th>\n",
       "      <td>31112</td>\n",
       "      <td>1</td>\n",
       "      <td>80.00</td>\n",
       "      <td>0</td>\n",
       "      <td>1</td>\n",
       "      <td>1</td>\n",
       "      <td>2</td>\n",
       "      <td>0</td>\n",
       "      <td>105.92</td>\n",
       "      <td>32.50</td>\n",
       "      <td>2</td>\n",
       "      <td>1</td>\n",
       "    </tr>\n",
       "    <tr>\n",
       "      <th>3</th>\n",
       "      <td>60182</td>\n",
       "      <td>0</td>\n",
       "      <td>49.00</td>\n",
       "      <td>0</td>\n",
       "      <td>0</td>\n",
       "      <td>1</td>\n",
       "      <td>2</td>\n",
       "      <td>1</td>\n",
       "      <td>171.23</td>\n",
       "      <td>34.40</td>\n",
       "      <td>3</td>\n",
       "      <td>1</td>\n",
       "    </tr>\n",
       "    <tr>\n",
       "      <th>4</th>\n",
       "      <td>1665</td>\n",
       "      <td>0</td>\n",
       "      <td>79.00</td>\n",
       "      <td>1</td>\n",
       "      <td>0</td>\n",
       "      <td>1</td>\n",
       "      <td>3</td>\n",
       "      <td>0</td>\n",
       "      <td>174.12</td>\n",
       "      <td>24.00</td>\n",
       "      <td>2</td>\n",
       "      <td>1</td>\n",
       "    </tr>\n",
       "  </tbody>\n",
       "</table>\n",
       "</div>"
      ],
      "text/plain": [
       "      id  gender   age  hypertension  heart_disease  ever_married  work_type  \\\n",
       "0   9046       1 67.00             0              1             1          2   \n",
       "1  51676       0 61.00             0              0             1          3   \n",
       "2  31112       1 80.00             0              1             1          2   \n",
       "3  60182       0 49.00             0              0             1          2   \n",
       "4   1665       0 79.00             1              0             1          3   \n",
       "\n",
       "   Residence_type  avg_glucose_level   bmi  smoking_status  stroke  \n",
       "0               1             228.69 36.60               1       1  \n",
       "1               0             202.21   nan               2       1  \n",
       "2               0             105.92 32.50               2       1  \n",
       "3               1             171.23 34.40               3       1  \n",
       "4               0             174.12 24.00               2       1  "
      ]
     },
     "execution_count": 16,
     "metadata": {},
     "output_type": "execute_result"
    }
   ],
   "source": [
    "data.head()"
   ]
  },
  {
   "cell_type": "code",
   "execution_count": 17,
   "metadata": {},
   "outputs": [],
   "source": [
    "#data.stroke.value_counts() \n"
   ]
  },
  {
   "cell_type": "code",
   "execution_count": 18,
   "metadata": {
    "execution": {
     "iopub.execute_input": "2022-02-04T14:24:46.495988Z",
     "iopub.status.busy": "2022-02-04T14:24:46.495248Z",
     "iopub.status.idle": "2022-02-04T14:24:46.511442Z",
     "shell.execute_reply": "2022-02-04T14:24:46.510777Z",
     "shell.execute_reply.started": "2022-02-04T14:24:46.495937Z"
    }
   },
   "outputs": [],
   "source": [
    "#data = pd.get_dummies(data, columns = ['gender', 'ever_married', 'work_type', 'Residence_type', \n",
    "#                                       'smoking_status'])"
   ]
  },
  {
   "cell_type": "markdown",
   "metadata": {},
   "source": [
    "Verificamos também se no conjunto de dados há duplicatas."
   ]
  },
  {
   "cell_type": "code",
   "execution_count": 19,
   "metadata": {
    "execution": {
     "iopub.execute_input": "2022-02-04T14:24:46.513477Z",
     "iopub.status.busy": "2022-02-04T14:24:46.512748Z",
     "iopub.status.idle": "2022-02-04T14:24:46.527108Z",
     "shell.execute_reply": "2022-02-04T14:24:46.526139Z",
     "shell.execute_reply.started": "2022-02-04T14:24:46.513430Z"
    }
   },
   "outputs": [
    {
     "data": {
      "text/plain": [
       "0"
      ]
     },
     "execution_count": 19,
     "metadata": {},
     "output_type": "execute_result"
    }
   ],
   "source": [
    "data.duplicated().sum()"
   ]
  },
  {
   "cell_type": "markdown",
   "metadata": {},
   "source": [
    "Vamos ver quais parâmetros têm valores ausentes ou não numéricos (``NaN``)."
   ]
  },
  {
   "cell_type": "code",
   "execution_count": 20,
   "metadata": {
    "execution": {
     "iopub.execute_input": "2022-02-04T14:24:46.529075Z",
     "iopub.status.busy": "2022-02-04T14:24:46.528669Z",
     "iopub.status.idle": "2022-02-04T14:24:46.539407Z",
     "shell.execute_reply": "2022-02-04T14:24:46.538581Z",
     "shell.execute_reply.started": "2022-02-04T14:24:46.529024Z"
    }
   },
   "outputs": [
    {
     "data": {
      "text/plain": [
       "id                     0\n",
       "gender                 0\n",
       "age                    0\n",
       "hypertension           0\n",
       "heart_disease          0\n",
       "ever_married           0\n",
       "work_type              0\n",
       "Residence_type         0\n",
       "avg_glucose_level      0\n",
       "bmi                  201\n",
       "smoking_status         0\n",
       "stroke                 0\n",
       "dtype: int64"
      ]
     },
     "execution_count": 20,
     "metadata": {},
     "output_type": "execute_result"
    }
   ],
   "source": [
    "data.isna().sum()"
   ]
  },
  {
   "cell_type": "code",
   "execution_count": 21,
   "metadata": {
    "execution": {
     "iopub.execute_input": "2022-02-04T14:24:46.541897Z",
     "iopub.status.busy": "2022-02-04T14:24:46.541659Z",
     "iopub.status.idle": "2022-02-04T14:24:46.554170Z",
     "shell.execute_reply": "2022-02-04T14:24:46.553126Z",
     "shell.execute_reply.started": "2022-02-04T14:24:46.541868Z"
    }
   },
   "outputs": [
    {
     "data": {
      "text/plain": [
       "id                  0.00\n",
       "gender              0.00\n",
       "age                 0.00\n",
       "hypertension        0.00\n",
       "heart_disease       0.00\n",
       "ever_married        0.00\n",
       "work_type           0.00\n",
       "Residence_type      0.00\n",
       "avg_glucose_level   0.00\n",
       "bmi                 0.04\n",
       "smoking_status      0.00\n",
       "stroke              0.00\n",
       "dtype: float64"
      ]
     },
     "execution_count": 21,
     "metadata": {},
     "output_type": "execute_result"
    }
   ],
   "source": [
    "data.isna().mean()"
   ]
  },
  {
   "cell_type": "markdown",
   "metadata": {},
   "source": [
    "Existem lacunas nos dados na coluna ``bmi``, a porcentagem de valores ausentes é de cerca de 4%. Para preencher com mais precisão os valores ausentes, usaremos o algoritmo de regressão linear."
   ]
  },
  {
   "cell_type": "markdown",
   "metadata": {},
   "source": [
    "Criaremos uma coluna no conjunto de dados que indicará se há um valor ausente."
   ]
  },
  {
   "cell_type": "code",
   "execution_count": 22,
   "metadata": {
    "execution": {
     "iopub.execute_input": "2022-02-04T14:24:46.555839Z",
     "iopub.status.busy": "2022-02-04T14:24:46.555579Z",
     "iopub.status.idle": "2022-02-04T14:24:46.561281Z",
     "shell.execute_reply": "2022-02-04T14:24:46.560718Z",
     "shell.execute_reply.started": "2022-02-04T14:24:46.555807Z"
    }
   },
   "outputs": [],
   "source": [
    "data['pass'] = data.bmi.isna()"
   ]
  },
  {
   "cell_type": "markdown",
   "metadata": {},
   "source": [
    "Além disso, as linhas em que não houverem valores ausentes serão usadas para treinar o modelo."
   ]
  },
  {
   "cell_type": "code",
   "execution_count": 23,
   "metadata": {
    "execution": {
     "iopub.execute_input": "2022-02-04T14:24:46.562844Z",
     "iopub.status.busy": "2022-02-04T14:24:46.562472Z",
     "iopub.status.idle": "2022-02-04T14:24:46.578041Z",
     "shell.execute_reply": "2022-02-04T14:24:46.577302Z",
     "shell.execute_reply.started": "2022-02-04T14:24:46.562802Z"
    }
   },
   "outputs": [],
   "source": [
    "train = data.loc[data['pass'] == False]\n",
    "x_train = train.drop(['pass', 'bmi', 'stroke', 'id'], axis = 1)\n",
    "y_train = train.bmi\n",
    "target = data.loc[data['pass'] == True]\n",
    "x_target = target.drop(['pass', 'bmi', 'stroke', 'id'], axis = 1)"
   ]
  },
  {
   "cell_type": "markdown",
   "metadata": {},
   "source": [
    "Vamos construir um modelo de regressão linear para preencher os valores ausentes."
   ]
  },
  {
   "cell_type": "code",
   "execution_count": 24,
   "metadata": {
    "execution": {
     "iopub.execute_input": "2022-02-04T14:24:46.579760Z",
     "iopub.status.busy": "2022-02-04T14:24:46.579423Z",
     "iopub.status.idle": "2022-02-04T14:24:46.602899Z",
     "shell.execute_reply": "2022-02-04T14:24:46.601901Z",
     "shell.execute_reply.started": "2022-02-04T14:24:46.579717Z"
    }
   },
   "outputs": [],
   "source": [
    "from sklearn.linear_model import LinearRegression \n",
    "\n",
    "regressor = LinearRegression() \n",
    "regressor.fit(x_train, y_train)\n",
    "\n",
    "result = regressor.predict(x_target)\n",
    "y_pred = pd.Series(result)"
   ]
  },
  {
   "cell_type": "code",
   "execution_count": 25,
   "metadata": {
    "execution": {
     "iopub.execute_input": "2022-02-04T14:24:46.611411Z",
     "iopub.status.busy": "2022-02-04T14:24:46.610881Z",
     "iopub.status.idle": "2022-02-04T14:24:46.622741Z",
     "shell.execute_reply": "2022-02-04T14:24:46.621771Z",
     "shell.execute_reply.started": "2022-02-04T14:24:46.611367Z"
    }
   },
   "outputs": [],
   "source": [
    "y_pred = np.array(y_pred)"
   ]
  },
  {
   "cell_type": "code",
   "execution_count": 26,
   "metadata": {
    "execution": {
     "iopub.execute_input": "2022-02-04T14:24:46.624727Z",
     "iopub.status.busy": "2022-02-04T14:24:46.624226Z",
     "iopub.status.idle": "2022-02-04T14:24:46.642333Z",
     "shell.execute_reply": "2022-02-04T14:24:46.641535Z",
     "shell.execute_reply.started": "2022-02-04T14:24:46.624682Z"
    }
   },
   "outputs": [
    {
     "data": {
      "text/plain": [
       "id                     0\n",
       "gender                 0\n",
       "age                    0\n",
       "hypertension           0\n",
       "heart_disease          0\n",
       "ever_married           0\n",
       "work_type              0\n",
       "Residence_type         0\n",
       "avg_glucose_level      0\n",
       "bmi                  201\n",
       "smoking_status         0\n",
       "stroke                 0\n",
       "pass                   0\n",
       "dtype: int64"
      ]
     },
     "execution_count": 26,
     "metadata": {},
     "output_type": "execute_result"
    }
   ],
   "source": [
    "data.isna().sum()"
   ]
  },
  {
   "cell_type": "code",
   "execution_count": 27,
   "metadata": {
    "execution": {
     "iopub.execute_input": "2022-02-04T14:24:46.644654Z",
     "iopub.status.busy": "2022-02-04T14:24:46.644176Z",
     "iopub.status.idle": "2022-02-04T14:24:46.651340Z",
     "shell.execute_reply": "2022-02-04T14:24:46.650552Z",
     "shell.execute_reply.started": "2022-02-04T14:24:46.644608Z"
    }
   },
   "outputs": [
    {
     "name": "stderr",
     "output_type": "stream",
     "text": [
      "/home/roder/anaconda3/envs/deep/lib/python3.7/site-packages/pandas/core/indexing.py:1743: SettingWithCopyWarning: \n",
      "A value is trying to be set on a copy of a slice from a DataFrame.\n",
      "Try using .loc[row_indexer,col_indexer] = value instead\n",
      "\n",
      "See the caveats in the documentation: https://pandas.pydata.org/pandas-docs/stable/user_guide/indexing.html#returning-a-view-versus-a-copy\n",
      "  isetter(ilocs[0], value)\n"
     ]
    }
   ],
   "source": [
    "target.loc[:, 'bmi'] = y_pred"
   ]
  },
  {
   "cell_type": "markdown",
   "metadata": {},
   "source": [
    "Vamos coletar o conjunto de dados recebido sem lacunas."
   ]
  },
  {
   "cell_type": "code",
   "execution_count": 28,
   "metadata": {
    "execution": {
     "iopub.execute_input": "2022-02-04T14:24:46.653413Z",
     "iopub.status.busy": "2022-02-04T14:24:46.652923Z",
     "iopub.status.idle": "2022-02-04T14:24:46.664594Z",
     "shell.execute_reply": "2022-02-04T14:24:46.663602Z",
     "shell.execute_reply.started": "2022-02-04T14:24:46.653366Z"
    }
   },
   "outputs": [],
   "source": [
    "df = train.append(target, ignore_index=True) "
   ]
  },
  {
   "cell_type": "code",
   "execution_count": 29,
   "metadata": {
    "execution": {
     "iopub.execute_input": "2022-02-04T14:24:46.666755Z",
     "iopub.status.busy": "2022-02-04T14:24:46.666080Z",
     "iopub.status.idle": "2022-02-04T14:24:46.682943Z",
     "shell.execute_reply": "2022-02-04T14:24:46.681976Z",
     "shell.execute_reply.started": "2022-02-04T14:24:46.666708Z"
    }
   },
   "outputs": [
    {
     "data": {
      "text/plain": [
       "id                   0\n",
       "gender               0\n",
       "age                  0\n",
       "hypertension         0\n",
       "heart_disease        0\n",
       "ever_married         0\n",
       "work_type            0\n",
       "Residence_type       0\n",
       "avg_glucose_level    0\n",
       "bmi                  0\n",
       "smoking_status       0\n",
       "stroke               0\n",
       "pass                 0\n",
       "dtype: int64"
      ]
     },
     "execution_count": 29,
     "metadata": {},
     "output_type": "execute_result"
    }
   ],
   "source": [
    "df.isna().sum()"
   ]
  },
  {
   "cell_type": "markdown",
   "metadata": {},
   "source": [
    "Agora não há lacunas nos dados e podemos prosseguir para a criação do modelo completo. \n",
    "\n",
    "Vamos remover a coluna ``pass`` antes de fazer isso, pois essas informações não serão usadas para construir o modelo completo."
   ]
  },
  {
   "cell_type": "code",
   "execution_count": 30,
   "metadata": {
    "execution": {
     "iopub.execute_input": "2022-02-04T14:24:46.684975Z",
     "iopub.status.busy": "2022-02-04T14:24:46.684527Z",
     "iopub.status.idle": "2022-02-04T14:24:46.724265Z",
     "shell.execute_reply": "2022-02-04T14:24:46.723429Z",
     "shell.execute_reply.started": "2022-02-04T14:24:46.684933Z"
    }
   },
   "outputs": [],
   "source": [
    "df=df.drop('pass', axis = 1)\n",
    "df=df.drop('id', axis = 1)"
   ]
  },
  {
   "cell_type": "code",
   "execution_count": 31,
   "metadata": {},
   "outputs": [
    {
     "data": {
      "text/html": [
       "<div>\n",
       "<style scoped>\n",
       "    .dataframe tbody tr th:only-of-type {\n",
       "        vertical-align: middle;\n",
       "    }\n",
       "\n",
       "    .dataframe tbody tr th {\n",
       "        vertical-align: top;\n",
       "    }\n",
       "\n",
       "    .dataframe thead th {\n",
       "        text-align: right;\n",
       "    }\n",
       "</style>\n",
       "<table border=\"1\" class=\"dataframe\">\n",
       "  <thead>\n",
       "    <tr style=\"text-align: right;\">\n",
       "      <th></th>\n",
       "      <th>gender</th>\n",
       "      <th>age</th>\n",
       "      <th>hypertension</th>\n",
       "      <th>heart_disease</th>\n",
       "      <th>ever_married</th>\n",
       "      <th>work_type</th>\n",
       "      <th>Residence_type</th>\n",
       "      <th>avg_glucose_level</th>\n",
       "      <th>bmi</th>\n",
       "      <th>smoking_status</th>\n",
       "      <th>stroke</th>\n",
       "    </tr>\n",
       "  </thead>\n",
       "  <tbody>\n",
       "    <tr>\n",
       "      <th>0</th>\n",
       "      <td>1</td>\n",
       "      <td>67.00</td>\n",
       "      <td>0</td>\n",
       "      <td>1</td>\n",
       "      <td>1</td>\n",
       "      <td>2</td>\n",
       "      <td>1</td>\n",
       "      <td>228.69</td>\n",
       "      <td>36.60</td>\n",
       "      <td>1</td>\n",
       "      <td>1</td>\n",
       "    </tr>\n",
       "    <tr>\n",
       "      <th>1</th>\n",
       "      <td>1</td>\n",
       "      <td>80.00</td>\n",
       "      <td>0</td>\n",
       "      <td>1</td>\n",
       "      <td>1</td>\n",
       "      <td>2</td>\n",
       "      <td>0</td>\n",
       "      <td>105.92</td>\n",
       "      <td>32.50</td>\n",
       "      <td>2</td>\n",
       "      <td>1</td>\n",
       "    </tr>\n",
       "    <tr>\n",
       "      <th>2</th>\n",
       "      <td>0</td>\n",
       "      <td>49.00</td>\n",
       "      <td>0</td>\n",
       "      <td>0</td>\n",
       "      <td>1</td>\n",
       "      <td>2</td>\n",
       "      <td>1</td>\n",
       "      <td>171.23</td>\n",
       "      <td>34.40</td>\n",
       "      <td>3</td>\n",
       "      <td>1</td>\n",
       "    </tr>\n",
       "    <tr>\n",
       "      <th>3</th>\n",
       "      <td>0</td>\n",
       "      <td>79.00</td>\n",
       "      <td>1</td>\n",
       "      <td>0</td>\n",
       "      <td>1</td>\n",
       "      <td>3</td>\n",
       "      <td>0</td>\n",
       "      <td>174.12</td>\n",
       "      <td>24.00</td>\n",
       "      <td>2</td>\n",
       "      <td>1</td>\n",
       "    </tr>\n",
       "    <tr>\n",
       "      <th>4</th>\n",
       "      <td>1</td>\n",
       "      <td>81.00</td>\n",
       "      <td>0</td>\n",
       "      <td>0</td>\n",
       "      <td>1</td>\n",
       "      <td>2</td>\n",
       "      <td>1</td>\n",
       "      <td>186.21</td>\n",
       "      <td>29.00</td>\n",
       "      <td>1</td>\n",
       "      <td>1</td>\n",
       "    </tr>\n",
       "  </tbody>\n",
       "</table>\n",
       "</div>"
      ],
      "text/plain": [
       "   gender   age  hypertension  heart_disease  ever_married  work_type  \\\n",
       "0       1 67.00             0              1             1          2   \n",
       "1       1 80.00             0              1             1          2   \n",
       "2       0 49.00             0              0             1          2   \n",
       "3       0 79.00             1              0             1          3   \n",
       "4       1 81.00             0              0             1          2   \n",
       "\n",
       "   Residence_type  avg_glucose_level   bmi  smoking_status  stroke  \n",
       "0               1             228.69 36.60               1       1  \n",
       "1               0             105.92 32.50               2       1  \n",
       "2               1             171.23 34.40               3       1  \n",
       "3               0             174.12 24.00               2       1  \n",
       "4               1             186.21 29.00               1       1  "
      ]
     },
     "execution_count": 31,
     "metadata": {},
     "output_type": "execute_result"
    }
   ],
   "source": [
    "df.head()"
   ]
  },
  {
   "cell_type": "code",
   "execution_count": 32,
   "metadata": {},
   "outputs": [
    {
     "data": {
      "image/png": "[encoded data removed]",
      "text/plain": [
       "<Figure size 432x288 with 1 Axes>"
      ]
     },
     "metadata": {
      "needs_background": "light"
     },
     "output_type": "display_data"
    }
   ],
   "source": [
    "ax = plt.axes()\n",
    "ax.hist(df.stroke, bins=5, alpha=0.8, color='red')\n",
    "ax.set(xlabel='Distribuição das classes, AVC(1), e sem AVC (0)',\n",
    "       ylabel='Observações',\n",
    "       title='Ocorrência de AVC')\n",
    "plt.show()"
   ]
  },
  {
   "cell_type": "markdown",
   "metadata": {},
   "source": [
    "Classes totalmente desbalanceadas..."
   ]
  },
  {
   "cell_type": "markdown",
   "metadata": {},
   "source": [
    "## Construindo os modelos..."
   ]
  },
  {
   "cell_type": "code",
   "execution_count": 33,
   "metadata": {
    "execution": {
     "iopub.execute_input": "2022-02-04T14:24:46.729122Z",
     "iopub.status.busy": "2022-02-04T14:24:46.728718Z",
     "iopub.status.idle": "2022-02-04T14:24:46.733420Z",
     "shell.execute_reply": "2022-02-04T14:24:46.732601Z",
     "shell.execute_reply.started": "2022-02-04T14:24:46.729076Z"
    }
   },
   "outputs": [],
   "source": [
    "from sklearn.linear_model import LogisticRegression\n",
    "from sklearn.model_selection import GridSearchCV\n",
    "from sklearn.metrics import roc_curve, auc, confusion_matrix, classification_report\n",
    "from sklearn.model_selection import train_test_split\n",
    "from sklearn.preprocessing import StandardScaler, MinMaxScaler\n",
    "from sklearn.metrics import accuracy_score, precision_score, recall_score, f1_score"
   ]
  },
  {
   "cell_type": "code",
   "execution_count": 34,
   "metadata": {
    "execution": {
     "iopub.execute_input": "2022-02-04T14:24:46.734987Z",
     "iopub.status.busy": "2022-02-04T14:24:46.734328Z",
     "iopub.status.idle": "2022-02-04T14:24:46.751799Z",
     "shell.execute_reply": "2022-02-04T14:24:46.750949Z",
     "shell.execute_reply.started": "2022-02-04T14:24:46.734950Z"
    }
   },
   "outputs": [],
   "source": [
    "# dividimos os dados iniciais em treinamento e teste\n",
    "train, test = train_test_split(df, \n",
    "                               train_size=0.7, \n",
    "                               random_state=0)\n",
    "\n",
    "X_train = train.drop('stroke', axis = 1)\n",
    "y_train = train.stroke\n",
    "X_test = test.drop('stroke', axis = 1)\n",
    "y_test = test.stroke"
   ]
  },
  {
   "cell_type": "code",
   "execution_count": 35,
   "metadata": {},
   "outputs": [],
   "source": [
    "scaler = StandardScaler() #MinMaxScaler()\n",
    "\n",
    "x_train = scaler.fit_transform(X_train)\n",
    "\n",
    "x_test = scaler.transform(X_test)"
   ]
  },
  {
   "cell_type": "code",
   "execution_count": 36,
   "metadata": {
    "execution": {
     "iopub.execute_input": "2022-02-04T14:24:46.753779Z",
     "iopub.status.busy": "2022-02-04T14:24:46.753050Z",
     "iopub.status.idle": "2022-02-04T14:24:46.791235Z",
     "shell.execute_reply": "2022-02-04T14:24:46.790564Z",
     "shell.execute_reply.started": "2022-02-04T14:24:46.753741Z"
    }
   },
   "outputs": [],
   "source": [
    "model = LogisticRegression(solver='liblinear', random_state=0).fit(x_train, y_train)"
   ]
  },
  {
   "cell_type": "code",
   "execution_count": 37,
   "metadata": {
    "execution": {
     "iopub.execute_input": "2022-02-04T14:24:46.792783Z",
     "iopub.status.busy": "2022-02-04T14:24:46.792225Z",
     "iopub.status.idle": "2022-02-04T14:24:46.801375Z",
     "shell.execute_reply": "2022-02-04T14:24:46.800588Z",
     "shell.execute_reply.started": "2022-02-04T14:24:46.792749Z"
    }
   },
   "outputs": [],
   "source": [
    "result = model.predict(x_test)"
   ]
  },
  {
   "cell_type": "code",
   "execution_count": 38,
   "metadata": {
    "execution": {
     "iopub.execute_input": "2022-02-04T14:24:46.803107Z",
     "iopub.status.busy": "2022-02-04T14:24:46.802595Z",
     "iopub.status.idle": "2022-02-04T14:24:46.807826Z",
     "shell.execute_reply": "2022-02-04T14:24:46.807124Z",
     "shell.execute_reply.started": "2022-02-04T14:24:46.803075Z"
    }
   },
   "outputs": [],
   "source": [
    "param_grid = [\n",
    "    { #parâmetros do modelo:\n",
    "        'penalty' : ['l1', 'l2'],\n",
    "        'C': (1, 5, 10, 15, 20),\n",
    "        'max_iter' : (25, 100, 200),\n",
    "        'solver' : ['liblinear']}\n",
    "]"
   ]
  },
  {
   "cell_type": "code",
   "execution_count": 39,
   "metadata": {},
   "outputs": [
    {
     "data": {
      "text/plain": [
       "[{'penalty': ['l1', 'l2'],\n",
       "  'C': (1, 5, 10, 15, 20),\n",
       "  'max_iter': (25, 100, 200),\n",
       "  'solver': ['liblinear']}]"
      ]
     },
     "execution_count": 39,
     "metadata": {},
     "output_type": "execute_result"
    }
   ],
   "source": [
    "param_grid"
   ]
  },
  {
   "cell_type": "code",
   "execution_count": 40,
   "metadata": {
    "execution": {
     "iopub.execute_input": "2022-02-04T14:24:46.823259Z",
     "iopub.status.busy": "2022-02-04T14:24:46.822957Z",
     "iopub.status.idle": "2022-02-04T14:24:50.074720Z",
     "shell.execute_reply": "2022-02-04T14:24:50.073592Z",
     "shell.execute_reply.started": "2022-02-04T14:24:46.823220Z"
    },
    "scrolled": true
   },
   "outputs": [
    {
     "name": "stdout",
     "output_type": "stream",
     "text": [
      "Fitting 10 folds for each of 30 candidates, totalling 300 fits\n"
     ]
    }
   ],
   "source": [
    "clf = GridSearchCV(LogisticRegression(), param_grid = param_grid, cv = 10, verbose=True, n_jobs=-1)\n",
    "best_clf_regression = clf.fit(x_train, y_train)\n",
    "result_lr = best_clf_regression.predict(x_test)"
   ]
  },
  {
   "cell_type": "markdown",
   "metadata": {},
   "source": [
    "Podemos utilizar a curva ROC (temos um problema de classificação binária, ela pode ser interessante) para avaliarmos o modelo de regressão logística construído."
   ]
  },
  {
   "cell_type": "code",
   "execution_count": 41,
   "metadata": {
    "execution": {
     "iopub.execute_input": "2022-02-04T14:24:50.077170Z",
     "iopub.status.busy": "2022-02-04T14:24:50.076627Z",
     "iopub.status.idle": "2022-02-04T14:24:50.304318Z",
     "shell.execute_reply": "2022-02-04T14:24:50.303439Z",
     "shell.execute_reply.started": "2022-02-04T14:24:50.077113Z"
    }
   },
   "outputs": [
    {
     "data": {
      "image/png": "[encoded data removed]",
      "text/plain": [
       "<Figure size 432x288 with 1 Axes>"
      ]
     },
     "metadata": {
      "needs_background": "light"
     },
     "output_type": "display_data"
    }
   ],
   "source": [
    "probs = model.predict_proba(x_test)\n",
    "preds = probs[:,1]\n",
    "fpr, tpr, threshold = roc_curve(y_test, preds)\n",
    "roc_auc = auc(fpr, tpr)\n",
    "\n",
    "plt.title('Receiver Operating Characteristic (ROC)')\n",
    "plt.plot(fpr, tpr, 'b', label = 'AUC = %0.2f' % roc_auc)\n",
    "plt.legend(loc = 'lower right')\n",
    "plt.plot([0, 1], [0, 1],'r--')\n",
    "plt.xlim([0, 1])\n",
    "plt.ylim([0, 1])\n",
    "plt.ylabel('True Positive Rate')\n",
    "plt.xlabel('False Positive Rate')\n",
    "plt.show()"
   ]
  },
  {
   "cell_type": "markdown",
   "metadata": {},
   "source": [
    "Para comparação, vamos construir outra ROC para o modelo de regressão logística em que os parâmetros foram selecionados via ``grid search``."
   ]
  },
  {
   "cell_type": "code",
   "execution_count": 42,
   "metadata": {
    "execution": {
     "iopub.execute_input": "2022-02-04T14:24:50.311777Z",
     "iopub.status.busy": "2022-02-04T14:24:50.311294Z",
     "iopub.status.idle": "2022-02-04T14:24:50.537478Z",
     "shell.execute_reply": "2022-02-04T14:24:50.536634Z",
     "shell.execute_reply.started": "2022-02-04T14:24:50.311735Z"
    }
   },
   "outputs": [
    {
     "data": {
      "image/png": "[encoded data removed]",
      "text/plain": [
       "<Figure size 432x288 with 1 Axes>"
      ]
     },
     "metadata": {
      "needs_background": "light"
     },
     "output_type": "display_data"
    }
   ],
   "source": [
    "probs = best_clf_regression.predict_proba(x_test)\n",
    "preds = probs[:,1]\n",
    "fpr, tpr, threshold = roc_curve(y_test, preds)\n",
    "roc_auc = auc(fpr, tpr)\n",
    "\n",
    "plt.title('Receiver Operating Characteristic (ROC)')\n",
    "plt.plot(fpr, tpr, 'b', label = 'AUC = %0.2f' % roc_auc)\n",
    "plt.legend(loc = 'lower right')\n",
    "plt.plot([0, 1], [0, 1],'r--')\n",
    "plt.xlim([0, 1])\n",
    "plt.ylim([0, 1])\n",
    "plt.ylabel('True Positive Rate')\n",
    "plt.xlabel('False Positive Rate')\n",
    "plt.show()"
   ]
  },
  {
   "cell_type": "code",
   "execution_count": 43,
   "metadata": {},
   "outputs": [
    {
     "name": "stdout",
     "output_type": "stream",
     "text": [
      "[[1457    0]\n",
      " [  75    1]]\n"
     ]
    }
   ],
   "source": [
    "print(confusion_matrix(y_test, np.array(result_lr, 'float16')))"
   ]
  },
  {
   "cell_type": "code",
   "execution_count": 44,
   "metadata": {},
   "outputs": [
    {
     "name": "stdout",
     "output_type": "stream",
     "text": [
      "[[1457    0]\n",
      " [  75    1]]\n"
     ]
    }
   ],
   "source": [
    "print(confusion_matrix(y_test, np.array(result, 'float16')))"
   ]
  },
  {
   "cell_type": "code",
   "execution_count": 45,
   "metadata": {},
   "outputs": [
    {
     "name": "stdout",
     "output_type": "stream",
     "text": [
      "              precision    recall  f1-score   support\n",
      "\n",
      "           0       0.95      1.00      0.97      1457\n",
      "           1       1.00      0.01      0.03        76\n",
      "\n",
      "    accuracy                           0.95      1533\n",
      "   macro avg       0.98      0.51      0.50      1533\n",
      "weighted avg       0.95      0.95      0.93      1533\n",
      "\n"
     ]
    }
   ],
   "source": [
    "print(classification_report(y_test, result_lr))"
   ]
  },
  {
   "cell_type": "markdown",
   "metadata": {},
   "source": [
    "De acordo com as curvas construídas, verificamos que a escolha dos parâmetros ótimos da regressão logística não permitiu aumentar a acurácia do modelo."
   ]
  },
  {
   "cell_type": "code",
   "execution_count": 46,
   "metadata": {},
   "outputs": [],
   "source": [
    "from sklearn.tree import DecisionTreeClassifier "
   ]
  },
  {
   "cell_type": "code",
   "execution_count": 47,
   "metadata": {},
   "outputs": [],
   "source": [
    "dt = DecisionTreeClassifier(random_state=42)"
   ]
  },
  {
   "cell_type": "code",
   "execution_count": 48,
   "metadata": {},
   "outputs": [],
   "source": [
    "dt = dt.fit(x_train, y_train)\n",
    "y_pred = dt.predict(x_test)"
   ]
  },
  {
   "cell_type": "code",
   "execution_count": 49,
   "metadata": {},
   "outputs": [
    {
     "data": {
      "text/plain": [
       "(507, 17)"
      ]
     },
     "execution_count": 49,
     "metadata": {},
     "output_type": "execute_result"
    }
   ],
   "source": [
    "dt.tree_.node_count, dt.tree_.max_depth"
   ]
  },
  {
   "cell_type": "code",
   "execution_count": 50,
   "metadata": {},
   "outputs": [
    {
     "name": "stdout",
     "output_type": "stream",
     "text": [
      "              precision    recall  f1-score   support\n",
      "\n",
      "           0       0.96      0.95      0.95      1457\n",
      "           1       0.16      0.18      0.17        76\n",
      "\n",
      "    accuracy                           0.91      1533\n",
      "   macro avg       0.56      0.57      0.56      1533\n",
      "weighted avg       0.92      0.91      0.91      1533\n",
      "\n"
     ]
    }
   ],
   "source": [
    "print(classification_report(y_test, y_pred))"
   ]
  },
  {
   "cell_type": "code",
   "execution_count": 51,
   "metadata": {},
   "outputs": [
    {
     "name": "stdout",
     "output_type": "stream",
     "text": [
      "[[1383   74]\n",
      " [  62   14]]\n"
     ]
    }
   ],
   "source": [
    "print(confusion_matrix(y_test, y_pred))"
   ]
  },
  {
   "cell_type": "markdown",
   "metadata": {},
   "source": [
    "O resultado isolado de uma DT foi razoável\n",
    "\n",
    "Vamos seguir para a construção de um modelo usando uma Floresta Aleatória (Random Forest)."
   ]
  },
  {
   "cell_type": "code",
   "execution_count": 52,
   "metadata": {
    "execution": {
     "iopub.execute_input": "2022-02-04T14:24:50.539542Z",
     "iopub.status.busy": "2022-02-04T14:24:50.539023Z",
     "iopub.status.idle": "2022-02-04T14:24:50.544206Z",
     "shell.execute_reply": "2022-02-04T14:24:50.543237Z",
     "shell.execute_reply.started": "2022-02-04T14:24:50.539495Z"
    }
   },
   "outputs": [],
   "source": [
    "from sklearn.ensemble import RandomForestClassifier"
   ]
  },
  {
   "cell_type": "code",
   "execution_count": 85,
   "metadata": {
    "execution": {
     "iopub.execute_input": "2022-02-04T14:24:50.546390Z",
     "iopub.status.busy": "2022-02-04T14:24:50.545534Z",
     "iopub.status.idle": "2022-02-04T14:24:50.557636Z",
     "shell.execute_reply": "2022-02-04T14:24:50.557016Z",
     "shell.execute_reply.started": "2022-02-04T14:24:50.546326Z"
    }
   },
   "outputs": [],
   "source": [
    "clf = RandomForestClassifier()"
   ]
  },
  {
   "cell_type": "code",
   "execution_count": 86,
   "metadata": {
    "execution": {
     "iopub.execute_input": "2022-02-04T14:24:50.559862Z",
     "iopub.status.busy": "2022-02-04T14:24:50.559030Z",
     "iopub.status.idle": "2022-02-04T14:24:51.099152Z",
     "shell.execute_reply": "2022-02-04T14:24:51.098557Z",
     "shell.execute_reply.started": "2022-02-04T14:24:50.559815Z"
    }
   },
   "outputs": [],
   "source": [
    "clf = clf.fit(x_train, y_train)"
   ]
  },
  {
   "cell_type": "code",
   "execution_count": 87,
   "metadata": {
    "execution": {
     "iopub.execute_input": "2022-02-04T14:24:51.100491Z",
     "iopub.status.busy": "2022-02-04T14:24:51.100230Z",
     "iopub.status.idle": "2022-02-04T14:24:51.126278Z",
     "shell.execute_reply": "2022-02-04T14:24:51.125650Z",
     "shell.execute_reply.started": "2022-02-04T14:24:51.100460Z"
    }
   },
   "outputs": [],
   "source": [
    "result_random_forest = clf.predict(x_test)"
   ]
  },
  {
   "cell_type": "code",
   "execution_count": 88,
   "metadata": {
    "execution": {
     "iopub.execute_input": "2022-02-04T14:24:51.127718Z",
     "iopub.status.busy": "2022-02-04T14:24:51.127234Z",
     "iopub.status.idle": "2022-02-04T14:24:51.133295Z",
     "shell.execute_reply": "2022-02-04T14:24:51.132313Z",
     "shell.execute_reply.started": "2022-02-04T14:24:51.127681Z"
    }
   },
   "outputs": [],
   "source": [
    "params = [ \n",
    "    {'n_estimators' : list(range(50,155,10)),\n",
    "     'max_depth' : list(range(5,30,5)),\n",
    "     'criterion': ['gini', 'entropy'],\n",
    "     'min_samples_split': list(np.arange(2, 5))}\n",
    "]"
   ]
  },
  {
   "cell_type": "code",
   "execution_count": 89,
   "metadata": {},
   "outputs": [
    {
     "data": {
      "text/plain": [
       "[{'n_estimators': [50, 60, 70, 80, 90, 100, 110, 120, 130, 140, 150],\n",
       "  'max_depth': [5, 10, 15, 20, 25],\n",
       "  'criterion': ['gini', 'entropy'],\n",
       "  'min_samples_split': [2, 3, 4]}]"
      ]
     },
     "execution_count": 89,
     "metadata": {},
     "output_type": "execute_result"
    }
   ],
   "source": [
    "params"
   ]
  },
  {
   "cell_type": "code",
   "execution_count": 90,
   "metadata": {
    "execution": {
     "iopub.execute_input": "2022-02-04T14:24:51.134754Z",
     "iopub.status.busy": "2022-02-04T14:24:51.134529Z",
     "iopub.status.idle": "2022-02-04T14:24:51.145560Z",
     "shell.execute_reply": "2022-02-04T14:24:51.144706Z",
     "shell.execute_reply.started": "2022-02-04T14:24:51.134725Z"
    }
   },
   "outputs": [],
   "source": [
    "from sklearn.model_selection import GridSearchCV"
   ]
  },
  {
   "cell_type": "code",
   "execution_count": 91,
   "metadata": {
    "execution": {
     "iopub.execute_input": "2022-02-04T14:24:51.160228Z",
     "iopub.status.busy": "2022-02-04T14:24:51.159565Z",
     "iopub.status.idle": "2022-02-04T14:24:51.171904Z",
     "shell.execute_reply": "2022-02-04T14:24:51.171049Z",
     "shell.execute_reply.started": "2022-02-04T14:24:51.160189Z"
    }
   },
   "outputs": [],
   "source": [
    "clf1 = GridSearchCV(RandomForestClassifier(), param_grid = params, cv = 5, verbose=True, n_jobs=-1)"
   ]
  },
  {
   "cell_type": "code",
   "execution_count": 92,
   "metadata": {
    "execution": {
     "iopub.execute_input": "2022-02-04T14:24:51.173634Z",
     "iopub.status.busy": "2022-02-04T14:24:51.173336Z",
     "iopub.status.idle": "2022-02-04T14:25:17.355315Z",
     "shell.execute_reply": "2022-02-04T14:25:17.354401Z",
     "shell.execute_reply.started": "2022-02-04T14:24:51.173601Z"
    }
   },
   "outputs": [
    {
     "name": "stdout",
     "output_type": "stream",
     "text": [
      "Fitting 5 folds for each of 330 candidates, totalling 1650 fits\n"
     ]
    }
   ],
   "source": [
    "best_clf_forest = clf1.fit(x_train, y_train)"
   ]
  },
  {
   "cell_type": "code",
   "execution_count": 93,
   "metadata": {
    "execution": {
     "iopub.execute_input": "2022-02-04T14:25:17.357070Z",
     "iopub.status.busy": "2022-02-04T14:25:17.356751Z",
     "iopub.status.idle": "2022-02-04T14:25:17.373398Z",
     "shell.execute_reply": "2022-02-04T14:25:17.372324Z",
     "shell.execute_reply.started": "2022-02-04T14:25:17.357028Z"
    }
   },
   "outputs": [],
   "source": [
    "result_forest = best_clf_forest.predict(x_test)"
   ]
  },
  {
   "cell_type": "markdown",
   "metadata": {},
   "source": [
    "Vamos construir uma ROC para o modelo de floresta aleatória resultante.\n",
    "\n",
    "Construímos uma característica para o modelo original e levando em consideração a escolha dos parâmetros ótimos, outra."
   ]
  },
  {
   "cell_type": "code",
   "execution_count": 63,
   "metadata": {
    "execution": {
     "iopub.execute_input": "2022-02-04T14:25:17.374984Z",
     "iopub.status.busy": "2022-02-04T14:25:17.374768Z",
     "iopub.status.idle": "2022-02-04T14:25:17.596615Z",
     "shell.execute_reply": "2022-02-04T14:25:17.595775Z",
     "shell.execute_reply.started": "2022-02-04T14:25:17.374957Z"
    }
   },
   "outputs": [
    {
     "data": {
      "image/png": "[encoded data removed]",
      "text/plain": [
       "<Figure size 432x288 with 1 Axes>"
      ]
     },
     "metadata": {
      "needs_background": "light"
     },
     "output_type": "display_data"
    }
   ],
   "source": [
    "probs = clf.predict_proba(x_test)\n",
    "preds = probs[:,1]\n",
    "fpr, tpr, threshold = roc_curve(y_test, preds)\n",
    "roc_auc = auc(fpr, tpr)\n",
    "\n",
    "plt.title('Receiver Operating Characteristic (ROC)')\n",
    "plt.plot(fpr, tpr, 'b', label = 'AUC = %0.2f' % roc_auc)\n",
    "plt.legend(loc = 'lower right')\n",
    "plt.plot([0, 1], [0, 1],'r--')\n",
    "plt.xlim([0, 1])\n",
    "plt.ylim([0, 1])\n",
    "plt.ylabel('True Positive Rate')\n",
    "plt.xlabel('False Positive Rate')\n",
    "plt.show()"
   ]
  },
  {
   "cell_type": "code",
   "execution_count": 64,
   "metadata": {
    "execution": {
     "iopub.execute_input": "2022-02-04T14:25:17.598306Z",
     "iopub.status.busy": "2022-02-04T14:25:17.597782Z",
     "iopub.status.idle": "2022-02-04T14:25:17.804825Z",
     "shell.execute_reply": "2022-02-04T14:25:17.803828Z",
     "shell.execute_reply.started": "2022-02-04T14:25:17.598271Z"
    }
   },
   "outputs": [
    {
     "data": {
      "image/png": "[encoded data removed]",
      "text/plain": [
       "<Figure size 432x288 with 1 Axes>"
      ]
     },
     "metadata": {
      "needs_background": "light"
     },
     "output_type": "display_data"
    }
   ],
   "source": [
    "probs = best_clf_forest.predict_proba(x_test)\n",
    "preds = probs[:,1]\n",
    "fpr, tpr, threshold = roc_curve(y_test, preds)\n",
    "roc_auc = auc(fpr, tpr)\n",
    "\n",
    "plt.title('Receiver Operating Characteristic (ROC)')\n",
    "plt.plot(fpr, tpr, 'b', label = 'AUC = %0.2f' % roc_auc)\n",
    "plt.legend(loc = 'lower right')\n",
    "plt.plot([0, 1], [0, 1],'r--')\n",
    "plt.xlim([0, 1])\n",
    "plt.ylim([0, 1])\n",
    "plt.ylabel('True Positive Rate')\n",
    "plt.xlabel('False Positive Rate')\n",
    "plt.show()"
   ]
  },
  {
   "cell_type": "markdown",
   "metadata": {},
   "source": [
    "Como resultado do trabalho, o ``GridSearchCV`` conseguiu aumentar a AUC de 0, para 0,.\n",
    "\n",
    "O modelo resultante construído usando o algoritmo acabou sendo mais preciso do que o modelo de regressão logística resultante."
   ]
  },
  {
   "cell_type": "code",
   "execution_count": 94,
   "metadata": {},
   "outputs": [
    {
     "data": {
      "text/plain": [
       "array([[1456,    1],\n",
       "       [  75,    1]])"
      ]
     },
     "execution_count": 94,
     "metadata": {},
     "output_type": "execute_result"
    }
   ],
   "source": [
    "confusion_matrix(y_test, np.array(result_forest, 'float16'))"
   ]
  },
  {
   "cell_type": "code",
   "execution_count": 66,
   "metadata": {},
   "outputs": [
    {
     "data": {
      "text/plain": [
       "array([[1455,    2],\n",
       "       [  75,    1]])"
      ]
     },
     "execution_count": 66,
     "metadata": {},
     "output_type": "execute_result"
    }
   ],
   "source": [
    "confusion_matrix(y_test, np.array(result_random_forest, 'float16'))"
   ]
  },
  {
   "cell_type": "code",
   "execution_count": 67,
   "metadata": {},
   "outputs": [],
   "source": [
    "from sklearn.neighbors import KNeighborsClassifier"
   ]
  },
  {
   "cell_type": "code",
   "execution_count": 68,
   "metadata": {},
   "outputs": [],
   "source": [
    "knn = KNeighborsClassifier(n_neighbors=5)"
   ]
  },
  {
   "cell_type": "code",
   "execution_count": 69,
   "metadata": {},
   "outputs": [],
   "source": [
    "knn = knn.fit(x_train, y_train)"
   ]
  },
  {
   "cell_type": "code",
   "execution_count": 70,
   "metadata": {},
   "outputs": [],
   "source": [
    "y_pred = knn.predict(x_test)"
   ]
  },
  {
   "cell_type": "code",
   "execution_count": 71,
   "metadata": {},
   "outputs": [
    {
     "name": "stdout",
     "output_type": "stream",
     "text": [
      "              precision    recall  f1-score   support\n",
      "\n",
      "           0       0.95      1.00      0.97      1457\n",
      "           1       0.20      0.01      0.02        76\n",
      "\n",
      "    accuracy                           0.95      1533\n",
      "   macro avg       0.58      0.51      0.50      1533\n",
      "weighted avg       0.91      0.95      0.93      1533\n",
      "\n"
     ]
    }
   ],
   "source": [
    "print(classification_report(y_test, y_pred))"
   ]
  },
  {
   "cell_type": "markdown",
   "metadata": {},
   "source": [
    "## The MAIN question...\n",
    "\n",
    "Como resolvemos o overfitting?"
   ]
  },
  {
   "cell_type": "code",
   "execution_count": null,
   "metadata": {},
   "outputs": [],
   "source": []
  },
  {
   "cell_type": "code",
   "execution_count": null,
   "metadata": {},
   "outputs": [],
   "source": []
  },
  {
   "cell_type": "code",
   "execution_count": null,
   "metadata": {},
   "outputs": [],
   "source": []
  },
  {
   "cell_type": "code",
   "execution_count": null,
   "metadata": {},
   "outputs": [],
   "source": []
  },
  {
   "cell_type": "code",
   "execution_count": null,
   "metadata": {},
   "outputs": [],
   "source": []
  },
  {
   "cell_type": "code",
   "execution_count": null,
   "metadata": {},
   "outputs": [],
   "source": []
  },
  {
   "cell_type": "code",
   "execution_count": null,
   "metadata": {},
   "outputs": [],
   "source": []
  }
 ],
 "metadata": {
  "kernelspec": {
   "display_name": "Python 3",
   "language": "python",
   "name": "python3"
  },
  "language_info": {
   "codemirror_mode": {
    "name": "ipython",
    "version": 3
   },
   "file_extension": ".py",
   "mimetype": "text/x-python",
   "name": "python",
   "nbconvert_exporter": "python",
   "pygments_lexer": "ipython3",
   "version": "3.7.9"
  }
 },
 "nbformat": 4,
 "nbformat_minor": 4
}
