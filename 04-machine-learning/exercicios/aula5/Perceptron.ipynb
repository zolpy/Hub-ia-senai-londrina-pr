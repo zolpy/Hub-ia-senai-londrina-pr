{
 "cells": [
  {
   "cell_type": "markdown",
   "metadata": {},
   "source": [
    "# Perceptron"
   ]
  },
  {
   "cell_type": "markdown",
   "metadata": {},
   "source": [
    "Perceptron é o modelo mais básico de rede neural, composto por um único neurônio, e consequentemente uma única camada. O algoritmo utiliza uma função degrau ( _step_ ) para fazer classificação binária. A figura abaixo permite uma visualização do modelo e do processo de classificação.\n",
    "\n",
    "<img src=\"assets/percp1.png\" alt=\"percep1\" width=\"800\"/>"
   ]
  },
  {
   "cell_type": "markdown",
   "metadata": {},
   "source": [
    "## Introdução\n",
    "\n",
    "O Perceptron foi inspirado na unidade básica de processamento do cérebro, i.e., o neurônio, e na forma como ele processa sinais. Foi inventado por Frank Rosenblatt, baseado no neurônio de McCulloch-Pitts. \n",
    "\n",
    "O modelo não é muito usado na prática (o modelo de neurônio adotado em uma rede do tipo Multi-Layer Perceptron é o Neurônio Sigmoidal), mas ainda assim muito importante de se entender pela sua simplicidade e importância histórica."
   ]
  },
  {
   "cell_type": "markdown",
   "metadata": {},
   "source": [
    "## Implementação\n",
    "\n",
    "Assim como na aula anterior, podemos começar a nossa implementação importando os pacotes necessários e gerando um conjunto de dados aleatórios."
   ]
  },
  {
   "cell_type": "code",
   "execution_count": 1,
   "metadata": {},
   "outputs": [],
   "source": [
    "# Passo n° 1: Importando as bibliotecas necessárias\n",
    "import numpy as np\n",
    "import matplotlib.pyplot as plt\n",
    "from sklearn import datasets"
   ]
  },
  {
   "cell_type": "code",
   "execution_count": 2,
   "metadata": {},
   "outputs": [
    {
     "data": {
      "text/plain": [
       "Text(0.5, 1.0, 'Classificação de dados aleatórios em 2 classes')"
      ]
     },
     "execution_count": 2,
     "metadata": {},
     "output_type": "execute_result"
    },
    {
     "data": {
      "image/png": "[encoded data removed]",
      "text/plain": [
       "<Figure size 720x576 with 1 Axes>"
      ]
     },
     "metadata": {
      "needs_background": "light"
     },
     "output_type": "display_data"
    }
   ],
   "source": [
    "# Passo n° 2: Gerando dados para classificação\n",
    "\n",
    "X, y = datasets.make_blobs(n_samples=150,n_features=2,\n",
    "                           centers=2,cluster_std=1.05,\n",
    "                           random_state=2)\n",
    "#Plotting\n",
    "fig = plt.figure(figsize=(10,8))\n",
    "plt.plot(X[:, 0][y == 0], X[:, 1][y == 0], 'r^')\n",
    "plt.plot(X[:, 0][y == 1], X[:, 1][y == 1], 'bs')\n",
    "plt.xlabel(\"feature 1\")\n",
    "plt.ylabel(\"feature 2\")\n",
    "plt.title('Classificação de dados aleatórios em 2 classes')"
   ]
  },
  {
   "cell_type": "markdown",
   "metadata": {},
   "source": [
    "Podemos observar que foram formadas 2 classes, vermelha e azul, e nosso objetivo é separá-las por uma reta. Formalmente, queremos aprender o conjunto de parâmetros (pesos) que representam o melhor hiper-plano para separar as 2 classes.\n",
    "\n",
    "Na regressão logística nós considerávamos a saída das probabilidades alimentando uma função Sigmoid com a saída da combinação linear entre as amostras e os pesos. No caso do Perceptron, a Sigmoid é substituida pela função degrau, a qual é definida da seguinte maneira:\n",
    "\n",
    "\\begin{equation}\n",
    "    \\hat{y} = g(z),\n",
    "\\end{equation}\n",
    "onde $z = W^{T}x$ (combinação linear), $W^T$ é o vetor de pesos transposto, e $g(z)$ é definido como:\n",
    "\n",
    "\n",
    "\n",
    "\\begin{equation}\n",
    "g(z)=\n",
    "\\begin{cases}\n",
    "  1 & \\text{se } z \\geq 0\\\\\n",
    "  0 &\\text{se } z < 0.\n",
    "\\end{cases}\n",
    "\\end{equation}\n",
    "\n",
    "<img src=\"assets/step.jpg\" alt=\"step\" width=\"500\"/>\n",
    "\n",
    "\n",
    "\n",
    "Diferente da regressão logística, o perceptron retorna apenas $0$ ou $1$, em vez de retornar as probabilidades da amostra pertencer à classe $0$ ou $1$."
   ]
  },
  {
   "cell_type": "code",
   "execution_count": 3,
   "metadata": {},
   "outputs": [],
   "source": [
    "# Passo n° 3a: criando a função step:\n",
    "def step_func(z):\n",
    "    return 1.0 if (z > 0) else 0.0\n",
    "\n",
    "# Passo n° 3a: criando a função sigmoide:\n",
    "def sigmoide(z):\n",
    "    return 1.0/(1+np.exp(-z))\n",
    "\n",
    "def relu(z):\n",
    "    return max(0,z)"
   ]
  },
  {
   "cell_type": "markdown",
   "metadata": {},
   "source": [
    "## Perceptron como uma rede neural\n",
    "\n",
    "Podemos entender o comportamento do Perceptron de modo visual olhando para imagem abaixo. Note que o peso $\\theta_0$ representa o valor do viés (bias), sendo assim, $x_0$ é sempre igual a $1$.\n",
    "\n",
    "<img src=\"assets/perceptron.png\" alt=\"perceptron\" width=\"400\"/>\n",
    "\n",
    "\n",
    "Para cada instância do conjunto de treinamento, nós computamos o produto escalar entre cada característica dessa instância e o respectivo peso ($W$). Em seguida, aplicamos a função degrau sobre esse valor para gerar o rótulo estimado $h_{w}(x)$ ou $\\hat{y}$.\n",
    "\n",
    "Se a amostra for classificada de forma incorreta, os pesos $W$ são ajustados. A regra para atualizar esses pesos é definida da seguinte maneira:\n",
    "\n"
   ]
  },
  {
   "cell_type": "markdown",
   "metadata": {},
   "source": [
    "## Regra de atualização do Perceptron\n",
    "\n",
    "Os pesos do Perceptron podem ser ajustados de forma similar à regra do Gradiente descendente, seguindo a regra:\n",
    "\n",
    "\\begin{equation}\n",
    "    w_{j}^{(t+1)} :=w_j^{(t)}+\\alpha(y^{i}-h_{w}(x^i))x_j^i,\n",
    "\\end{equation}\n",
    "onde $\\alpha$ é a taxa de aprendizagem. Note que apezar de parecido com a regressão logística, o Perceptron é bem diferente da regressão logística, pois não podemos interpretar as saídas como probabilidades, ou mesmo utilizar o método da maximização da verossimilhança para atualizar os pesos."
   ]
  },
  {
   "cell_type": "code",
   "execution_count": 4,
   "metadata": {},
   "outputs": [
    {
     "name": "stdout",
     "output_type": "stream",
     "text": [
      "lr =  0.1\n",
      "epochs =  50\n"
     ]
    }
   ],
   "source": [
    "# Passo n° 3b: implementando o Perceptron:\n",
    "lr = 0.1 # taxa de aprendizado.\n",
    "epochs = 50 # Número de iterações.\n",
    "\n",
    "\n",
    "print('lr = ', lr)\n",
    "print('epochs = ', epochs)\n",
    "\n",
    "\n",
    "# m-> número de amostras de treinamento\n",
    "# n-> número de características por amostra\n",
    "m, n = X.shape\n",
    "\n",
    "# Inicializando os pesos (w) com zeros.\n",
    "# n+1 pois deve haver um peso para o termo de bias.\n",
    "w = np.zeros((n+1,1))\n",
    "\n",
    "# Lista vazia para armazenar quantas amostras foram classificadas incorretamente \n",
    "# a cada iteração\n",
    "n_miss_list = []\n",
    "\n",
    "# treinamento\n",
    "for epoch in range(epochs):\n",
    "\n",
    "    # variável que armazena número de amostras classificadas com rótulo errado.\n",
    "    n_miss = 0\n",
    "\n",
    "    # loop que percorre todas as amostras de treinamento.\n",
    "    for idx, x_i in enumerate(X):\n",
    "\n",
    "        # Insere o valor 1 como primeira posição no vetor de características\n",
    "        # esse valor é multiplicado pelo peso w_0, ou seja, o bias\n",
    "        x_i = np.insert(x_i, 0, 1).reshape(-1,1)\n",
    "\n",
    "        # estima o novo rótulo.\n",
    "        #y_hat = step_func(np.dot(x_i.T, w))\n",
    "        y_hat = np.round(sigmoide(np.dot(x_i.T, w)))\n",
    "\n",
    "        # Compara o label predito com o rótulo real\n",
    "        #   função squeeze remove uma dimensão\n",
    "        if (np.squeeze(y_hat) - y[idx]) != 0:\n",
    "            # caso o classificador tenha errado (rótulo real diferente do rótulo predito), \n",
    "            #   atualiza os pesos\n",
    "            w += lr*((y[idx] - y_hat)*x_i)\n",
    "\n",
    "            # incrementa o contador de erros.\n",
    "            n_miss += 1\n",
    "\n",
    "    # Adiciona o número de erros à lista de erros por época\n",
    "    n_miss_list.append(n_miss)"
   ]
  },
  {
   "cell_type": "code",
   "execution_count": 5,
   "metadata": {},
   "outputs": [
    {
     "name": "stdout",
     "output_type": "stream",
     "text": [
      "Miss classification over iterations:\n",
      "[14, 0, 0, 0, 0, 0, 0, 0, 0, 0, 0, 0, 0, 0, 0, 0, 0, 0, 0, 0, 0, 0, 0, 0, 0, 0, 0, 0, 0, 0, 0, 0, 0, 0, 0, 0, 0, 0, 0, 0, 0, 0, 0, 0, 0, 0, 0, 0, 0, 0]\n"
     ]
    }
   ],
   "source": [
    "print(\"Miss classification over iterations:\")\n",
    "print(n_miss_list)"
   ]
  },
  {
   "cell_type": "markdown",
   "metadata": {},
   "source": [
    "## Plotando o limite de decisão\n",
    "\n",
    "Sabemos que o modelo toma suas decisões $\\hat{y}=1$ quando $g(z)\\geq0$ e $\\hat{y}=0$ quando $g(z)<0$, podemos plotar nosso limite de decisão da seguinte maneira:"
   ]
  },
  {
   "cell_type": "code",
   "execution_count": 6,
   "metadata": {},
   "outputs": [
    {
     "data": {
      "text/plain": [
       "[<matplotlib.lines.Line2D at 0x7f165b139a10>]"
      ]
     },
     "execution_count": 6,
     "metadata": {},
     "output_type": "execute_result"
    },
    {
     "data": {
      "image/png": "[encoded data removed]",
      "text/plain": [
       "<Figure size 720x576 with 1 Axes>"
      ]
     },
     "metadata": {
      "needs_background": "light"
     },
     "output_type": "display_data"
    }
   ],
   "source": [
    "# Passo n° 4: avaliando o modelo:\n",
    "\n",
    "# A equação da reta é definida por y=mx+c\n",
    "# Então, igualamos mx+c = w0.x0 + w1.x1 + w2.x2\n",
    "# Resolvendo podemos encontrar m e c\n",
    "x1 = [min(X[:,0]), max(X[:,0])]\n",
    "m = -w[1]/w[2]\n",
    "c = -w[0]/w[2]\n",
    "x2 = m*x1 + c\n",
    "\n",
    "# Plotting\n",
    "fig = plt.figure(figsize=(10,8))\n",
    "plt.plot(X[:, 0][y==0], X[:, 1][y==0], \"r^\")\n",
    "plt.plot(X[:, 0][y==1], X[:, 1][y==1], \"bs\")\n",
    "plt.xlabel(\"característica 1\")\n",
    "plt.ylabel(\"característica 2\")\n",
    "plt.title('Algoritmo Perceptron')\n",
    "plt.plot(x1, x2, 'y-')"
   ]
  },
  {
   "cell_type": "markdown",
   "metadata": {},
   "source": [
    "## Perceptron pelo scikit learn\n",
    "\n",
    "Assim como a regressão linear e a regressão logística, o perceptron também está presente no scikit-learn:"
   ]
  },
  {
   "cell_type": "code",
   "execution_count": 7,
   "metadata": {},
   "outputs": [],
   "source": [
    "from sklearn.datasets import load_digits\n",
    "from sklearn.linear_model import Perceptron\n",
    "from sklearn.model_selection import train_test_split\n",
    "from sklearn.preprocessing import StandardScaler\n",
    "from sklearn.metrics import classification_report, confusion_matrix\n",
    "\n",
    "X, y = load_digits(return_X_y=True)"
   ]
  },
  {
   "cell_type": "code",
   "execution_count": 8,
   "metadata": {},
   "outputs": [
    {
     "data": {
      "image/png": "[encoded data removed]",
      "text/plain": [
       "<Figure size 432x288 with 1 Axes>"
      ]
     },
     "metadata": {
      "needs_background": "light"
     },
     "output_type": "display_data"
    }
   ],
   "source": [
    "# Visualizando alguns digitos\n",
    "sample = np.random.randint(0, len(X))\n",
    "img = X[sample].reshape((8,8)).astype(np.uint8)\n",
    "\n",
    "imgplot = plt.imshow(img, cmap=\"gray\")"
   ]
  },
  {
   "cell_type": "code",
   "execution_count": 9,
   "metadata": {},
   "outputs": [],
   "source": [
    "x_train, x_test, y_train, y_test = train_test_split(X, y, test_size=0.2, random_state=0)\n",
    "scaler = StandardScaler()\n",
    "x_train = scaler.fit_transform(x_train)"
   ]
  },
  {
   "cell_type": "code",
   "execution_count": 10,
   "metadata": {},
   "outputs": [
    {
     "data": {
      "text/plain": [
       "Perceptron()"
      ]
     },
     "execution_count": 10,
     "metadata": {},
     "output_type": "execute_result"
    }
   ],
   "source": [
    "clf = Perceptron(tol=1e-3, random_state=0)\n",
    "clf.fit(x_train, y_train)"
   ]
  },
  {
   "cell_type": "code",
   "execution_count": 11,
   "metadata": {},
   "outputs": [],
   "source": [
    "x_test = scaler.transform(x_test)\n",
    "y_pred = clf.predict(x_test)"
   ]
  },
  {
   "cell_type": "code",
   "execution_count": 12,
   "metadata": {},
   "outputs": [
    {
     "name": "stdout",
     "output_type": "stream",
     "text": [
      "Acurácia sobre conjunto de treinamento =  0.9805149617258176\n",
      "Acurácia sobre conjunto de teste =  0.9361111111111111\n"
     ]
    }
   ],
   "source": [
    "print('Acurácia sobre conjunto de treinamento = ',clf.score(x_train, y_train))\n",
    "print('Acurácia sobre conjunto de teste = ',clf.score(x_test, y_test))"
   ]
  },
  {
   "cell_type": "code",
   "execution_count": 13,
   "metadata": {},
   "outputs": [
    {
     "data": {
      "image/png": "[encoded data removed]",
      "text/plain": [
       "<Figure size 576x576 with 1 Axes>"
      ]
     },
     "metadata": {
      "needs_background": "light"
     },
     "output_type": "display_data"
    }
   ],
   "source": [
    "# plotando a matriz\n",
    "\n",
    "cm = confusion_matrix(y_test, y_pred)\n",
    "\n",
    "fig, ax = plt.subplots(figsize=(8, 8))\n",
    "ax.imshow(cm, cmap=plt.cm.Blues)\n",
    "ax.grid(False)\n",
    "ax.set_xlabel('Valores estimados', fontsize=15, color='black')\n",
    "ax.set_ylabel('Valores reais', fontsize=15, color='black')\n",
    "ax.xaxis.set(ticks=range(10))\n",
    "ax.yaxis.set(ticks=range(10))\n",
    "ax.set_ylim(9.5, -0.5)\n",
    "for i in range(10):\n",
    "    for j in range(10):\n",
    "        ax.text(j, i, cm[i, j], ha='center', va='center')\n",
    "plt.show()"
   ]
  },
  {
   "cell_type": "code",
   "execution_count": 14,
   "metadata": {},
   "outputs": [
    {
     "name": "stdout",
     "output_type": "stream",
     "text": [
      "              precision    recall  f1-score   support\n",
      "\n",
      "           0       1.00      1.00      1.00        27\n",
      "           1       0.97      0.86      0.91        35\n",
      "           2       0.97      0.97      0.97        36\n",
      "           3       0.93      0.93      0.93        29\n",
      "           4       0.91      1.00      0.95        30\n",
      "           5       0.95      0.95      0.95        40\n",
      "           6       0.98      0.98      0.98        44\n",
      "           7       0.92      0.92      0.92        39\n",
      "           8       0.92      0.85      0.88        39\n",
      "           9       0.84      0.93      0.88        41\n",
      "\n",
      "    accuracy                           0.94       360\n",
      "   macro avg       0.94      0.94      0.94       360\n",
      "weighted avg       0.94      0.94      0.94       360\n",
      "\n"
     ]
    }
   ],
   "source": [
    "print(classification_report(y_test, y_pred))"
   ]
  },
  {
   "cell_type": "markdown",
   "metadata": {},
   "source": [
    "## Limitações do Perceptron\n",
    "\n",
    "1. Assim como a regressão logística, é um classificador linear que não pode ser usado para resolver problemas não linearmente separáveis.\n",
    "2. O algoritmo é usado apenas para problemas de classificação binária.\n",
    "3. Por usar uma função degrau, pequenas mudanças nos pesos são responsáveis por alterações significativas na saída, o que impossibilita a utilização de algoritmos de otimização do tipo gradiente descendente e, consequentemente, sua utilização para construção de redes mais profundas, e.g., multilayer perceptron.\n",
    "\n",
    "Para resolver o problema mensionado no terceiro ponto, substituimos a função de ativação do tipo degrau para a função Sigmoid, i.e., substituimos o Perceptron pelo neurônio sigmoidal."
   ]
  },
  {
   "cell_type": "markdown",
   "metadata": {},
   "source": [
    "## Neurônio sigmoidal\n",
    "\n",
    "Enquanto a função degrau apresenta uma saída 'hard', em que pequenas mudanças nos pesos podem apresentar uma mudança brusca na saída, a função sigmoidal apresenta uma saída mais suave, onde pequenas mudanças nos pesos representam pequenas mudanças nos valores de saída, que podem assumir valores entre 'zero' e 'um'. Esse detalhe permite utilizar o algoritmo gradiente descendente, o qual é utilizado em conjunto com backpropagation para treinar redes mais profundas. A figura a seguir relembra a função sigmoidal.\n",
    "\n",
    "<img src=\"assets/log-reg-1.webp\" alt=\"sigmoid\" width=\"400\"/>\n",
    "\n",
    "Apesar da diferença na formulação, as funções de ativação Sigmoidal e Step são muito parecidas:\n",
    "- Imagine que $z \\equiv W^{T} x + b$ é um valor positivo muito grande:\n",
    "    - Então $e^{−z}\\approx 0$ e $\\sigma(z) \\approx 1$, como seria no Perceptron caso $W^{T}x + b$ fosse muito grande. \n",
    "- De modo similar, se $z \\equiv W^{T}x + b$ é um valor negativo muito grande:\n",
    "    - Então $e^{−z}\\approx \\infty$ e $\\sigma(z) \\approx 0$, como seria no Perceptron caso $W^{T}x + b$ fosse muito grande na direção negativa. \n",
    "- A diferença entre os 2 modelos acontece quando $z \\equiv W^{T}x + b$ tem um tamanho moderado, em que a saída da sigmoid varia entre $0$ e $1$ (quando $z \\equiv 0$ a saída da sigmoid é $0.5$)."
   ]
  },
  {
   "cell_type": "markdown",
   "metadata": {},
   "source": [
    "## Exercício\n",
    "\n",
    "Suponha que no final de semana haverá um festival de queijos e você queira modelar um Perceptron para predizer se vai ou não nesse festival. Para tomar a decisão, utilizará 3 variáveis (features) binárias:\n",
    "- $x_1$: O tempo está bom?\n",
    "- $x_2$: Seu namorado/a quer te acompanhar?\n",
    "- $x_3$: Tem transporte público por perto? (Você não tem carro)\n",
    "\n",
    "Considere o bias como a feature $x_0$ com valor $1$ e seu peso como sendo o quanto você está disposto a ir nesse festival. Note que o seu valor cresce no sentido negativo, ou seja, quanto mais próximo de zero, mais você gosta de queijo e está disposto a ir, enquanto valores negativos grandes indicam que não tem tanto desejo de ir.\n",
    "\n",
    "Nessas condições, modele o perceptron de forma que:\n",
    "\n",
    "1. Você adora queijo e vá mesmo que seu/ua namorado/a não vá e não exista transporte público próximo. No entanto, se chover fica muito ruim e com certeza não irá.\n",
    "\n",
    "2. Você vai ao festival se o tempo estiver bom OU se seu/ua namorado/a quiser ir E tiver transporte público."
   ]
  }
 ],
 "metadata": {
  "kernelspec": {
   "display_name": "Python 3",
   "language": "python",
   "name": "python3"
  },
  "language_info": {
   "codemirror_mode": {
    "name": "ipython",
    "version": 3
   },
   "file_extension": ".py",
   "mimetype": "text/x-python",
   "name": "python",
   "nbconvert_exporter": "python",
   "pygments_lexer": "ipython3",
   "version": "3.7.9"
  }
 },
 "nbformat": 4,
 "nbformat_minor": 4
}
