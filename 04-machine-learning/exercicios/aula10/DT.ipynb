{
 "cells": [
  {
   "cell_type": "markdown",
   "metadata": {},
   "source": [
    "## Treinando ADs em alguns datasets\n"
   ]
  },
  {
   "cell_type": "code",
   "execution_count": 1,
   "metadata": {},
   "outputs": [],
   "source": [
    "import numpy as np\n",
    "import matplotlib.pyplot as plt\n",
    "\n",
    "from sklearn.tree import DecisionTreeClassifier\n",
    "from sklearn.datasets import load_digits, fetch_openml\n",
    "from sklearn.model_selection import train_test_split\n",
    "from sklearn.metrics import classification_report\n",
    "from sklearn.preprocessing import StandardScaler"
   ]
  },
  {
   "cell_type": "code",
   "execution_count": 69,
   "metadata": {},
   "outputs": [],
   "source": [
    "# carregando o dataset MNIST\n",
    "X, y = fetch_openml(\"mnist_784\", version=1, return_X_y=True, as_frame=False) # 28x28 -> 784 / pixels=[0, 255]\n",
    "#X, y = load_digits(return_X_y=True) # 8x8 -> 10 classes (0,...,9)"
   ]
  },
  {
   "cell_type": "code",
   "execution_count": 62,
   "metadata": {},
   "outputs": [],
   "source": [
    "# Dividindo os dados em treinamento e teste\n",
    "X_train, X_test, Y_train, Y_test = train_test_split(X, y, test_size=0.3,\n",
    "                                                    random_state=0, shuffle=True)"
   ]
  },
  {
   "cell_type": "code",
   "execution_count": 4,
   "metadata": {},
   "outputs": [
    {
     "data": {
      "text/plain": [
       "(49000, 784)"
      ]
     },
     "execution_count": 4,
     "metadata": {},
     "output_type": "execute_result"
    }
   ],
   "source": [
    "X_train.shape"
   ]
  },
  {
   "cell_type": "code",
   "execution_count": 5,
   "metadata": {},
   "outputs": [
    {
     "data": {
      "text/plain": [
       "DecisionTreeClassifier()"
      ]
     },
     "execution_count": 5,
     "metadata": {},
     "output_type": "execute_result"
    }
   ],
   "source": [
    "# Instanciamos a AD e treinamos no conjunto de treinamento\n",
    "clf = DecisionTreeClassifier()\n",
    "clf.fit(X_train, Y_train)"
   ]
  },
  {
   "cell_type": "code",
   "execution_count": 6,
   "metadata": {},
   "outputs": [],
   "source": [
    "# Predição no conjunto de testes\n",
    "preds = clf.predict(X_test)"
   ]
  },
  {
   "cell_type": "code",
   "execution_count": 7,
   "metadata": {},
   "outputs": [
    {
     "name": "stdout",
     "output_type": "stream",
     "text": [
      "              precision    recall  f1-score   support\n",
      "\n",
      "           0       0.92      0.92      0.92      2077\n",
      "           1       0.94      0.96      0.95      2385\n",
      "           2       0.88      0.85      0.86      2115\n",
      "           3       0.84      0.84      0.84      2117\n",
      "           4       0.86      0.88      0.87      2004\n",
      "           5       0.82      0.81      0.81      1900\n",
      "           6       0.88      0.89      0.88      2045\n",
      "           7       0.90      0.90      0.90      2189\n",
      "           8       0.82      0.80      0.81      2042\n",
      "           9       0.83      0.83      0.83      2126\n",
      "\n",
      "    accuracy                           0.87     21000\n",
      "   macro avg       0.87      0.87      0.87     21000\n",
      "weighted avg       0.87      0.87      0.87     21000\n",
      "\n"
     ]
    }
   ],
   "source": [
    "print(classification_report(Y_test, preds))"
   ]
  },
  {
   "cell_type": "code",
   "execution_count": 8,
   "metadata": {},
   "outputs": [],
   "source": [
    "# Agora treinaremos outros modelos para comparar com a AD:\n",
    "\n",
    "from sklearn.svm import SVC # \"Support vector classifier\"\n",
    "from sklearn.linear_model import LogisticRegression"
   ]
  },
  {
   "cell_type": "code",
   "execution_count": 9,
   "metadata": {},
   "outputs": [
    {
     "name": "stderr",
     "output_type": "stream",
     "text": [
      "/home/roder/anaconda3/envs/deep/lib/python3.7/site-packages/sklearn/svm/_base.py:1208: ConvergenceWarning: Liblinear failed to converge, increase the number of iterations.\n",
      "  ConvergenceWarning,\n"
     ]
    },
    {
     "data": {
      "text/plain": [
       "LogisticRegression(C=0.05, multi_class='ovr', random_state=0,\n",
       "                   solver='liblinear')"
      ]
     },
     "execution_count": 9,
     "metadata": {},
     "output_type": "execute_result"
    }
   ],
   "source": [
    "lr = LogisticRegression(solver='liblinear', C=0.05, random_state=0, multi_class='ovr')\n",
    "lr.fit(X_train, Y_train)\n",
    "#svm = SVC(kernel='rbf', C=100)\n",
    "#svm.fit(X_train, Y_train)"
   ]
  },
  {
   "cell_type": "code",
   "execution_count": 63,
   "metadata": {},
   "outputs": [
    {
     "name": "stdout",
     "output_type": "stream",
     "text": [
      "              precision    recall  f1-score   support\n",
      "\n",
      "           0       0.95      0.97      0.96      2077\n",
      "           1       0.95      0.97      0.96      2385\n",
      "           2       0.90      0.88      0.89      2115\n",
      "           3       0.91      0.87      0.89      2117\n",
      "           4       0.90      0.93      0.91      2004\n",
      "           5       0.89      0.85      0.87      1900\n",
      "           6       0.93      0.95      0.94      2045\n",
      "           7       0.93      0.92      0.93      2189\n",
      "           8       0.85      0.87      0.86      2042\n",
      "           9       0.89      0.88      0.88      2126\n",
      "\n",
      "    accuracy                           0.91     21000\n",
      "   macro avg       0.91      0.91      0.91     21000\n",
      "weighted avg       0.91      0.91      0.91     21000\n",
      "\n"
     ]
    }
   ],
   "source": [
    "# Predição no conjunto de testes\n",
    "preds_lr = lr.predict(X_test)\n",
    "#preds_svm = svm.predict(X_test)\n",
    "\n",
    "print(classification_report(Y_test, preds_lr))"
   ]
  },
  {
   "cell_type": "code",
   "execution_count": 11,
   "metadata": {},
   "outputs": [
    {
     "name": "stdout",
     "output_type": "stream",
     "text": [
      "AD: ['0' '4' '1' ... '9' '0' '1'] vs. LR: ['0' '4' '1' ... '9' '0' '1']\n"
     ]
    }
   ],
   "source": [
    "print(\"AD:\", preds, \"vs. LR:\",preds_lr)"
   ]
  },
  {
   "cell_type": "code",
   "execution_count": 12,
   "metadata": {},
   "outputs": [],
   "source": [
    "# Normalizando os dados..."
   ]
  },
  {
   "cell_type": "code",
   "execution_count": 13,
   "metadata": {},
   "outputs": [],
   "source": [
    "scaler = StandardScaler()\n",
    "x_train = scaler.fit_transform(X_train)"
   ]
  },
  {
   "cell_type": "code",
   "execution_count": 14,
   "metadata": {},
   "outputs": [
    {
     "data": {
      "text/plain": [
       "LogisticRegression(C=0.05, multi_class='ovr', random_state=0,\n",
       "                   solver='liblinear')"
      ]
     },
     "execution_count": 14,
     "metadata": {},
     "output_type": "execute_result"
    }
   ],
   "source": [
    "lr2 = LogisticRegression(solver='liblinear', C=0.05, multi_class='ovr',\n",
    "                           random_state=0)\n",
    "lr2.fit(x_train, Y_train)"
   ]
  },
  {
   "cell_type": "code",
   "execution_count": 15,
   "metadata": {},
   "outputs": [],
   "source": [
    "# Normalizando as amostras do conjunto de testes:\n",
    "x_test = scaler.transform(X_test)\n",
    "\n",
    "# em seguida, chamamos a função predict, passando o conjunto de teste:\n",
    "y_pred = lr2.predict(x_test)"
   ]
  },
  {
   "cell_type": "code",
   "execution_count": 16,
   "metadata": {},
   "outputs": [
    {
     "name": "stdout",
     "output_type": "stream",
     "text": [
      "              precision    recall  f1-score   support\n",
      "\n",
      "           0       0.95      0.97      0.96      2077\n",
      "           1       0.93      0.97      0.95      2385\n",
      "           2       0.91      0.89      0.90      2115\n",
      "           3       0.91      0.87      0.89      2117\n",
      "           4       0.89      0.93      0.91      2004\n",
      "           5       0.87      0.86      0.86      1900\n",
      "           6       0.93      0.94      0.94      2045\n",
      "           7       0.92      0.92      0.92      2189\n",
      "           8       0.87      0.85      0.86      2042\n",
      "           9       0.89      0.87      0.88      2126\n",
      "\n",
      "    accuracy                           0.91     21000\n",
      "   macro avg       0.91      0.91      0.91     21000\n",
      "weighted avg       0.91      0.91      0.91     21000\n",
      "\n"
     ]
    }
   ],
   "source": [
    "print(classification_report(Y_test, y_pred))"
   ]
  },
  {
   "cell_type": "code",
   "execution_count": 17,
   "metadata": {},
   "outputs": [
    {
     "name": "stdout",
     "output_type": "stream",
     "text": [
      "AD: ['0' '4' '1' ... '9' '0' '1'] vs. LR (normalização): ['0' '4' '1' ... '9' '0' '1']\n"
     ]
    }
   ],
   "source": [
    "print(\"AD:\", preds, \"vs. LR (normalização):\", y_pred)"
   ]
  },
  {
   "cell_type": "code",
   "execution_count": 44,
   "metadata": {},
   "outputs": [
    {
     "name": "stdout",
     "output_type": "stream",
     "text": [
      "              precision    recall  f1-score   support\n",
      "\n",
      "           0       0.93      0.92      0.93      2077\n",
      "           1       0.94      0.96      0.95      2385\n",
      "           2       0.87      0.85      0.86      2115\n",
      "           3       0.84      0.84      0.84      2117\n",
      "           4       0.87      0.88      0.88      2004\n",
      "           5       0.81      0.82      0.81      1900\n",
      "           6       0.88      0.89      0.89      2045\n",
      "           7       0.90      0.90      0.90      2189\n",
      "           8       0.83      0.80      0.82      2042\n",
      "           9       0.83      0.84      0.83      2126\n",
      "\n",
      "    accuracy                           0.87     21000\n",
      "   macro avg       0.87      0.87      0.87     21000\n",
      "weighted avg       0.87      0.87      0.87     21000\n",
      "\n"
     ]
    }
   ],
   "source": [
    "clf2 = DecisionTreeClassifier()\n",
    "clf2.fit(x_train, Y_train)\n",
    "\n",
    "#x_test = scaler.transform(X_test)\n",
    "y_pred2 = clf2.predict(x_test)\n",
    "print(classification_report(Y_test, y_pred2))"
   ]
  },
  {
   "cell_type": "code",
   "execution_count": 48,
   "metadata": {},
   "outputs": [
    {
     "name": "stdout",
     "output_type": "stream",
     "text": [
      "AD (normalização): ['0' '4' '1' ... '9' '0' '1'] vs. LR (normalização): ['0' '4' '1' ... '9' '0' '1']\n"
     ]
    }
   ],
   "source": [
    "print(\"AD (normalização):\", y_pred2, \"vs. LR (normalização):\", y_pred)"
   ]
  },
  {
   "cell_type": "markdown",
   "metadata": {},
   "source": [
    "\n",
    "# Treinando ADs e plotando a superfície de decisão no dataset Iris:\n",
    "\n",
    "Para cada par de atributos das flores, a AD aprende as margens de deicsão a partir de regras de limiares simples a partir dos dados de treinamento."
   ]
  },
  {
   "cell_type": "code",
   "execution_count": 45,
   "metadata": {},
   "outputs": [],
   "source": [
    "%matplotlib inline\n",
    "\n",
    "import numpy as np\n",
    "import matplotlib.pyplot as plt\n",
    "from sklearn.tree import DecisionTreeClassifier\n",
    "from sklearn.datasets import load_iris\n",
    "\n",
    "iris = load_iris()"
   ]
  },
  {
   "cell_type": "markdown",
   "metadata": {},
   "source": [
    "Mostra a função de decisão das árvores treinadas em todos os pares de atributos."
   ]
  },
  {
   "cell_type": "code",
   "execution_count": 46,
   "metadata": {},
   "outputs": [
    {
     "data": {
      "image/png": "[encoded data removed]",
      "text/plain": [
       "<Figure size 432x288 with 6 Axes>"
      ]
     },
     "metadata": {
      "needs_background": "light"
     },
     "output_type": "display_data"
    }
   ],
   "source": [
    "# Parametros\n",
    "n_classes = 3\n",
    "plot_colors = \"ryb\"\n",
    "plot_step = 0.02\n",
    "\n",
    "\n",
    "for pairidx, pair in enumerate([[0, 1], [0, 2], [0, 3], [1, 2], [1, 3], [2, 3]]):\n",
    "    # pegaremos apenas os atributos correspondentes\n",
    "    X = iris.data[:, pair]\n",
    "    y = iris.target\n",
    "\n",
    "    # treinamento\n",
    "    clf = DecisionTreeClassifier().fit(X, y)\n",
    "\n",
    "    # plota a fronteira de decisão\n",
    "    plt.subplot(2, 3, pairidx + 1)\n",
    "\n",
    "    x_min, x_max = X[:, 0].min() - 1, X[:, 0].max() + 1\n",
    "    y_min, y_max = X[:, 1].min() - 1, X[:, 1].max() + 1\n",
    "    xx, yy = np.meshgrid(\n",
    "        np.arange(x_min, x_max, plot_step), np.arange(y_min, y_max, plot_step)\n",
    "    )\n",
    "    plt.tight_layout(h_pad=0.5, w_pad=0.5, pad=2.5)\n",
    "\n",
    "    Z = clf.predict(np.c_[xx.ravel(), yy.ravel()])\n",
    "    Z = Z.reshape(xx.shape)\n",
    "    cs = plt.contourf(xx, yy, Z, cmap=plt.cm.RdYlBu)\n",
    "\n",
    "    plt.xlabel(iris.feature_names[pair[0]])\n",
    "    plt.ylabel(iris.feature_names[pair[1]])\n",
    "\n",
    "    # Plota as amostras de treinamento\n",
    "    for i, color in zip(range(n_classes), plot_colors):\n",
    "        idx = np.where(y == i)\n",
    "        plt.scatter(\n",
    "            X[idx, 0],\n",
    "            X[idx, 1],\n",
    "            c=color,\n",
    "            label=iris.target_names[i],\n",
    "            cmap=plt.cm.RdYlBu,\n",
    "            edgecolor=\"black\",\n",
    "            s=15,\n",
    "        )\n",
    "\n",
    "plt.suptitle(\"Superfície de decisão das ADs\")\n",
    "plt.legend(loc=\"lower right\", borderpad=0, handletextpad=0)\n",
    "_ = plt.axis(\"tight\")"
   ]
  },
  {
   "cell_type": "markdown",
   "metadata": {},
   "source": [
    "Agora, podemos mostrar a estrutura de uma AD completa, treinada em todos os atributos do dataset:"
   ]
  },
  {
   "cell_type": "code",
   "execution_count": 64,
   "metadata": {},
   "outputs": [
    {
     "data": {
      "image/png": "[encoded data removed]",
      "text/plain": [
       "<Figure size 432x288 with 1 Axes>"
      ]
     },
     "metadata": {
      "needs_background": "light"
     },
     "output_type": "display_data"
    }
   ],
   "source": [
    "from sklearn.tree import plot_tree\n",
    "\n",
    "plt.figure()\n",
    "clf = DecisionTreeClassifier().fit(iris.data, iris.target)\n",
    "plot_tree(clf, filled=True)\n",
    "plt.title(\"AD treinada em todos os atributos\")\n",
    "plt.savefig(\"ad_iris\", dpi=300, bbox_inches='tight')\n",
    "plt.show()"
   ]
  },
  {
   "cell_type": "markdown",
   "metadata": {},
   "source": [
    "## Agora, vejamos como ocorre o processo de poda, utilizando o CCP"
   ]
  },
  {
   "cell_type": "markdown",
   "metadata": {},
   "source": [
    "A poda de complexidade de custo mínimo é um algoritmo usado para podar uma árvore para evitar o ajuste excessivo. Este algoritmo é parametrizado por $\\alpha \\geq 0 $ conhecido como parâmetro de complexidade. O parâmetro de complexidade é usado para definir a medida de complexidade de custo, $R_{\\alpha}(T)$ de uma determinada árvore T:\n",
    "\n",
    "$R_{\\alpha}(T) = R(T) + \\alpha|T^{'}|$,\n",
    "\n",
    "onde $|T^{'}|$ é o número de nós terminais em $T$ e $R(T)$ é tradicionalmente definido como a taxa total de erros de classificação dos nós terminais. Alternativamente, o scikit-learn usa a impureza total ponderada da amostra dos nós terminais para $R(T)$. Como mostrado acima, a impureza de um nó depende do critério. A poda de complexidade de custo mínima encontra a subárvore de $T$ que minimiza $R_{\\alpha}(T)$.\n",
    "\n",
    "A medida de complexidade de custo de um único nó é $R_{\\alpha}(T) = R(T) + |T^{'}|$. O ramo $T_{t}$ é definido como uma árvore onde o nó $t$ é sua raiz. Em geral, a impureza de um nó é maior que a soma das impurezas de seus nós terminais, $R(T_{t}) < R(T)$. No entanto, a medida de complexidade de custo de um nó, $t$, e seu ramo, $T_{t}$\n",
    ", pode ser igual dependendo $\\alpha$. Definimos o efetivo $\\alpha$ de um nó para ser o valor onde eles são iguais, $R_{\\alpha}(T_{t}) = R_{\\alpha}(t)$ ou $\\alpha_{eff}(t) = \\dfrac{R(t)-R(T_t)}{|T-1|}$. Um nó não terminal com o menor valor de $\\alpha_{eff}$ é o elo mais fraco e será podado. Este processo para quando o $\\alpha_{eff}$ mínimo da árvore podada\n",
    "é maior que o parâmetro ``ccp_alpha``.\n"
   ]
  },
  {
   "cell_type": "code",
   "execution_count": 76,
   "metadata": {},
   "outputs": [],
   "source": [
    "# Dividindo novamente os dados em treinamento e teste\n",
    "X_train, X_test, Y_train, Y_test = train_test_split(iris.data, iris.target, test_size=0.3,\n",
    "                                                    random_state=0, shuffle=True)"
   ]
  },
  {
   "cell_type": "markdown",
   "metadata": {},
   "source": [
    "## Impureza total das folhas vs alfas efetivos da árvore podada\n",
    "\n",
    "A poda de complexidade de custo mínimo, recursivamente encontra o nó com o \"elo mais fraco\". O elo mais fraco é caracterizado por um alfa efetivo, onde os nós com o menor alfa efetivo são podados primeiro.\n",
    "\n",
    "Para ter uma ideia de quais valores de ``ccp_alpha`` podem ser apropriados, o scikit-learn fornece a função ``cost_complexity_pruning_path`` que retorna os alfas efetivos e as impurezas totais correspondentes à folha em cada etapa do processo de poda. \n",
    "\n",
    "À medida que o alfa aumenta, mais da árvore é podada, o que aumenta a impureza total de suas folhas."
   ]
  },
  {
   "cell_type": "code",
   "execution_count": 77,
   "metadata": {},
   "outputs": [],
   "source": [
    "clf = DecisionTreeClassifier(criterion='gini', random_state=0) # testar 'entropy'...\n",
    "path = clf.cost_complexity_pruning_path(X_train, Y_train)\n",
    "ccp_alphas, impurities = path.ccp_alphas, path.impurities"
   ]
  },
  {
   "cell_type": "markdown",
   "metadata": {},
   "source": [
    "No gráfico a seguir, o valor do alfa máximo efetivo é removido, pois é a árvore trivial com apenas um nó."
   ]
  },
  {
   "cell_type": "code",
   "execution_count": 78,
   "metadata": {},
   "outputs": [
    {
     "data": {
      "text/plain": [
       "Text(0.5, 1.0, 'Impureza total vs. alpha efetivo no conjunto de treinamento')"
      ]
     },
     "execution_count": 78,
     "metadata": {},
     "output_type": "execute_result"
    },
    {
     "data": {
      "image/png": "[encoded data removed]",
      "text/plain": [
       "<Figure size 432x288 with 1 Axes>"
      ]
     },
     "metadata": {
      "needs_background": "light"
     },
     "output_type": "display_data"
    }
   ],
   "source": [
    "fig, ax = plt.subplots()\n",
    "ax.plot(ccp_alphas[:-1], impurities[:-1], marker=\"o\", drawstyle=\"steps-post\")\n",
    "ax.set_xlabel(\"alpha efetivo\")\n",
    "ax.set_ylabel(\"total de impureza das folhas\")\n",
    "ax.set_title(\"Impureza total vs. alpha efetivo no conjunto de treinamento\")"
   ]
  },
  {
   "cell_type": "markdown",
   "metadata": {},
   "source": [
    "Em seguida, treinamos uma AD usando os alfas efetivos. \n",
    "\n",
    "O último valor em ``ccp_alpha`` é o valor alpha que poda toda a árvore, deixando a árvore, clfs[-1], com um nó."
   ]
  },
  {
   "cell_type": "code",
   "execution_count": 79,
   "metadata": {},
   "outputs": [
    {
     "name": "stdout",
     "output_type": "stream",
     "text": [
      "Número de nós na última árvore é: 1 com ccp_alpha: 0.32949953690396344\n"
     ]
    }
   ],
   "source": [
    "clfs = []\n",
    "for ccp_alpha in ccp_alphas:\n",
    "    clf = DecisionTreeClassifier(random_state=0, ccp_alpha=ccp_alpha)\n",
    "    clf.fit(X_train, Y_train)\n",
    "    clfs.append(clf)\n",
    "print(\n",
    "    \"Número de nós na última árvore é: {} com ccp_alpha: {}\".format(\n",
    "        clfs[-1].tree_.node_count, ccp_alphas[-1]\n",
    "    )\n",
    ")"
   ]
  },
  {
   "cell_type": "markdown",
   "metadata": {},
   "source": [
    "Para o restante deste exemplo, removemos o último elemento em clfs e ``ccp_alpha`` porque é a árvore trivial com apenas um nó. \n",
    "\n",
    "Aqui mostramos que o número de nós e a profundidade da árvore diminuem à medida que alpha aumenta."
   ]
  },
  {
   "cell_type": "code",
   "execution_count": 80,
   "metadata": {},
   "outputs": [
    {
     "data": {
      "image/png": "[encoded data removed]",
      "text/plain": [
       "<Figure size 432x288 with 2 Axes>"
      ]
     },
     "metadata": {
      "needs_background": "light"
     },
     "output_type": "display_data"
    }
   ],
   "source": [
    "clfs = clfs[:-1]\n",
    "ccp_alphas = ccp_alphas[:-1]\n",
    "\n",
    "node_counts = [clf.tree_.node_count for clf in clfs]\n",
    "depth = [clf.tree_.max_depth for clf in clfs]\n",
    "fig, ax = plt.subplots(2, 1)\n",
    "ax[0].plot(ccp_alphas, node_counts, marker=\"o\", drawstyle=\"steps-post\")\n",
    "ax[0].set_xlabel(\"alpha\")\n",
    "ax[0].set_ylabel(\"número de nós\")\n",
    "ax[0].set_title(\"Número de nós vs. alpha\")\n",
    "ax[1].plot(ccp_alphas, depth, marker=\"o\", drawstyle=\"steps-post\")\n",
    "ax[1].set_xlabel(\"alpha\")\n",
    "ax[1].set_ylabel(\"profundidade da árvore\")\n",
    "ax[1].set_title(\"Profundidade vs. alpha\")\n",
    "fig.tight_layout()"
   ]
  },
  {
   "cell_type": "markdown",
   "metadata": {},
   "source": [
    "## Acurácia vs alpha para conjuntos de treinamento e teste\n",
    "\n",
    "Quando ``ccp_alpha`` é definido como zero, e mantendo os outros parâmetros padrão da AD, a árvore se sobreajusta, levando a uma taxa de acerto de treinamento de 100% e taxa de acerto de teste de 88\\%. À medida que alpha aumenta, mais da árvore é podada, criando assim uma árvore de decisão que generaliza melhor. \n",
    "\n",
    "Neste exemplo, configurar ``ccp_alpha`` = 0.02 maximiza a acurácia no teste."
   ]
  },
  {
   "cell_type": "code",
   "execution_count": 81,
   "metadata": {},
   "outputs": [
    {
     "data": {
      "image/png": "[encoded data removed]",
      "text/plain": [
       "<Figure size 432x288 with 1 Axes>"
      ]
     },
     "metadata": {
      "needs_background": "light"
     },
     "output_type": "display_data"
    }
   ],
   "source": [
    "train_scores = [clf.score(X_train, Y_train) for clf in clfs]\n",
    "test_scores = [clf.score(X_test, Y_test) for clf in clfs]\n",
    "\n",
    "fig, ax = plt.subplots()\n",
    "ax.set_xlabel(\"alpha\")\n",
    "ax.set_ylabel(\"Acurácia\")\n",
    "ax.set_title(\"Acurácia vs. alpha para partições de treinamento e teste\")\n",
    "ax.plot(ccp_alphas, train_scores, marker=\"o\", label=\"train\", drawstyle=\"steps-post\")\n",
    "ax.plot(ccp_alphas, test_scores, marker=\"o\", label=\"test\", drawstyle=\"steps-post\")\n",
    "ax.legend()\n",
    "plt.show()"
   ]
  },
  {
   "cell_type": "code",
   "execution_count": null,
   "metadata": {},
   "outputs": [],
   "source": []
  }
 ],
 "metadata": {
  "kernelspec": {
   "display_name": "Python 3",
   "language": "python",
   "name": "python3"
  },
  "language_info": {
   "codemirror_mode": {
    "name": "ipython",
    "version": 3
   },
   "file_extension": ".py",
   "mimetype": "text/x-python",
   "name": "python",
   "nbconvert_exporter": "python",
   "pygments_lexer": "ipython3",
   "version": "3.7.9"
  }
 },
 "nbformat": 4,
 "nbformat_minor": 1
}
