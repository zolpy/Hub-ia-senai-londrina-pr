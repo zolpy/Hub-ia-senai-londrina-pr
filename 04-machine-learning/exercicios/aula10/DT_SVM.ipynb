{
 "cells": [
  {
   "cell_type": "markdown",
   "metadata": {},
   "source": [
    "## Treinando ADs em alguns datasets\n"
   ]
  },
  {
   "cell_type": "code",
   "execution_count": 1,
   "metadata": {},
   "outputs": [],
   "source": [
    "import numpy as np\n",
    "import matplotlib.pyplot as plt\n",
    "\n",
    "from sklearn.tree import DecisionTreeClassifier\n",
    "from sklearn.datasets import load_digits, fetch_openml\n",
    "from sklearn.model_selection import train_test_split\n",
    "from sklearn.metrics import classification_report\n",
    "from sklearn.preprocessing import StandardScaler"
   ]
  },
  {
   "cell_type": "code",
   "execution_count": 2,
   "metadata": {},
   "outputs": [],
   "source": [
    "# carregando o dataset MNIST\n",
    "X, y = fetch_openml(\"mnist_784\", version=1, return_X_y=True, as_frame=False) # 28x28\n",
    "#X, y = load_digits(return_X_y=True) # 8x8 -> 10 classes (0,...,9)"
   ]
  },
  {
   "cell_type": "code",
   "execution_count": 3,
   "metadata": {},
   "outputs": [],
   "source": [
    "# Dividindo os dados em treinamento e teste\n",
    "X_train, X_test, Y_train, Y_test = train_test_split(X, y, test_size=0.3,\n",
    "                                                    random_state=0, shuffle=True)"
   ]
  },
  {
   "cell_type": "code",
   "execution_count": 4,
   "metadata": {},
   "outputs": [
    {
     "data": {
      "text/plain": [
       "(49000, 784)"
      ]
     },
     "execution_count": 4,
     "metadata": {},
     "output_type": "execute_result"
    }
   ],
   "source": [
    "X_train.shape"
   ]
  },
  {
   "cell_type": "code",
   "execution_count": 5,
   "metadata": {},
   "outputs": [
    {
     "data": {
      "text/plain": [
       "DecisionTreeClassifier()"
      ]
     },
     "execution_count": 5,
     "metadata": {},
     "output_type": "execute_result"
    }
   ],
   "source": [
    "# Instanciamos a AD e treinamos no conjunto de treinamento\n",
    "clf = DecisionTreeClassifier()\n",
    "clf.fit(X_train, Y_train)"
   ]
  },
  {
   "cell_type": "code",
   "execution_count": 6,
   "metadata": {},
   "outputs": [],
   "source": [
    "# Predição no conjunto de testes\n",
    "preds = clf.predict(X_test)"
   ]
  },
  {
   "cell_type": "code",
   "execution_count": 7,
   "metadata": {},
   "outputs": [
    {
     "name": "stdout",
     "output_type": "stream",
     "text": [
      "              precision    recall  f1-score   support\n",
      "\n",
      "           0       0.93      0.92      0.93      2077\n",
      "           1       0.94      0.96      0.95      2385\n",
      "           2       0.86      0.85      0.86      2115\n",
      "           3       0.84      0.83      0.84      2117\n",
      "           4       0.87      0.88      0.87      2004\n",
      "           5       0.82      0.82      0.82      1900\n",
      "           6       0.89      0.89      0.89      2045\n",
      "           7       0.89      0.90      0.90      2189\n",
      "           8       0.83      0.81      0.82      2042\n",
      "           9       0.83      0.84      0.84      2126\n",
      "\n",
      "    accuracy                           0.87     21000\n",
      "   macro avg       0.87      0.87      0.87     21000\n",
      "weighted avg       0.87      0.87      0.87     21000\n",
      "\n"
     ]
    }
   ],
   "source": [
    "print(classification_report(Y_test, preds))"
   ]
  },
  {
   "cell_type": "code",
   "execution_count": 8,
   "metadata": {},
   "outputs": [],
   "source": [
    "# Agora treinaremos outros modelos para comparar com a AD:\n",
    "\n",
    "from sklearn.svm import SVC # \"Support vector classifier\"\n",
    "from sklearn.linear_model import LogisticRegression"
   ]
  },
  {
   "cell_type": "code",
   "execution_count": 9,
   "metadata": {},
   "outputs": [
    {
     "data": {
      "text/plain": [
       "SVC(C=100)"
      ]
     },
     "execution_count": 9,
     "metadata": {},
     "output_type": "execute_result"
    }
   ],
   "source": [
    "#lr = LogisticRegression(solver='liblinear', C=0.05, random_state=0, multi_class='ovr')\n",
    "#lr.fit(X_train, Y_train)\n",
    "svm = SVC(kernel='rbf', C=100)\n",
    "svm.fit(X_train, Y_train)"
   ]
  },
  {
   "cell_type": "code",
   "execution_count": 10,
   "metadata": {},
   "outputs": [
    {
     "name": "stdout",
     "output_type": "stream",
     "text": [
      "              precision    recall  f1-score   support\n",
      "\n",
      "           0       0.99      0.99      0.99      2077\n",
      "           1       0.99      0.99      0.99      2385\n",
      "           2       0.97      0.99      0.98      2115\n",
      "           3       0.98      0.97      0.98      2117\n",
      "           4       0.98      0.98      0.98      2004\n",
      "           5       0.98      0.98      0.98      1900\n",
      "           6       0.98      0.98      0.98      2045\n",
      "           7       0.98      0.98      0.98      2189\n",
      "           8       0.98      0.97      0.98      2042\n",
      "           9       0.98      0.97      0.97      2126\n",
      "\n",
      "    accuracy                           0.98     21000\n",
      "   macro avg       0.98      0.98      0.98     21000\n",
      "weighted avg       0.98      0.98      0.98     21000\n",
      "\n"
     ]
    }
   ],
   "source": [
    "# Predição no conjunto de testes\n",
    "#preds_lr = lr.predict(X_test)\n",
    "preds_svm = svm.predict(X_test)\n",
    "\n",
    "print(classification_report(Y_test, preds_svm))"
   ]
  },
  {
   "cell_type": "code",
   "execution_count": 11,
   "metadata": {},
   "outputs": [
    {
     "name": "stdout",
     "output_type": "stream",
     "text": [
      "AD: ['0' '4' '1' ... '9' '0' '1'] vs. LR: ['0' '4' '1' ... '9' '0' '1']\n"
     ]
    }
   ],
   "source": [
    "print(\"AD:\", preds, \"vs. LR:\",preds_svm)"
   ]
  },
  {
   "cell_type": "code",
   "execution_count": 12,
   "metadata": {},
   "outputs": [],
   "source": [
    "# Normalizando os dados..."
   ]
  },
  {
   "cell_type": "code",
   "execution_count": 13,
   "metadata": {},
   "outputs": [],
   "source": [
    "scaler = StandardScaler()\n",
    "x_train = scaler.fit_transform(X_train)"
   ]
  },
  {
   "cell_type": "code",
   "execution_count": 14,
   "metadata": {},
   "outputs": [
    {
     "data": {
      "text/plain": [
       "SVC(C=100)"
      ]
     },
     "execution_count": 14,
     "metadata": {},
     "output_type": "execute_result"
    }
   ],
   "source": [
    "svm2 = SVC(kernel='rbf', C=100)\n",
    "svm2.fit(x_train, Y_train)"
   ]
  },
  {
   "cell_type": "code",
   "execution_count": 15,
   "metadata": {},
   "outputs": [],
   "source": [
    "# Normalizando as amostras do conjunto de testes:\n",
    "x_test = scaler.transform(X_test)\n",
    "\n",
    "# em seguida, chamamos a função predict, passando o conjunto de teste:\n",
    "y_pred = svm2.predict(x_test)"
   ]
  },
  {
   "cell_type": "code",
   "execution_count": 16,
   "metadata": {},
   "outputs": [
    {
     "name": "stdout",
     "output_type": "stream",
     "text": [
      "              precision    recall  f1-score   support\n",
      "\n",
      "           0       0.99      0.98      0.99      2077\n",
      "           1       0.99      0.99      0.99      2385\n",
      "           2       0.91      0.98      0.94      2115\n",
      "           3       0.97      0.96      0.97      2117\n",
      "           4       0.97      0.97      0.97      2004\n",
      "           5       0.97      0.96      0.96      1900\n",
      "           6       0.98      0.97      0.97      2045\n",
      "           7       0.97      0.96      0.97      2189\n",
      "           8       0.97      0.96      0.96      2042\n",
      "           9       0.97      0.95      0.96      2126\n",
      "\n",
      "    accuracy                           0.97     21000\n",
      "   macro avg       0.97      0.97      0.97     21000\n",
      "weighted avg       0.97      0.97      0.97     21000\n",
      "\n"
     ]
    }
   ],
   "source": [
    "print(classification_report(Y_test, y_pred))"
   ]
  },
  {
   "cell_type": "code",
   "execution_count": 17,
   "metadata": {},
   "outputs": [
    {
     "name": "stdout",
     "output_type": "stream",
     "text": [
      "AD: ['0' '4' '1' ... '9' '0' '1'] vs. LR (normalização): ['0' '4' '1' ... '9' '0' '1']\n"
     ]
    }
   ],
   "source": [
    "print(\"AD:\", preds, \"vs. LR (normalização):\", y_pred)"
   ]
  },
  {
   "cell_type": "code",
   "execution_count": 18,
   "metadata": {},
   "outputs": [
    {
     "name": "stdout",
     "output_type": "stream",
     "text": [
      "              precision    recall  f1-score   support\n",
      "\n",
      "           0       0.92      0.92      0.92      2077\n",
      "           1       0.93      0.96      0.94      2385\n",
      "           2       0.87      0.85      0.86      2115\n",
      "           3       0.84      0.83      0.84      2117\n",
      "           4       0.85      0.88      0.87      2004\n",
      "           5       0.82      0.81      0.81      1900\n",
      "           6       0.89      0.89      0.89      2045\n",
      "           7       0.90      0.90      0.90      2189\n",
      "           8       0.82      0.80      0.81      2042\n",
      "           9       0.83      0.82      0.83      2126\n",
      "\n",
      "    accuracy                           0.87     21000\n",
      "   macro avg       0.87      0.87      0.87     21000\n",
      "weighted avg       0.87      0.87      0.87     21000\n",
      "\n"
     ]
    }
   ],
   "source": [
    "clf2 = DecisionTreeClassifier()\n",
    "clf2.fit(x_train, Y_train)\n",
    "\n",
    "#x_test = scaler.transform(X_test)\n",
    "y_pred2 = clf2.predict(x_test)\n",
    "print(classification_report(Y_test, y_pred2))"
   ]
  },
  {
   "cell_type": "code",
   "execution_count": 19,
   "metadata": {},
   "outputs": [
    {
     "name": "stdout",
     "output_type": "stream",
     "text": [
      "AD (normalização): ['0' '4' '1' ... '9' '0' '1'] vs. LR (normalização): ['0' '4' '1' ... '9' '0' '1']\n"
     ]
    }
   ],
   "source": [
    "print(\"AD (normalização):\", y_pred2, \"vs. LR (normalização):\", y_pred)"
   ]
  },
  {
   "cell_type": "markdown",
   "metadata": {},
   "source": [
    "Agora, podemos mostrar a estrutura de uma AD completa, treinada em todos os atributos do dataset:"
   ]
  },
  {
   "cell_type": "code",
   "execution_count": 22,
   "metadata": {},
   "outputs": [
    {
     "data": {
      "image/png": "[encoded data removed]",
      "text/plain": [
       "<Figure size 432x288 with 1 Axes>"
      ]
     },
     "metadata": {
      "needs_background": "light"
     },
     "output_type": "display_data"
    }
   ],
   "source": [
    "from sklearn.tree import plot_tree\n",
    "\n",
    "plt.figure()\n",
    "#clf = DecisionTreeClassifier().fit(iris.data, iris.target)\n",
    "plot_tree(clf2, filled=True)\n",
    "plt.title(\"AD treinada em todos os atributos\")\n",
    "plt.savefig(\"ad_mnist\", dpi=300, bbox_inches='tight')\n",
    "plt.show()"
   ]
  },
  {
   "cell_type": "code",
   "execution_count": null,
   "metadata": {},
   "outputs": [],
   "source": []
  },
  {
   "cell_type": "code",
   "execution_count": null,
   "metadata": {},
   "outputs": [],
   "source": []
  },
  {
   "cell_type": "markdown",
   "metadata": {},
   "source": [
    "Desafio: Montar uma Random Forest, utilizando as AD do próprio scikit, para classificar os dígitos do MNIST."
   ]
  },
  {
   "cell_type": "code",
   "execution_count": null,
   "metadata": {},
   "outputs": [],
   "source": []
  }
 ],
 "metadata": {
  "kernelspec": {
   "display_name": "Python 3",
   "language": "python",
   "name": "python3"
  },
  "language_info": {
   "codemirror_mode": {
    "name": "ipython",
    "version": 3
   },
   "file_extension": ".py",
   "mimetype": "text/x-python",
   "name": "python",
   "nbconvert_exporter": "python",
   "pygments_lexer": "ipython3",
   "version": "3.7.9"
  }
 },
 "nbformat": 4,
 "nbformat_minor": 1
}
