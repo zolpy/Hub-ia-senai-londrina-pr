{
  "cells": [
    {
      "cell_type": "markdown",
      "metadata": {
        "id": "P4XeSvlW313P"
      },
      "source": [
        "# Exemplo Regressão Linear\n",
        "\n",
        "Dado um conjunto de pontos, a ideia é encontrar uma reta que melhor represente o comportamento desses dados.\n",
        "Após encontrar essa reta, é possível predizer a saída de uma nova amostra cujo valor é desconhecido.\n",
        "\n",
        "\n",
        "![alt tag](assets/img1.png)"
      ]
    },
    {
      "cell_type": "markdown",
      "metadata": {
        "id": "Yluqjv1n313V"
      },
      "source": [
        "**Regressão Linear** é um modelo básico de predição que usa dados históricos para predizer a saída de uma variável. É muito popular para modelos de predição por ser fácil de entender e implementar.\n",
        "\n",
        "Modelos de regressão linear tem muitas aplicações em problemas reais, como economia, ciências sociais, saúde, etc.\n",
        "\n",
        "Entender como implementar um modelo de regressão linear pode desenterrar o histórico dos dados para resolver problemas presentes e futuros. Usaremos Python por ser uma ferramenta robusta para lidar, processar e modelar dados. Além disso, contém uma quantidade muito grande de bibliotecas para aprendizagem de máquinas e modelagem de dados.\n",
        "\n",
        "A ideia básica da regressão linear é encontrar uma reta que represente o conjunto de dados observados (conjunto de treinamento). O modelo pode então ser usado para predizer valores futuros. Vamos assumir, por exemplo, que descobrimos nesses dados históricos que o preço (P) de uma case é linearmente dependente do seu tamanho (S) - na verdade, nós descobrimos que o preço das casas é exatamente 90 vezes o seu tamanho. A equação é definida a seguir:\n",
        "\n",
        "\\begin{equation}\n",
        "P = 90*S\n",
        "\\end{equation}\n",
        "\n",
        "Com esse modelo, nós podemos predizer o custo de qualquer casa. Se tivermos uma casa que com $1,500$ metros quadrados, podemos calcular seu preço como sendo:\n",
        "\n",
        "\\begin{equation}\n",
        "P = 90*1500 = \\$135,000\n",
        "\\end{equation}\n",
        "\n",
        "Nessa aula, vamos aprender:\n",
        "\n",
        "\n",
        "1. os conceitos básicos e matemáticos por trás do modelo\n",
        "2. como implementar regressão linear do princípio (solução analítica)\n",
        "3. como implementar regressão linear usando scikit-learn\n"
      ]
    },
    {
      "cell_type": "markdown",
      "metadata": {
        "id": "G1JylQkb313X"
      },
      "source": [
        "# Conceitos básicos e matemáticos\n",
        "\n",
        "Existem dois tipos de variáveis em um modelo de regressão linear:\n",
        "\n",
        "- valores de **entrada**, que ajudam a predizer a variável de saída. Comumente, é chamada de $X$.\n",
        "- a variável de **saída**, que é o valor que desejamos descobrir. Em geral, é chamada de $y$.\n",
        "\n",
        "Para estimar $y$ usando regressão linear, nós usamos a equação:\n",
        "\n",
        "\\begin{equation}\n",
        "y_e = \\alpha + \\beta X\n",
        "\\end{equation}\n",
        "onde $y_e$ é o valor estimado de $y$ baseado na equação linear. Note que a equação é identica à equação da reta, sendo que $\\beta$ define a inclinação da reta e $\\alpha$ representa a altura que essa linha corta o eixo $y$ quando o valor no eixo $x$ é igual a zero.\n",
        "\n",
        "Nosso objetivo é encontrar os valores dos parâmetros $\\alpha$ e $\\beta$ que minimizem a diferênça entre $y$ e $y_e$.\n",
        "\n",
        "Se pudermos determinar o valor ótimo desses dois parâmetros, então teremos a linha que melhor se ajusta aos dados para predizer o valor de $y$, dado o valor de $X$.\n",
        "\n",
        "Então, como podemos estimar $\\alpha$ e $\\beta$? Podemos usar o método dos mínimos quadrados (ordinary least squares).\n",
        "\n"
      ]
    },
    {
      "cell_type": "markdown",
      "metadata": {
        "id": "F8jjgP3X313Y"
      },
      "source": [
        "### Método dos mínimos quadrados\n",
        "\n",
        "![alt tag](assets/ols.png)\n",
        "\n",
        "O objetivo do método dos mínimos quadrados é encontrar valores de $\\alpha$ e $\\beta$ que minimizam a soma da diferença ao quadrado entre $y$ e $y_e$. Usando calculo, podemos encontrar esses valores da seguinte maneira:\n",
        "\n",
        "\\begin{equation}\n",
        "    \\beta = \\frac{\\sum_{i=1}^n(X_i-\\hat{X})(y_i-\\hat{y})}{\\sum_{i=1}^n(X_i-\\hat{X})^2}\n",
        "\\end{equation}\n",
        "\n",
        "\\begin{equation}\n",
        "    \\alpha = \\hat{y}-\\beta * \\hat{X}\n",
        "\\end{equation}\n",
        "onde $\\hat{X}$ e $\\hat{y}$ representam os valores médios das variáveis $X$ e $Y$, respectivamente, e $n$ representa o número de amostras."
      ]
    },
    {
      "cell_type": "markdown",
      "metadata": {
        "id": "j2NcCWTo313Z"
      },
      "source": [
        "### Implementação 'na mão' (solução analítica)\n",
        "\n",
        "Antes de mergulharmos nas implementações práticas usando bibliotecas como o scikit-learn, é interessante entender como implementar o modelo desde o início.\n",
        "\n",
        "Para começar, vamos simular alguns dados e verificar como os valores preditos ($y_e$) diferencial do valor real de saída ($y$)."
      ]
    },
    {
      "cell_type": "code",
      "execution_count": null,
      "metadata": {
        "id": "FnGOy5jM313Z",
        "outputId": "73e8a88e-8742-4236-cff3-ddae10858cf5"
      },
      "outputs": [
        {
          "data": {
            "text/html": [
              "<div>\n",
              "<style scoped>\n",
              "    .dataframe tbody tr th:only-of-type {\n",
              "        vertical-align: middle;\n",
              "    }\n",
              "\n",
              "    .dataframe tbody tr th {\n",
              "        vertical-align: top;\n",
              "    }\n",
              "\n",
              "    .dataframe thead th {\n",
              "        text-align: right;\n",
              "    }\n",
              "</style>\n",
              "<table border=\"1\" class=\"dataframe\">\n",
              "  <thead>\n",
              "    <tr style=\"text-align: right;\">\n",
              "      <th></th>\n",
              "      <th>X</th>\n",
              "      <th>y</th>\n",
              "    </tr>\n",
              "  </thead>\n",
              "  <tbody>\n",
              "    <tr>\n",
              "      <th>0</th>\n",
              "      <td>5.910131</td>\n",
              "      <td>4.714615</td>\n",
              "    </tr>\n",
              "    <tr>\n",
              "      <th>1</th>\n",
              "      <td>2.500393</td>\n",
              "      <td>2.076238</td>\n",
              "    </tr>\n",
              "    <tr>\n",
              "      <th>2</th>\n",
              "      <td>3.946845</td>\n",
              "      <td>2.548811</td>\n",
              "    </tr>\n",
              "    <tr>\n",
              "      <th>3</th>\n",
              "      <td>7.102233</td>\n",
              "      <td>4.615368</td>\n",
              "    </tr>\n",
              "    <tr>\n",
              "      <th>4</th>\n",
              "      <td>6.168895</td>\n",
              "      <td>3.264107</td>\n",
              "    </tr>\n",
              "  </tbody>\n",
              "</table>\n",
              "</div>"
            ],
            "text/plain": [
              "          X         y\n",
              "0  5.910131  4.714615\n",
              "1  2.500393  2.076238\n",
              "2  3.946845  2.548811\n",
              "3  7.102233  4.615368\n",
              "4  6.168895  3.264107"
            ]
          },
          "execution_count": 1,
          "metadata": {},
          "output_type": "execute_result"
        }
      ],
      "source": [
        "import pandas as pd # biblioteca para importar e manusear dados.\n",
        "import numpy as np # biblioteca com funções para lidar com arrays, expressões matemáticas, dentre outros.\n",
        "from matplotlib import pyplot as plt # biblioteca para plotar dados.\n",
        "\n",
        "# Gerando dados aleatórios\n",
        "np.random.seed(0)\n",
        "X = 2.5 * np.random.randn(100) + 1.5   # Array com 100 valores com média 1.5 e desvio = 2.5\n",
        "res = 0.5 * np.random.randn(100)       # gerando 100 termos residuais\n",
        "y = 2 + 0.3 * X + res                  # valores reais de y\n",
        "\n",
        "# Criando uma dataframe Pandas para armazenar nossos valores de X e y.\n",
        "df = pd.DataFrame(\n",
        "    {'X': X,\n",
        "     'y': y}\n",
        ")\n",
        "\n",
        "# mostrando as primeiras 5 linhas do nosso dataframe.\n",
        "df.head()"
      ]
    },
    {
      "cell_type": "markdown",
      "metadata": {
        "id": "AXrztFKf313c"
      },
      "source": [
        "Antes de estimar os valores de $\\alpha$ e $\\beta$, precisamos computar os valores médio de $X$ e $y$, i.e., $xmean$ e $ymean$, a covariancia de $X$ e $y$ ($xycov$), e a variancia de $X$ ($xvar$)."
      ]
    },
    {
      "cell_type": "code",
      "execution_count": null,
      "metadata": {
        "id": "wn7ViG8z313d",
        "outputId": "fd46b403-ae68-4d86-df65-ef76082ef777"
      },
      "outputs": [
        {
          "name": "stdout",
          "output_type": "stream",
          "text": [
            "alpha = 2.0031670124623426\n",
            "beta = 0.3229396867092763\n"
          ]
        }
      ],
      "source": [
        "# Calculando as médias de X e y.\n",
        "xmean = np.mean(X)\n",
        "ymean = np.mean(y)\n",
        "\n",
        "# Calcular os termos necessários para encontrar 𝛽, \n",
        "# i.e., o numerador (covariancia entre X e y) e o denominador (variância de X).\n",
        "df['xycov'] = (df['X'] - xmean) * (df['y'] - ymean)\n",
        "df['xvar'] = (df['X'] - xmean)**2\n",
        "\n",
        "# Computando 𝛽 e 𝛼.\n",
        "beta = df['xycov'].sum() / df['xvar'].sum()\n",
        "alpha = ymean - (beta * xmean)\n",
        "print(f'alpha = {alpha}')\n",
        "print(f'beta = {beta}')"
      ]
    },
    {
      "cell_type": "markdown",
      "metadata": {
        "id": "-vRh7p4-313e"
      },
      "source": [
        "Agora que encontramos os valores de $\\alpha$ e $\\beta$, nosso modelo pode ser escrito da como $y_e = 2.003 + 0.323 * X$, e podemos fazer predições:"
      ]
    },
    {
      "cell_type": "code",
      "execution_count": null,
      "metadata": {
        "scrolled": true,
        "id": "7hAxKIzv313f",
        "outputId": "26c26e45-5005-482b-9f66-819d73ac052d"
      },
      "outputs": [
        {
          "name": "stdout",
          "output_type": "stream",
          "text": [
            "[3.91178282 2.81064315 3.27775989 4.29675991 3.99534802 1.69857201\n",
            " 3.25462968 2.36537842 2.40424288 2.81907292 2.60387001 3.66168312\n",
            " 3.10199975 2.58581077 2.84592918 2.75696825 3.69382011 2.32194218\n",
            " 2.74033151 1.79802302 0.42642221 3.015275   3.18547843 1.88839019\n",
            " 4.32006116 1.31339555 2.52451965 2.33645381 3.72506464 3.67386219\n",
            " 2.61267323 2.79288576 1.77082341 0.88838207 2.20668994 2.61380476\n",
            " 3.48085076 3.45831697 2.17486854 2.24351265 1.64102813 1.34112617\n",
            " 1.11002064 4.06253353 2.07610925 2.1338976  1.47613319 3.11528277\n",
            " 1.18459738 2.31582084 1.76462232 2.79994197 2.07517841 1.53439407\n",
            " 2.46482364 2.83338994 2.54127917 2.73177699 1.9754571  2.19471775\n",
            " 1.94466613 2.19729158 1.83108353 1.09386364 2.6308214  2.16319902\n",
            " 1.17143718 2.86120343 1.75506992 2.52951462 3.07620724 2.59171079\n",
            " 3.40747079 1.49064088 2.81240675 1.93469565 1.78453915 2.02024272\n",
            " 2.23604485 2.53292159 1.54689373 3.2148581  2.86352875 1.24729141\n",
            " 3.68911579 4.01822118 3.43926331 2.34231437 1.62310525 3.33888732\n",
            " 2.16207195 3.47451661 2.65572718 3.2760653  2.77528867 3.05802784\n",
            " 2.49605373 3.92939769 2.59003892 2.81212234]\n"
          ]
        }
      ],
      "source": [
        "ypred = alpha + beta * X\n",
        "print(ypred)"
      ]
    },
    {
      "cell_type": "markdown",
      "metadata": {
        "id": "4r0vPveF313g"
      },
      "source": [
        "Vamos plotar a predição $ypred$ contra o valor real de $y$, providenciando uma compreensão visual de nosso modelo."
      ]
    },
    {
      "cell_type": "code",
      "execution_count": null,
      "metadata": {
        "id": "wpWY7a-q313g",
        "outputId": "a5428c46-d38e-4c6d-d5dc-8a4e9a6b694e"
      },
      "outputs": [
        {
          "data": {
            "image/png": "[encoded data removed]",
            "text/plain": [
              "<Figure size 864x432 with 1 Axes>"
            ]
          },
          "metadata": {
            "needs_background": "light"
          },
          "output_type": "display_data"
        }
      ],
      "source": [
        "# Plotando a regressão contra os dados reais\n",
        "plt.figure(figsize=(12, 6))\n",
        "plt.plot(X, ypred)     # linha da regressão\n",
        "plt.plot(X, y, 'ro')   # scatter plot mostrando os dados reais\n",
        "plt.title('Real vs Predito')\n",
        "plt.xlabel('X')\n",
        "plt.ylabel('y')\n",
        "\n",
        "plt.show()"
      ]
    },
    {
      "cell_type": "markdown",
      "metadata": {
        "id": "i9dI2B8D313g"
      },
      "source": [
        "A linha azul é o melhor ajuste à equação $y_e = 2.003 + 0.323 X$. Podemos observar no gráfico que existe uma relação linear positiva entre $X$ e $y$. Usando nosso modelo, podemos predizer $y$ a partir de qualquer valor de $X$.\n",
        "\n",
        "Ex: $y_e = 2.003 + 0.323 (10) = 5.233$.\n"
      ]
    },
    {
      "cell_type": "markdown",
      "metadata": {
        "id": "Ql_jGKj_313h"
      },
      "source": [
        "### Regressão Linear usando scikit-learn\n",
        "\n",
        "Agora que sabemos como implementar o regressor linear ''na mão'', vamos aprender a usar o scikit-learn para predizer um valor de saída utilizando variáveis de entrada com duas (ou mais) dimensões. Para isso, utilizaremos um famoso dataset chamado *advertising*, o qual é composto pelos custos incorridos em propagandas utilizando diversos meios e as vendas de um produto particular.\n",
        "\n",
        "Neste exemplo, observaremos como as variáveis TV e Rádio podem predizer o número de vendas de um determinado produto. Vamos começar importando o dataset no formato csv como um Pandas dataframe usando a função read_csv(): "
      ]
    },
    {
      "cell_type": "code",
      "execution_count": null,
      "metadata": {
        "id": "XzT-66AI313h",
        "outputId": "ba772b0b-5eda-4136-a6d8-bb2ad55df03b"
      },
      "outputs": [
        {
          "data": {
            "text/html": [
              "<div>\n",
              "<style scoped>\n",
              "    .dataframe tbody tr th:only-of-type {\n",
              "        vertical-align: middle;\n",
              "    }\n",
              "\n",
              "    .dataframe tbody tr th {\n",
              "        vertical-align: top;\n",
              "    }\n",
              "\n",
              "    .dataframe thead th {\n",
              "        text-align: right;\n",
              "    }\n",
              "</style>\n",
              "<table border=\"1\" class=\"dataframe\">\n",
              "  <thead>\n",
              "    <tr style=\"text-align: right;\">\n",
              "      <th></th>\n",
              "      <th>Unnamed: 0</th>\n",
              "      <th>TV</th>\n",
              "      <th>Radio</th>\n",
              "      <th>Newspaper</th>\n",
              "      <th>Sales</th>\n",
              "    </tr>\n",
              "  </thead>\n",
              "  <tbody>\n",
              "    <tr>\n",
              "      <th>0</th>\n",
              "      <td>1</td>\n",
              "      <td>230.1</td>\n",
              "      <td>37.8</td>\n",
              "      <td>69.2</td>\n",
              "      <td>22.1</td>\n",
              "    </tr>\n",
              "    <tr>\n",
              "      <th>1</th>\n",
              "      <td>2</td>\n",
              "      <td>44.5</td>\n",
              "      <td>39.3</td>\n",
              "      <td>45.1</td>\n",
              "      <td>10.4</td>\n",
              "    </tr>\n",
              "    <tr>\n",
              "      <th>2</th>\n",
              "      <td>3</td>\n",
              "      <td>17.2</td>\n",
              "      <td>45.9</td>\n",
              "      <td>69.3</td>\n",
              "      <td>9.3</td>\n",
              "    </tr>\n",
              "    <tr>\n",
              "      <th>3</th>\n",
              "      <td>4</td>\n",
              "      <td>151.5</td>\n",
              "      <td>41.3</td>\n",
              "      <td>58.5</td>\n",
              "      <td>18.5</td>\n",
              "    </tr>\n",
              "    <tr>\n",
              "      <th>4</th>\n",
              "      <td>5</td>\n",
              "      <td>180.8</td>\n",
              "      <td>10.8</td>\n",
              "      <td>58.4</td>\n",
              "      <td>12.9</td>\n",
              "    </tr>\n",
              "  </tbody>\n",
              "</table>\n",
              "</div>"
            ],
            "text/plain": [
              "   Unnamed: 0     TV  Radio  Newspaper  Sales\n",
              "0           1  230.1   37.8       69.2   22.1\n",
              "1           2   44.5   39.3       45.1   10.4\n",
              "2           3   17.2   45.9       69.3    9.3\n",
              "3           4  151.5   41.3       58.5   18.5\n",
              "4           5  180.8   10.8       58.4   12.9"
            ]
          },
          "execution_count": 5,
          "metadata": {},
          "output_type": "execute_result"
        }
      ],
      "source": [
        "# Importa e mostra as cinco primeiras linhas do dataset advertising.\n",
        "\n",
        "# pode ser baixado em: https://www.kaggle.com/purbar/advertising-data#Advertising.csv\n",
        "\n",
        "advert = pd.read_csv('data/Advertising.csv')\n",
        "advert.head()"
      ]
    },
    {
      "cell_type": "markdown",
      "metadata": {
        "id": "bEqT9qAz313i"
      },
      "source": [
        "Um regressor linear com mais de uma variável de predição é modelado da seguinte forma:\n",
        "\n",
        "\\begin{equation}\n",
        "    y_e = \\alpha + \\beta_1X_1 + \\beta_2X_2 + \\dots + \\beta_pX_p,\n",
        "\\end{equation}\n",
        "onde $p$ é o número de variáveis de predição.\n",
        "\n",
        "No nosso exemplo, iremos predizer o número de produtos vendidos (Sales) usando as variáveis TV e Rádio, i.e., nosso modelo pode ser escrito como:\n",
        "\n",
        "\\begin{equation}\n",
        "    Vendas = \\alpha + \\beta_1TV + \\beta_2Radio.\n",
        "\\end{equation}\n",
        "\n",
        "Primeiramente, vamos inicializar nosso modelo de regressão linear, e então ajustar o modelo às nossas variáveis de predição e valor de saída:"
      ]
    },
    {
      "cell_type": "code",
      "execution_count": null,
      "metadata": {
        "id": "BJMMd0eb313i"
      },
      "outputs": [],
      "source": [
        "from sklearn.linear_model import LinearRegression\n",
        "\n",
        "# Constroi o modelo de regressão linear usando as variáveis TV e Radio.\n",
        "# Separa os dados em variáveis de predição de entrada X e a saída y\n",
        "predictors = ['TV', 'Radio']\n",
        "X = advert[predictors]\n",
        "y = advert['Sales']\n",
        "\n",
        "# Inicializa e ajusta o modelo\n",
        "lm = LinearRegression()\n",
        "model = lm.fit(X, y)"
      ]
    },
    {
      "cell_type": "markdown",
      "metadata": {
        "id": "R8fxSELs313i"
      },
      "source": [
        "Dessa vez não é necessário calcular os valores de $\\alpha$ e os $\\beta$s, uma que nosso modelo retorna esses valores através das chamadas .intercept_ para o $\\alpha$ e .coef_ para retornar o array com os valores de $\\beta_1$ e $\\beta_2$:"
      ]
    },
    {
      "cell_type": "code",
      "execution_count": null,
      "metadata": {
        "id": "pLTMt_CW313j",
        "outputId": "052c9f78-67c2-4e25-d9e5-4f06401983ad"
      },
      "outputs": [
        {
          "name": "stdout",
          "output_type": "stream",
          "text": [
            "alpha = 2.921099912405138\n",
            "betas = [0.04575482 0.18799423]\n"
          ]
        }
      ],
      "source": [
        "alpha = model.intercept_\n",
        "betas = model.coef_\n",
        "\n",
        "print(f'alpha = {alpha}')\n",
        "print(f'betas = {betas}')"
      ]
    },
    {
      "cell_type": "markdown",
      "metadata": {
        "id": "ADAzLNNb313j"
      },
      "source": [
        "Sendo assim, nosso modelo pode ser escrito como:\n",
        "\n",
        "\\begin{equation}\n",
        "    Vendas = 2.921 + 0.046 * TV + 0.188 * Radio.\n",
        "\\end{equation}"
      ]
    },
    {
      "cell_type": "code",
      "execution_count": null,
      "metadata": {
        "scrolled": true,
        "id": "YvzoKmXS313j",
        "outputId": "8670bd64-9c7c-4fa2-aaf6-443b95c589d6"
      },
      "outputs": [
        {
          "name": "stdout",
          "output_type": "stream",
          "text": [
            "vendas = [20.55546463 12.34536229 12.33701773 17.61711596 13.22390813 12.51208449\n",
            " 11.71821241 12.10551553  3.7093792  12.55169696  7.0358597  17.25652015\n",
            " 10.60866187  8.81095051 18.44466773 20.82891539 12.90386507 23.24107626\n",
            "  9.94121476 14.15384619 18.12139161 14.74206357  6.51417168 16.54402663\n",
            "  8.14035215 15.6080206  14.96769383 17.0463346  19.39954145  9.15929748\n",
            " 21.64292187 11.35791808  7.65045928 18.83346334  7.56302763 16.99280099\n",
            " 23.36720719 15.6258994   9.91257829 20.4405801  16.37872122 17.29870935\n",
            " 21.5621537  13.96692266  8.9009974  15.16263814  8.88644967 21.69944046\n",
            " 16.28690268  8.18162949 12.64569407  9.31962792 20.66180115 19.96126242\n",
            " 20.35512357 21.30864743  8.53774783 12.76239488 21.89072858 18.10746914\n",
            "  5.74497097 22.90418658 16.78413768 13.18474853 16.96570907  7.82652846\n",
            "  8.98703456 12.02066194 18.95313425 21.09369037 17.78350693 10.63329605\n",
            " 10.35113844  9.91334008 17.30983543 11.90970399  4.48014809 13.79239059\n",
            "  8.78920329  9.67621401 11.43621364 14.6638809  10.18272029 14.41647235\n",
            " 20.77350468 15.22002396 11.58203354 15.61872354 11.75510286 16.93110264\n",
            "  9.98714329  4.51167896 19.17972975 21.26277229 10.46708623 16.33347878\n",
            " 12.62023117 15.32904398 24.12842563 16.94651016 13.90534597 23.30701753\n",
            " 17.64034079 14.75193037 20.26809884 17.95362103  6.13290678  7.11373347\n",
            "  3.59568568 19.66392439 14.79408982 21.12381933 13.85533202 16.38399023\n",
            " 15.29725626 12.93708446 11.97848762  6.56716317 15.60946713  6.81665095\n",
            " 14.42450056  7.86076515 13.62136464 15.05811789 19.4940435   9.12925166\n",
            " 10.59096289  6.59063608 22.21260278  7.90401761 10.39769966 15.60046013\n",
            "  8.41888332 19.27581486 11.86602974 13.96678613 11.42419802 20.87722595\n",
            "  9.75760743 19.63411177  9.47540519 18.43880322 19.25144497  8.77862066\n",
            " 10.10502768  9.6976895  15.27918887 23.26038805 12.23595022  9.81659119\n",
            " 18.37759626 10.03658404 16.34251686 18.22227054 15.48053237  5.28942768\n",
            " 15.39522591 10.01956371 10.39341821 12.40610283 14.21650102 13.57248088\n",
            " 14.94400258 17.32019972 11.04707937 14.28978442 10.80869402 13.36076565\n",
            " 17.21335083 17.92193265  7.3895737  14.37684633  7.59657824 11.96096978\n",
            " 13.73615116 24.7835259  19.96402163 12.17492441 16.01384397 12.37803956\n",
            " 10.57508895 13.93369584  6.56408761 24.16393648 18.53794901 20.77937663\n",
            "  9.69868449 17.06027938 18.62009678  6.0514451  12.45497782  8.4059261\n",
            "  4.47885906 18.44876059 16.4631902   5.36451249  8.15237521 12.76804849\n",
            " 23.79292299 15.15754285]\n"
          ]
        }
      ],
      "source": [
        "beta1 = betas[0]\n",
        "beta2 = betas[1]\n",
        "TV = advert['TV']\n",
        "Radio = advert['Radio']\n",
        "\n",
        "vendas = alpha + beta1 * TV + beta2 * Radio\n",
        "print(f'vendas = {vendas.values}')"
      ]
    },
    {
      "cell_type": "markdown",
      "metadata": {
        "id": "mXkWXZzG313k"
      },
      "source": [
        "Porém, uma opção melhor é simplesmente usar a função .predict():\n",
        "\n",
        "---\n",
        "\n"
      ]
    },
    {
      "cell_type": "code",
      "execution_count": null,
      "metadata": {
        "scrolled": true,
        "id": "5AXiwIU5313k",
        "outputId": "d9e2e44a-4b2f-4ec1-e572-cdc1d062967a"
      },
      "outputs": [
        {
          "name": "stdout",
          "output_type": "stream",
          "text": [
            "vendas = [20.55546463 12.34536229 12.33701773 17.61711596 13.22390813 12.51208449\n",
            " 11.71821241 12.10551553  3.7093792  12.55169696  7.0358597  17.25652015\n",
            " 10.60866187  8.81095051 18.44466773 20.82891539 12.90386507 23.24107626\n",
            "  9.94121476 14.15384619 18.12139161 14.74206357  6.51417168 16.54402663\n",
            "  8.14035215 15.6080206  14.96769383 17.0463346  19.39954145  9.15929748\n",
            " 21.64292187 11.35791808  7.65045928 18.83346334  7.56302763 16.99280099\n",
            " 23.36720719 15.6258994   9.91257829 20.4405801  16.37872122 17.29870935\n",
            " 21.5621537  13.96692266  8.9009974  15.16263814  8.88644967 21.69944046\n",
            " 16.28690268  8.18162949 12.64569407  9.31962792 20.66180115 19.96126242\n",
            " 20.35512357 21.30864743  8.53774783 12.76239488 21.89072858 18.10746914\n",
            "  5.74497097 22.90418658 16.78413768 13.18474853 16.96570907  7.82652846\n",
            "  8.98703456 12.02066194 18.95313425 21.09369037 17.78350693 10.63329605\n",
            " 10.35113844  9.91334008 17.30983543 11.90970399  4.48014809 13.79239059\n",
            "  8.78920329  9.67621401 11.43621364 14.6638809  10.18272029 14.41647235\n",
            " 20.77350468 15.22002396 11.58203354 15.61872354 11.75510286 16.93110264\n",
            "  9.98714329  4.51167896 19.17972975 21.26277229 10.46708623 16.33347878\n",
            " 12.62023117 15.32904398 24.12842563 16.94651016 13.90534597 23.30701753\n",
            " 17.64034079 14.75193037 20.26809884 17.95362103  6.13290678  7.11373347\n",
            "  3.59568568 19.66392439 14.79408982 21.12381933 13.85533202 16.38399023\n",
            " 15.29725626 12.93708446 11.97848762  6.56716317 15.60946713  6.81665095\n",
            " 14.42450056  7.86076515 13.62136464 15.05811789 19.4940435   9.12925166\n",
            " 10.59096289  6.59063608 22.21260278  7.90401761 10.39769966 15.60046013\n",
            "  8.41888332 19.27581486 11.86602974 13.96678613 11.42419802 20.87722595\n",
            "  9.75760743 19.63411177  9.47540519 18.43880322 19.25144497  8.77862066\n",
            " 10.10502768  9.6976895  15.27918887 23.26038805 12.23595022  9.81659119\n",
            " 18.37759626 10.03658404 16.34251686 18.22227054 15.48053237  5.28942768\n",
            " 15.39522591 10.01956371 10.39341821 12.40610283 14.21650102 13.57248088\n",
            " 14.94400258 17.32019972 11.04707937 14.28978442 10.80869402 13.36076565\n",
            " 17.21335083 17.92193265  7.3895737  14.37684633  7.59657824 11.96096978\n",
            " 13.73615116 24.7835259  19.96402163 12.17492441 16.01384397 12.37803956\n",
            " 10.57508895 13.93369584  6.56408761 24.16393648 18.53794901 20.77937663\n",
            "  9.69868449 17.06027938 18.62009678  6.0514451  12.45497782  8.4059261\n",
            "  4.47885906 18.44876059 16.4631902   5.36451249  8.15237521 12.76804849\n",
            " 23.79292299 15.15754285]\n"
          ]
        }
      ],
      "source": [
        "vendas = model.predict(X)\n",
        "print(f'vendas = {vendas}')"
      ]
    },
    {
      "cell_type": "markdown",
      "metadata": {
        "id": "raPV88BE313k"
      },
      "source": [
        "Agora que ajustamos um regressor linear com multiplas variaveis de entradas, podemos predizer a quantidade de vendas para qualquer combinação de valor gasto com propagando em TV e Rádio! Por exemplo, se quisermos saber quantas vendas fariamos ao investir $\\$300$ em propaganda na TV e $\\$200$ em propaganda em rádios, a única coisa a fazer é plugar esses novos valores:"
      ]
    },
    {
      "cell_type": "code",
      "execution_count": null,
      "metadata": {
        "id": "rf_K4Z0h313l",
        "outputId": "89de4709-cfa7-42d3-da2c-31b2af960587"
      },
      "outputs": [
        {
          "name": "stdout",
          "output_type": "stream",
          "text": [
            "[73.04581243]\n"
          ]
        },
        {
          "name": "stderr",
          "output_type": "stream",
          "text": [
            "/home/roder/anaconda3/envs/deep/lib/python3.7/site-packages/sklearn/base.py:451: UserWarning: X does not have valid feature names, but LinearRegression was fitted with feature names\n",
            "  \"X does not have valid feature names, but\"\n"
          ]
        }
      ],
      "source": [
        "new_X = [[300, 300]]\n",
        "print(model.predict(new_X))"
      ]
    },
    {
      "cell_type": "markdown",
      "metadata": {
        "id": "ySKnkwz5313l"
      },
      "source": [
        "Isso significa que se gastarmos $\\$300$ em propaganda na TV e $\\$200$ em propaganda em rádios, poderiamos esperar, em média, vender 54 unidades de nosso produto."
      ]
    },
    {
      "cell_type": "markdown",
      "metadata": {
        "id": "1xWPebvK313l"
      },
      "source": [
        "Nessa aula, nós implementamos um modelo de regressão linear em python ''na mão'' e usando scikit-learn. Espero que tenham gostado."
      ]
    },
    {
      "cell_type": "markdown",
      "metadata": {
        "id": "F-roGxDI313l"
      },
      "source": [
        "# Exercícios\n",
        "\n",
        "1. Ajustar o modelo ''Na mão'' utilizando o dataset *Advertising* para, dado o valor gasto com propaganda na TV, predizer a quantidade de produtos vendidos.\n",
        "\n",
        "2. Ajustar o modelo utilizando scikit-learn para predizer a quantidade de produtos vendidos considerando os gastos em propaganda na TV, Rádio e Jornal (newspaper)."
      ]
    },
    {
      "cell_type": "markdown",
      "metadata": {
        "id": "6YiKN_Ua313m"
      },
      "source": [
        "# Solução:\n",
        "\n",
        "1. Ajustar o modelo ''Na mão'' utilizando o dataset *Advertising* para, dado o valor gasto com propaganda na TV, predizer a quantidade de produtos vendidos."
      ]
    },
    {
      "cell_type": "code",
      "source": [
        "from google.colab import drive\n",
        "drive.mount('/content/drive')"
      ],
      "metadata": {
        "colab": {
          "base_uri": "https://localhost:8080/"
        },
        "id": "9nHjhcld4KJJ",
        "outputId": "ab76498a-c3e2-4575-83c9-c6f1318f8d0d"
      },
      "execution_count": 1,
      "outputs": [
        {
          "output_type": "stream",
          "name": "stdout",
          "text": [
            "Mounted at /content/drive\n"
          ]
        }
      ]
    },
    {
      "cell_type": "code",
      "execution_count": 12,
      "metadata": {
        "colab": {
          "base_uri": "https://localhost:8080/"
        },
        "id": "I_edxfgH313m",
        "outputId": "0e05335f-df75-41de-cacf-57ec3f806df5"
      },
      "outputs": [
        {
          "output_type": "stream",
          "name": "stdout",
          "text": [
            "alfa = 7.033\n",
            "beta = 0.048\n"
          ]
        }
      ],
      "source": [
        "import pandas as pd \n",
        "import numpy as np \n",
        "from matplotlib import pyplot as plt \n",
        "\n",
        "df = pd.read_csv('/content/drive/MyDrive/Colab Notebooks/SENAI_PR/exercicios/data/Advertising.csv')\n",
        "\n",
        "X = df['TV'].values\n",
        "y = df['Sales'].values\n",
        "\n",
        "# Calculando as médias de X e y \n",
        "xmean = np.mean(X)\n",
        "ymean = np.mean(y)\n",
        "\n",
        "# Calcular os termos necessários para encontrar 𝛽,\n",
        "# i.e., o numerador (covariancia entre X e y) e o denominador (variancia de X)\n",
        "df['xycov'] = (df['TV'] - xmean) * (df['Sales'] - ymean)\n",
        "df['xvar'] = (df['TV'] - xmean)**2\n",
        "\n",
        "# Computando 𝛽 e 𝛼.\n",
        "beta = df['xycov'].sum() / df['xvar'].sum()\n",
        "alfa = ymean - (beta * xmean)\n",
        "print(f'alfa = {alfa.round(3)}')\n",
        "print(f'beta = {beta.round(3)}') "
      ]
    },
    {
      "cell_type": "markdown",
      "source": [
        "Agora que encontramos os valores de $\\alpha$ e $\\beta$, nosso modelo pode ser escrito da como $y_e = 7.033 + 0.048 * X$, e podemos fazer predições:\n",
        "\n",
        "\n"
      ],
      "metadata": {
        "id": "bmZ9GMit5Ji_"
      }
    },
    {
      "cell_type": "code",
      "source": [
        "ypred = alfa + beta * X\n",
        "print(ypred)\n"
      ],
      "metadata": {
        "colab": {
          "base_uri": "https://localhost:8080/"
        },
        "id": "IIklmD_0CuV5",
        "outputId": "dd72efb5-a4f8-4c45-b0b7-12519e06eab9"
      },
      "execution_count": 13,
      "outputs": [
        {
          "output_type": "stream",
          "name": "stdout",
          "text": [
            "[17.97077451  9.14797405  7.85022376 14.23439457 15.62721814  7.44616232\n",
            "  9.76595037 12.74649773  7.44140866 16.53041431 10.17476548 17.23871025\n",
            "  8.16396559 11.66741599 16.73482186 16.32125309 10.25557777 20.40940417\n",
            " 10.32212907 14.03474068 17.41459582 18.31779199  7.6600772  17.88520856\n",
            "  9.99412625 19.52997632 13.82557947 18.44614092 18.85970969 10.38868036\n",
            " 20.95607553 12.39948025 11.653155   19.65832525 11.58185004 20.85149492\n",
            " 19.72012288 10.58358059  9.08142275 17.87094757 16.65876324 15.44657891\n",
            " 20.98935118 16.86792445  8.22576322 15.35625929 11.2966302  18.43663359\n",
            " 17.83291826 10.21279479 16.53041431 11.80527225 17.31952254 15.71278409\n",
            " 19.52046899 16.48763133  7.37961102 13.50708398 17.05331735 17.04856369\n",
            "  9.57580381 19.45391769 18.4081116  11.91460652 13.26464711 10.31262174\n",
            "  8.52999772 13.65444756 18.31779199 17.3385372  16.49713866 12.25211667\n",
            "  8.30657551 13.18383482 17.17691262  7.83596277  8.33985116 12.76075872\n",
            "  7.28929141 12.54684384 10.66439288 18.43187992 10.61210257 10.28409975\n",
            " 17.18166628 16.21667248 10.65963921 12.29489965 11.2300789  12.25211667\n",
            " 13.41676436  8.39214147 17.38132017 18.95953663 12.13802873 14.79532693\n",
            " 16.4258337  15.82211837 20.80395828 13.45954734 17.60474238 21.12245377\n",
            " 20.3523602  15.96472829 18.3558213  13.58789626  8.22100956 11.32990584\n",
            "  7.65532354 19.17345152 17.76636696 18.52219954 15.38478127 16.99627338\n",
            " 10.74995883 10.60259525 13.6496939  10.66439288 13.00794925  7.95480437\n",
            " 13.74952084  7.92628239 17.68080101 12.88435399 17.94225253 11.17778859\n",
            "  7.40337934 10.84503211 17.50491544  9.86577732  7.0658692  19.63931059\n",
            "  7.43190133 17.48114712  8.78669558  9.32861328  8.24953154 20.04337204\n",
            "  9.07666909 15.82211837 10.52178296 16.2404408  17.51442276 12.00492614\n",
            " 11.60561836 13.7019842  18.44614092 18.5935045   8.83898589  9.15748138\n",
            " 20.37612852 12.78452704 16.4258337  15.17562006 15.95997462  7.22749377\n",
            " 11.49628409 14.15358229  7.58877224 13.29316909 15.23266402 11.10648363\n",
            " 15.98849661 14.80483426 12.60388781 18.17993573  7.88349941 16.86317079\n",
            " 17.2719859  20.54726042  9.40942557 14.8523709   7.9643117  15.0377638\n",
            " 17.60474238 20.19548929 18.84069503 15.12332975 20.18598196 14.9046612\n",
            " 14.47683144 17.41934948  9.70415274 20.70413134 19.09739289 16.77760484\n",
            " 13.66395489 16.11684554 20.62807271  7.92152873  8.91029085 10.6216099\n",
            "  7.85022376 14.96170517 14.14882862  8.84849321 11.51054508 15.44657891\n",
            " 20.51398478 18.06584779]\n"
          ]
        }
      ]
    },
    {
      "cell_type": "markdown",
      "source": [
        "## Vamos plotar a predição $ypred$ contra o valor real de $y$, providenciando uma compreensão visual de nosso modelo."
      ],
      "metadata": {
        "id": "YGhtQxQLC3sE"
      }
    },
    {
      "cell_type": "code",
      "source": [
        "# Plotando a regressão contra os dados reais\n",
        "plt.figure(figsize=(12, 6))\n",
        "plt.plot(X, ypred)     # linha da regressão\n",
        "plt.plot(X, y, 'ro')   # scatter plot mostrando os dados reais\n",
        "plt.title('Real vs Predito')\n",
        "plt.grid()\n",
        "plt.xlabel('X')\n",
        "plt.ylabel('y')\n",
        "plt.legend()\n",
        "\n",
        "plt.show()"
      ],
      "metadata": {
        "colab": {
          "base_uri": "https://localhost:8080/",
          "height": 421
        },
        "id": "R0GF5YzzDCxp",
        "outputId": "9daa7cb4-9c6c-4354-bd60-30ae3b9998bf"
      },
      "execution_count": 16,
      "outputs": [
        {
          "output_type": "stream",
          "name": "stderr",
          "text": [
            "No handles with labels found to put in legend.\n"
          ]
        },
        {
          "output_type": "display_data",
          "data": {
            "image/png": "[encoded data removed]",
            "text/plain": [
              "<Figure size 864x432 with 1 Axes>"
            ]
          },
          "metadata": {
            "needs_background": "light"
          }
        }
      ]
    },
    {
      "cell_type": "markdown",
      "source": [
        "A linha azul é o melhor ajuste à equação $y_e = 7.033 + 0.048  X$. Podemos observar no gráfico que existe uma relação linear positiva entre $X$ e $y$. Usando nosso modelo, podemos predizer $y$ a partir de qualquer valor de $X$.\n",
        "Ex: $y_e = 7.033 + 0.048 (20) = 7.993 ≅ 8$\n",
        "\n",
        "\n",
        "\n",
        "\n",
        "\n"
      ],
      "metadata": {
        "id": "rPwF4T8WDkIt"
      }
    },
    {
      "cell_type": "markdown",
      "metadata": {
        "id": "Ydrqqsvz313m"
      },
      "source": [
        "2. Ajustar o modelo utilizando scikit-learn para predizer a quantidade de produtos vendidos considerando os gastos em propaganda na TV, Rádio e Jornal (newspaper)."
      ]
    },
    {
      "cell_type": "code",
      "execution_count": 27,
      "metadata": {
        "scrolled": true,
        "id": "505SIeB9313m"
      },
      "outputs": [],
      "source": [
        "import pandas as pd \n",
        "import numpy as np \n",
        "from matplotlib import pyplot as plt \n",
        "\n",
        "df = pd.read_csv('/content/drive/MyDrive/Colab Notebooks/SENAI_PR/exercicios/data/Advertising.csv')\n",
        "\n",
        "from sklearn.linear_model import LinearRegression\n",
        "\n",
        "# Constroi o modelo de regressão linear usando as variáveis TV, Radio e Newspaper.\n",
        "# Separa os dados em variáveis de predição de entrada X e a saída y\n",
        "\n",
        "predictors = ['TV', 'Radio', 'Newspaper']\n",
        "X = df[predictors]\n",
        "y = df['Sales']\n",
        "\n",
        "# Inicializa e ajusta o modelo\n",
        "lm = LinearRegression()\n",
        "model = lm.fit(X, y)"
      ]
    },
    {
      "cell_type": "markdown",
      "source": [
        "-----------------------------\n",
        "Um regressor linear com mais de uma variável de predição é modelado da seguinte forma:\n",
        "\n",
        "\\begin{equation}\n",
        "    y_e = \\alpha + \\beta_1X_1 + \\beta_2X_2 + \\dots + \\beta_pX_p,\n",
        "\\end{equation}\n",
        "onde $p$ é o número de variáveis de predição.\n",
        "\n",
        "No nosso exemplo, iremos predizer o número de produtos vendidos (Sales) usando as variáveis TV, Rádio e Newspaper, i.e., nosso modelo pode ser escrito como:\n",
        "\n",
        "\\begin{equation}\n",
        "    Sales = \\alpha + \\beta_1TV + \\beta_2Radio + \\beta_3Newspaper.\n",
        "\\end{equation}\n",
        "\n",
        "Primeiramente, vamos inicializar nosso modelo de regressão linear, e então ajustar o modelo às nossas variáveis de predição e valor de saída:\n"
      ],
      "metadata": {
        "id": "GR-27n0tJmGM"
      }
    },
    {
      "cell_type": "markdown",
      "source": [
        "Dessa vez não é necessário calcular os valores de $\\alpha$ e os $\\beta$s, uma que nosso modelo retorna esses valores através das chamadas .intercept_ para o $\\alpha$ e .coef_ para retornar o array com os valores de $\\beta_1$, $\\beta_2$ e $\\beta_3$:"
      ],
      "metadata": {
        "id": "jweaxv-yK_UY"
      }
    },
    {
      "cell_type": "code",
      "source": [
        "alpha = model.intercept_\n",
        "betas = model.coef_\n",
        "\n",
        "print(f'alpha = {alpha}')\n",
        "print(f'betas = {betas}')\n",
        "\n",
        "#Sendo assim, nosso modelo pode ser escrito como:\n",
        "print('\\nEntão temos que a equação fica:')\n",
        "print(f'Sales = {alpha.round(3)} + ({betas[0].round(3)} * TV) + ({betas[1].round(3)} * Radio) + ({betas[2].round(3)} * Newspaper)')\n",
        "\n"
      ],
      "metadata": {
        "colab": {
          "base_uri": "https://localhost:8080/"
        },
        "id": "cOt0w_M6JnaS",
        "outputId": "2cf626ba-eac6-4654-f1f7-f051b2ac01a5"
      },
      "execution_count": 39,
      "outputs": [
        {
          "output_type": "stream",
          "name": "stdout",
          "text": [
            "alpha = 2.938889369459412\n",
            "betas = [ 0.04576465  0.18853002 -0.00103749]\n",
            "\n",
            "Então temos que a equação fica:\n",
            "Sales = 2.939 + (0.046 * TV) + (0.189 * Radio) + (-0.001 * Newspaper)\n"
          ]
        }
      ]
    },
    {
      "cell_type": "code",
      "source": [
        "TV = df['TV']\n",
        "Radio = df['Radio']\n",
        "Newspaper = df['Newspaper']\n",
        "\n",
        "vendas = alpha + betas[0] * TV + betas[1] * Radio + betas[2] * Newspaper\n",
        "print(f'Sales = {vendas.values}')"
      ],
      "metadata": {
        "colab": {
          "base_uri": "https://localhost:8080/"
        },
        "id": "tn6WNTOnLM5G",
        "outputId": "b70ba7bd-7f1d-423c-f3e2-2334fe4cc31b"
      },
      "execution_count": 42,
      "outputs": [
        {
          "output_type": "stream",
          "name": "stdout",
          "text": [
            "Sales = [20.52397441 12.33785482 12.30767078 17.59782951 13.18867186 12.47834763\n",
            " 11.72975995 12.12295317  3.72734086 12.55084872  7.0322992  17.28512918\n",
            " 10.57712073  8.82630048 18.43436638 20.81929952 12.82365674 23.22495716\n",
            "  9.95168206 14.16607293 18.10076728 14.7405382   6.4891503  16.5459329\n",
            "  8.14651887 15.6100386  14.98951429 17.05167344 19.41053803  9.14402389\n",
            " 21.6339338  11.3460929   7.63888314 18.86426829  7.57483051 17.00682618\n",
            " 23.40590052 15.62347779  9.90868103 20.44761039 16.37766467 17.2959832\n",
            " 21.59580326 13.96385684  8.88787996 15.16152314  8.87338673 21.7226299\n",
            " 16.26362018  8.1681656  12.63121132  9.33981296 20.66297563 19.94469957\n",
            " 20.37443008 21.2926106   8.52771254 12.77458802 21.89805198 18.13348698\n",
            "  5.74215558 22.89067208 16.78426073 13.21069202 16.97773556  7.84904532\n",
            "  9.01603163 12.0370073  18.97657924 21.10891244 17.77949782 10.62693815\n",
            " 10.36684881  9.90298206 17.32931197 11.85832174  4.47758904 13.81190223\n",
            "  8.81331353  9.67530328 11.44592364 14.64794093 10.17840799 14.42184212\n",
            " 20.78136464 15.18140789 11.59870739 15.59378475 11.71127101 16.92225511\n",
            "  9.99922965  4.49631598 19.15639616 21.22757378 10.48212385 16.31492112\n",
            " 12.63571716 15.33707782 24.11860723 16.94035021 13.87595844 23.24248685\n",
            " 17.64409385 14.76221142 20.30110878 17.93641467  6.12602215  7.10850249\n",
            "  3.58725841 19.69293106 14.7598741  21.14027498 13.88060985 16.40377623\n",
            " 15.30509593 12.91968895 11.97874744  6.5707774  15.56609348  6.82006767\n",
            " 14.41010605  7.83807642 13.6264571  15.0827909  19.45441306  9.12734958\n",
            " 10.57717411  6.599669   22.25549161  7.88410649 10.4276871  15.57779819\n",
            "  8.44915012 19.26692307 11.8368039  14.00141385 11.45348627 20.85125198\n",
            "  9.76842795 19.67547632  9.48964097 18.39902932 19.24986927  8.76480262\n",
            " 10.09133403  9.70853872 15.29422368 23.26086103 12.26335941  9.8272711\n",
            " 18.36720534 10.0095377  16.3600003  18.22390132 15.50161696  5.3075589\n",
            " 15.38485192 10.0143112  10.38419866 12.39914823 14.21383298 13.55914568\n",
            " 14.94678206 17.35163608 11.0682946  14.22372138 10.82439531 13.36324677\n",
            " 17.1861428  17.9415563   7.39497997 14.35827373  7.60769238 11.97093887\n",
            " 13.74435742 24.78687031 19.9793727  12.1620464  16.01099722 12.38455495\n",
            " 10.5871997  13.92809918  6.55467    24.13310013 18.53852096 20.80301059\n",
            "  9.69137313 17.07644223 18.64430648  6.05162411 12.4891591   8.42401933\n",
            "  4.46622956 18.48695797 16.49530044  5.37034248  8.16531236 12.78592082\n",
            " 23.76732149 15.17319554]\n"
          ]
        }
      ]
    },
    {
      "cell_type": "code",
      "source": [
        "#Porém, uma opção melhor é simplesmente usar a função .predict():\n",
        "\n",
        "sale = model.predict(X)\n",
        "print(f'sale = {sale}')"
      ],
      "metadata": {
        "colab": {
          "base_uri": "https://localhost:8080/"
        },
        "id": "McJW88lvMkjD",
        "outputId": "df6c51e6-5113-44df-f3d8-f34a18634cd8"
      },
      "execution_count": 45,
      "outputs": [
        {
          "output_type": "stream",
          "name": "stdout",
          "text": [
            "sale = [20.52397441 12.33785482 12.30767078 17.59782951 13.18867186 12.47834763\n",
            " 11.72975995 12.12295317  3.72734086 12.55084872  7.0322992  17.28512918\n",
            " 10.57712073  8.82630048 18.43436638 20.81929952 12.82365674 23.22495716\n",
            "  9.95168206 14.16607293 18.10076728 14.7405382   6.4891503  16.5459329\n",
            "  8.14651887 15.6100386  14.98951429 17.05167344 19.41053803  9.14402389\n",
            " 21.6339338  11.3460929   7.63888314 18.86426829  7.57483051 17.00682618\n",
            " 23.40590052 15.62347779  9.90868103 20.44761039 16.37766467 17.2959832\n",
            " 21.59580326 13.96385684  8.88787996 15.16152314  8.87338673 21.7226299\n",
            " 16.26362018  8.1681656  12.63121132  9.33981296 20.66297563 19.94469957\n",
            " 20.37443008 21.2926106   8.52771254 12.77458802 21.89805198 18.13348698\n",
            "  5.74215558 22.89067208 16.78426073 13.21069202 16.97773556  7.84904532\n",
            "  9.01603163 12.0370073  18.97657924 21.10891244 17.77949782 10.62693815\n",
            " 10.36684881  9.90298206 17.32931197 11.85832174  4.47758904 13.81190223\n",
            "  8.81331353  9.67530328 11.44592364 14.64794093 10.17840799 14.42184212\n",
            " 20.78136464 15.18140789 11.59870739 15.59378475 11.71127101 16.92225511\n",
            "  9.99922965  4.49631598 19.15639616 21.22757378 10.48212385 16.31492112\n",
            " 12.63571716 15.33707782 24.11860723 16.94035021 13.87595844 23.24248685\n",
            " 17.64409385 14.76221142 20.30110878 17.93641467  6.12602215  7.10850249\n",
            "  3.58725841 19.69293106 14.7598741  21.14027498 13.88060985 16.40377623\n",
            " 15.30509593 12.91968895 11.97874744  6.5707774  15.56609348  6.82006767\n",
            " 14.41010605  7.83807642 13.6264571  15.0827909  19.45441306  9.12734958\n",
            " 10.57717411  6.599669   22.25549161  7.88410649 10.4276871  15.57779819\n",
            "  8.44915012 19.26692307 11.8368039  14.00141385 11.45348627 20.85125198\n",
            "  9.76842795 19.67547632  9.48964097 18.39902932 19.24986927  8.76480262\n",
            " 10.09133403  9.70853872 15.29422368 23.26086103 12.26335941  9.8272711\n",
            " 18.36720534 10.0095377  16.3600003  18.22390132 15.50161696  5.3075589\n",
            " 15.38485192 10.0143112  10.38419866 12.39914823 14.21383298 13.55914568\n",
            " 14.94678206 17.35163608 11.0682946  14.22372138 10.82439531 13.36324677\n",
            " 17.1861428  17.9415563   7.39497997 14.35827373  7.60769238 11.97093887\n",
            " 13.74435742 24.78687031 19.9793727  12.1620464  16.01099722 12.38455495\n",
            " 10.5871997  13.92809918  6.55467    24.13310013 18.53852096 20.80301059\n",
            "  9.69137313 17.07644223 18.64430648  6.05162411 12.4891591   8.42401933\n",
            "  4.46622956 18.48695797 16.49530044  5.37034248  8.16531236 12.78592082\n",
            " 23.76732149 15.17319554]\n"
          ]
        }
      ]
    },
    {
      "cell_type": "code",
      "source": [
        "df.keys()"
      ],
      "metadata": {
        "colab": {
          "base_uri": "https://localhost:8080/"
        },
        "id": "MoVLrvFwONT8",
        "outputId": "d96e0dcd-e41d-4597-952a-7fdc6ae6026e"
      },
      "execution_count": 44,
      "outputs": [
        {
          "output_type": "execute_result",
          "data": {
            "text/plain": [
              "Index(['Unnamed: 0', 'TV', 'Radio', 'Newspaper', 'Sales'], dtype='object')"
            ]
          },
          "metadata": {},
          "execution_count": 44
        }
      ]
    },
    {
      "cell_type": "markdown",
      "source": [
        "Agora que ajustamos um regressor linear com multiplas variaveis de entradas, podemos predizer a quantidade de vendas para qualquer combinação de valor gasto com propagando em TV, Rádio e Newspapeer! Por exemplo, se quisermos saber quantas vendas fariamos ao investir $\\$300$ em propaganda na TV, $\\$200$ e $\\$100$ em propaganda em rádios, a única coisa a fazer é plugar esses novos valores:"
      ],
      "metadata": {
        "id": "KqEdKY18Oqm5"
      }
    },
    {
      "cell_type": "code",
      "source": [
        "new_X = [[300, 200, 100]]\n",
        "print(f' O valor seria: {model.predict(new_X).round(3)}')"
      ],
      "metadata": {
        "colab": {
          "base_uri": "https://localhost:8080/"
        },
        "id": "YEAWTCuEOeqw",
        "outputId": "20d11f4e-152d-43f6-a5af-e2d7aa270073"
      },
      "execution_count": 48,
      "outputs": [
        {
          "output_type": "stream",
          "name": "stdout",
          "text": [
            " O valor seria: [54.271]\n"
          ]
        },
        {
          "output_type": "stream",
          "name": "stderr",
          "text": [
            "/usr/local/lib/python3.7/dist-packages/sklearn/base.py:451: UserWarning: X does not have valid feature names, but LinearRegression was fitted with feature names\n",
            "  \"X does not have valid feature names, but\"\n"
          ]
        }
      ]
    },
    {
      "cell_type": "code",
      "source": [
        ""
      ],
      "metadata": {
        "id": "1SOw8-UiPCJo"
      },
      "execution_count": null,
      "outputs": []
    }
  ],
  "metadata": {
    "kernelspec": {
      "display_name": "Python 3 (ipykernel)",
      "language": "python",
      "name": "python3"
    },
    "language_info": {
      "codemirror_mode": {
        "name": "ipython",
        "version": 3
      },
      "file_extension": ".py",
      "mimetype": "text/x-python",
      "name": "python",
      "nbconvert_exporter": "python",
      "pygments_lexer": "ipython3",
      "version": "3.7.6"
    },
    "colab": {
      "name": "LinearRegression (respostas).ipynb",
      "provenance": []
    }
  },
  "nbformat": 4,
  "nbformat_minor": 0
}