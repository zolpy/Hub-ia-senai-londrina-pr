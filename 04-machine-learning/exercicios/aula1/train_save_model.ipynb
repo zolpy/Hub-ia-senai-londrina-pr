{
 "cells": [
  {
   "cell_type": "markdown",
   "metadata": {},
   "source": [
    "## Treinando e salvando modelos de ML\n"
   ]
  },
  {
   "cell_type": "code",
   "execution_count": 5,
   "metadata": {},
   "outputs": [],
   "source": [
    "# Passo 1: importando os pacotes\n",
    "import numpy as np\n",
    "import matplotlib.pyplot as plt\n",
    "from sklearn.datasets import load_digits\n",
    "from sklearn.linear_model import LogisticRegression\n",
    "from sklearn.metrics import classification_report, confusion_matrix\n",
    "from sklearn.model_selection import train_test_split\n",
    "from sklearn.preprocessing import StandardScaler"
   ]
  },
  {
   "cell_type": "code",
   "execution_count": 3,
   "metadata": {},
   "outputs": [
    {
     "name": "stdout",
     "output_type": "stream",
     "text": [
      "Dimensões x: (1797, 64)\n",
      "Dimensões y: (1797,)\n"
     ]
    }
   ],
   "source": [
    "# Passo 2a: importando os dados\n",
    "\n",
    "x, y = load_digits(return_X_y=True)\n",
    "\n",
    "print('Dimensões x:', x.shape)\n",
    "print('Dimensões y:', y.shape)\n"
   ]
  },
  {
   "cell_type": "code",
   "execution_count": 6,
   "metadata": {},
   "outputs": [
    {
     "data": {
      "image/png": "[encoded data removed]",
      "text/plain": [
       "<Figure size 432x288 with 1 Axes>"
      ]
     },
     "metadata": {
      "needs_background": "light"
     },
     "output_type": "display_data"
    }
   ],
   "source": [
    "# Visualizando alguns digitos\n",
    "sample = np.random.randint(0, len(x))\n",
    "img = x[sample].reshape((8,8)).astype(np.uint8)\n",
    "\n",
    "imgplot = plt.imshow(img, cmap=\"gray\")"
   ]
  },
  {
   "cell_type": "code",
   "execution_count": 7,
   "metadata": {},
   "outputs": [],
   "source": [
    "# Passo 2b: dividindo os dados em conjunto de treino e conjunto de teste\n",
    "\n",
    "x_train, x_test, y_train, y_test = train_test_split(x, y, test_size=0.2, random_state=0)"
   ]
  },
  {
   "cell_type": "code",
   "execution_count": 8,
   "metadata": {},
   "outputs": [],
   "source": [
    "# Passo 2c: Normalizando os dados\n",
    "\n",
    "scaler = StandardScaler()\n",
    "x_train = scaler.fit_transform(x_train)"
   ]
  },
  {
   "cell_type": "code",
   "execution_count": 9,
   "metadata": {},
   "outputs": [
    {
     "data": {
      "text/plain": [
       "LogisticRegression(C=0.05, multi_class='ovr', random_state=0,\n",
       "                   solver='liblinear')"
      ]
     },
     "execution_count": 9,
     "metadata": {},
     "output_type": "execute_result"
    }
   ],
   "source": [
    "# Passo 3: Criando e treinando o modelo\n",
    "\n",
    "model = LogisticRegression(solver='liblinear', C=0.05, multi_class='ovr',\n",
    "                           random_state=0)\n",
    "model.fit(x_train, y_train)"
   ]
  },
  {
   "cell_type": "code",
   "execution_count": 10,
   "metadata": {},
   "outputs": [],
   "source": [
    "# Passo 4: Avaliando o modelo\n",
    "\n",
    "# normalizando as amostras do conjunto de teste:\n",
    "x_test = scaler.transform(x_test)\n",
    "\n",
    "# em seguida predizemos o conjunto de teste:\n",
    "y_pred = model.predict(x_test)"
   ]
  },
  {
   "cell_type": "code",
   "execution_count": 11,
   "metadata": {},
   "outputs": [
    {
     "name": "stdout",
     "output_type": "stream",
     "text": [
      "Acurácia sobre conjunto de treinamento =  0.964509394572025\n",
      "Acurácia sobre conjunto de teste =  0.9416666666666667\n"
     ]
    }
   ],
   "source": [
    "print('Acurácia sobre conjunto de treinamento = ',model.score(x_train, y_train))\n",
    "print('Acurácia sobre conjunto de teste = ',model.score(x_test, y_test))"
   ]
  },
  {
   "cell_type": "code",
   "execution_count": 14,
   "metadata": {},
   "outputs": [],
   "source": [
    "# salvando o modelo em formato pickle nativo\n",
    "\n",
    "import pickle\n",
    "\n",
    "# criando um objeto iterador com a permissão de leitura e gravação - model_pkl.pkl\n",
    "with open('model_pkl', 'wb') as files:\n",
    "    pickle.dump(model, files)\n"
   ]
  },
  {
   "cell_type": "code",
   "execution_count": 19,
   "metadata": {},
   "outputs": [
    {
     "name": "stdout",
     "output_type": "stream",
     "text": [
      "(360,)\n"
     ]
    }
   ],
   "source": [
    "# carrega o modelo salvo\n",
    "with open('model_pkl' , 'rb') as f:\n",
    "    lr = pickle.load(f)\n",
    "    \n",
    "# usa o modelo carregado para fazer as predições (sanity check)\n",
    "loaded_new_pred = model_loaded.predict(x_test)\n",
    "print(loaded_new_pred.shape)"
   ]
  },
  {
   "cell_type": "code",
   "execution_count": 20,
   "metadata": {},
   "outputs": [],
   "source": [
    "# observação: conseguimos salvar modelos em formato .pkl (pickle), .npy (com numpy.save()), .pth (pytorch)\n",
    "\n",
    "# não é possível salvar modelos mais complexos em .csv de forma trivial, \n",
    "# haja visto que cada conjunto de parâmetros pode representar uma aba da planilha (contra-producente \n",
    "# para salvar e carregar)"
   ]
  }
 ],
 "metadata": {
  "kernelspec": {
   "display_name": "Python 3",
   "language": "python",
   "name": "python3"
  },
  "language_info": {
   "codemirror_mode": {
    "name": "ipython",
    "version": 3
   },
   "file_extension": ".py",
   "mimetype": "text/x-python",
   "name": "python",
   "nbconvert_exporter": "python",
   "pygments_lexer": "ipython3",
   "version": "3.7.9"
  }
 },
 "nbformat": 4,
 "nbformat_minor": 4
}
