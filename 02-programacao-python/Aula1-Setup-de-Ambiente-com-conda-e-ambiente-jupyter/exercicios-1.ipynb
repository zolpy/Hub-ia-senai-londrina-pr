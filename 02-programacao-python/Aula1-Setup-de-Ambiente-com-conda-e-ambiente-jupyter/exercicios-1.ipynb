{
 "cells": [
  {
   "cell_type": "markdown",
   "id": "dfb53e04",
   "metadata": {},
   "source": [
    "<div class=\"cell border-box-sizing text_cell rendered\">\n",
    "<div class=\"inner_cell\">\n",
    "<div class=\"text_cell_render border-box-sizing rendered_html\">\n",
    "<h4>Exerc&iacute;cio 1</h4>\n",
    "<p>Reproduza o seguinte&nbsp;<a href=\"https://github.com/ai2-education-fiep-turma-4/02-programacao-python/blob/master/exercicios/aula1/assets/markdown.pdf\">README</a>&nbsp;utilizando markdown no Jupyter notebook.</p>\n",
    "</div>\n",
    "</div>\n",
    "</div>\n",
    "\n",
    "# Image processing in Python\n",
    "\n",
    "<div style=\"text-align: left\">\n",
    "  <a href=\"https://forum.image.sc/tag/scikit-image\"><img width=\"172\" height=\"29\" src=\"https://res.cloudinary.com/zolpy/image/upload/v1635000785/hub-ia-londrina-pr/ic1_s9llga.png\" alt=\"\"> </a>\n",
    "<a href=\"https://stackoverflow.com/questions/tagged/scikit-image\"><img width=\"172\" height=\"29\" src=\"https://res.cloudinary.com/zolpy/image/upload/v1635000785/hub-ia-londrina-pr/ic2_iwyyev.png\" alt=\"\"> </a>\n",
    "</div>\n",
    "\n",
    "<div class=\"cell border-box-sizing text_cell rendered\">\n",
    "<div class=\"prompt input_prompt\">&nbsp;</div>\n",
    "<div class=\"inner_cell\">\n",
    "<div class=\"text_cell_render border-box-sizing rendered_html\">\n",
    "<h1>Image processing in Python</h1>\n",
    "<ul>\n",
    "<li><strong>Website (including documentation):</strong>&nbsp;<a href=\"https://scikit-image.org/\">https://scikit-image.org/</a></li>\n",
    "<li><strong>Mailing list:</strong>&nbsp;<a href=\"https://mail.python.org/mailman/listinfo/scikit-image\">https://mail.python.org/mailman/listinfo/scikit-image</a></li>\n",
    "<li><strong>Benchmarks:</strong>&nbsp;<a href=\"https://pandas.pydata.org/speed/scikit-image/\">https://pandas.pydata.org/speed/scikit-image/</a></li>\n",
    "</ul>\n",
    "<h2>Installation from binaries</h2>\n",
    "<ul>\n",
    "<li><strong>Debian/Ubuntu:</strong>&nbsp;<code>sudo apt-get install python-skimage</code></li>\n",
    "<li><strong>OSX:</strong>&nbsp;<code>pip install scikit-image</code></li>\n",
    "<li><strong>Anaconda:</strong>&nbsp;<code>conda install -c conda-forge scikit-image</code></li>\n",
    "<li><strong>Windows:</strong>&nbsp;Download&nbsp;<a href=\"https://render.githubusercontent.com/view/blabla\">Windows binaries</a></li>\n",
    "</ul>\n",
    "<p>Also see&nbsp;<a href=\"https://render.githubusercontent.com/view/blabla\">installing&nbsp;<code>scikit-image</code></a>.</p>\n",
    "<h2>Installation from source</h2>\n",
    "<p>Install dependencies using:</p>\n",
    "<pre><code>pip install -r requirements.txt</code></pre>\n",
    "<p>Then, install scikit-image using:</p>\n",
    "<pre><code>$ pip install .</code></pre>\n",
    "<p>If you plan to develop the package, you may run it directly from source:</p>\n",
    "<pre><code>$ pip install -e .  # Do this once to add package to Python path</code></pre>\n",
    "<p>Every time you modify Cython files, also run:</p>\n",
    "<pre><code>$ python setup.py build_ext -i  # Build binary extensions</code></pre>\n",
    "<h2>License (Modified BSD)</h2>\n",
    "<p>Copyright (C) 2011, the scikit-image team All rights reserved.</p>\n",
    "<p>Redistribution and use in source and binary forms, with or without modification, are permitted provided that the following conditions are met:</p>\n",
    "<ol>\n",
    "<li>Redistributions of source code must retain the above copyright notice, this list of conditions and the following disclaimer.</li>\n",
    "<li>Redistributions in binary form must reproduce the above copyright notice, this list of conditions and the following disclaimer in the documentation and/or other materials provided with the distribution.</li>\n",
    "<li>Neither the name of skimage nor the names of its contributors may be used to endorse or promote products derived from this software without specific prior written permission.</li>\n",
    "</ol>\n",
    "<p>THIS SOFTWARE IS PROVIDED BY THE AUTHOR ``AS IS'' AND ANY EXPRESS OR IMPLIED WARRANTIES, INCLUDING, BUT NOT LIMITED TO, THE IMPLIED WARRANTIES OF MERCHANTABILITY AND FITNESS FOR A PARTICULAR PURPOSE ARE DISCLAIMED. IN NO EVENT SHALL THE AUTHOR BE LIABLE FOR ANY DIRECT, INDIRECT, INCIDENTAL, SPECIAL, EXEMPLARY, OR CONSEQUENTIAL DAMAGES (INCLUDING, BUT NOT LIMITED TO, PROCUREMENT OF SUBSTITUTE GOODS OR SERVICES; LOSS OF USE, DATA, OR PROFITS; OR BUSINESS INTERRUPTION) HOWEVER CAUSED AND ON ANY THEORY OF LIABILITY, WHETHER IN CONTRACT, STRICT LIABILITY, OR TORT (INCLUDING NEGLIGENCE OR OTHERWISE) ARISING IN ANY WAY OUT OF THE USE OF THIS SOFTWARE, EVEN IF ADVISED OF THE POSSIBILITY OF SUCH DAMAGE.</p>\n",
    "<h2>Citation</h2>\n",
    "<p>If you find this project useful, please cite:</p>\n",
    "<blockquote>\n",
    "<p>St&eacute;fan van der Walt, Johannes L. Sch&ouml;nberger, Juan Nunez-Iglesias, Fran&ccedil;ois Boulogne, Joshua D. Warner, Neil Yager, Emmanuelle Gouillart, Tony Yu, and the scikit-image contributors.&nbsp;<em>scikit-image: Image processing in Python</em>. PeerJ 2:e453 (2014)&nbsp;<a href=\"https://doi.org/10.7717/peerj.453\">https://doi.org/10.7717/peerj.453</a></p>\n",
    "</blockquote>\n",
    "</div>\n",
    "</div>\n",
    "</div>"
   ]
  },
  {
   "cell_type": "code",
   "execution_count": null,
   "id": "dea67f7b",
   "metadata": {},
   "outputs": [],
   "source": []
  },
  {
   "cell_type": "code",
   "execution_count": null,
   "id": "b358a4fd",
   "metadata": {},
   "outputs": [],
   "source": []
  }
 ],
 "metadata": {
  "kernelspec": {
   "display_name": "Python 3",
   "language": "python",
   "name": "python3"
  },
  "language_info": {
   "codemirror_mode": {
    "name": "ipython",
    "version": 3
   },
   "file_extension": ".py",
   "mimetype": "text/x-python",
   "name": "python",
   "nbconvert_exporter": "python",
   "pygments_lexer": "ipython3",
   "version": "3.8.8"
  }
 },
 "nbformat": 4,
 "nbformat_minor": 5
}
