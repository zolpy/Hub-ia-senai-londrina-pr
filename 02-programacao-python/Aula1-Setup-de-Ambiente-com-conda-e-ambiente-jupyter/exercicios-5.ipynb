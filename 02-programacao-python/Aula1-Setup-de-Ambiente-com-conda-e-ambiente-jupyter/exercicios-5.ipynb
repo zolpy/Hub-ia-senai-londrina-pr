{
 "cells": [
  {
   "cell_type": "markdown",
   "id": "93cff5de",
   "metadata": {},
   "source": [
    "![](https://res.cloudinary.com/zolpy/image/upload/v1635017856/hub-ia-londrina-pr/Captura_de_tela_de_2021-10-23_16-35-28_hrazdw.png)\n"
   ]
  },
  {
   "cell_type": "code",
   "execution_count": null,
   "id": "81a50621",
   "metadata": {},
   "outputs": [],
   "source": []
  }
 ],
 "metadata": {
  "kernelspec": {
   "display_name": "Python 3",
   "language": "python",
   "name": "python3"
  },
  "language_info": {
   "codemirror_mode": {
    "name": "ipython",
    "version": 3
   },
   "file_extension": ".py",
   "mimetype": "text/x-python",
   "name": "python",
   "nbconvert_exporter": "python",
   "pygments_lexer": "ipython3",
   "version": "3.8.8"
  }
 },
 "nbformat": 4,
 "nbformat_minor": 5
}
