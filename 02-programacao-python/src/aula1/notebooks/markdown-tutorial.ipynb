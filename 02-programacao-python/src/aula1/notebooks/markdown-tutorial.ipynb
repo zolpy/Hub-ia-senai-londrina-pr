{
 "cells": [
  {
   "cell_type": "markdown",
   "metadata": {
    "slideshow": {
     "slide_type": "slide"
    }
   },
   "source": [
    "# Markdown"
   ]
  },
  {
   "cell_type": "markdown",
   "metadata": {
    "slideshow": {
     "slide_type": "slide"
    }
   },
   "source": [
    "## O que é a sintaxe Markdown?"
   ]
  },
  {
   "cell_type": "markdown",
   "metadata": {
    "slideshow": {
     "slide_type": "fragment"
    }
   },
   "source": [
    "`Markdown Syntax` é uma sintaxe usada para padronizar e facilitar formatação de texto na web, utilizada em aplicativos como Slack e GitHub. Textos estilizados com `Markdown` são, na maioria dos casos, apenas texto com caracteres não-alfabéticos, como `#`, `\\*` e `![]()`, usados para a configuração de títulos, listas, itálico, negrito e inserção de imagens."
   ]
  },
  {
   "cell_type": "markdown",
   "metadata": {
    "slideshow": {
     "slide_type": "slide"
    }
   },
   "source": [
    "# Elementos Markdown"
   ]
  },
  {
   "cell_type": "markdown",
   "metadata": {
    "slideshow": {
     "slide_type": "slide"
    }
   },
   "source": [
    "## Headers\n",
    "\n",
    "Para título, basta utilizar o `#` seguido de espaço `*`.\n"
   ]
  },
  {
   "cell_type": "markdown",
   "metadata": {
    "slideshow": {
     "slide_type": "fragment"
    }
   },
   "source": [
    "```\n",
    "# Isso é uma tag h1\n",
    "## Isso é uma tag h2\n",
    "### Isso é uma tag h3\n",
    "#### Isso é uma tag h4\n",
    "##### Isso é uma tag h5\n",
    "```"
   ]
  },
  {
   "cell_type": "markdown",
   "metadata": {
    "slideshow": {
     "slide_type": "subslide"
    }
   },
   "source": [
    "Exemplo:\n",
    "# Isso é uma tag h1\n",
    "## Isso é uma tag h2\n",
    "### Isso é uma tag h3\n",
    "#### Isso é uma tag h4\n",
    "##### Isso é uma tag h5"
   ]
  },
  {
   "cell_type": "markdown",
   "metadata": {
    "slideshow": {
     "slide_type": "slide"
    }
   },
   "source": [
    "## Ênfase"
   ]
  },
  {
   "cell_type": "markdown",
   "metadata": {
    "slideshow": {
     "slide_type": "fragment"
    }
   },
   "source": [
    "```\n",
    "*Texto em itálico*\n",
    "_Texto em itálico_\n",
    "\n",
    "\n",
    "**Texto em negrito**\n",
    "__Texto em negrito__\n",
    "\n",
    "\n",
    "~~Texto riscado~~\n",
    "\n",
    "_É possível **combinar** as duas opções_\n",
    "```"
   ]
  },
  {
   "cell_type": "markdown",
   "metadata": {
    "slideshow": {
     "slide_type": "subslide"
    }
   },
   "source": [
    "Exemplo:\n",
    "\n",
    "*Texto em itálico*\n",
    "\n",
    "_Texto em itálico_\n",
    "\n",
    "**Texto em negrito**\n",
    "\n",
    "__Texto em negrito__\n",
    "\n",
    "~~Texto riscado~~\n",
    "\n",
    "\n",
    "_É possível **combinar** as ~duas~ três opções_"
   ]
  },
  {
   "cell_type": "markdown",
   "metadata": {
    "slideshow": {
     "slide_type": "slide"
    }
   },
   "source": [
    "## Links\n",
    "\n",
    "Existem duas formas de inserir link em Markdown, através de um link direto ou usando um texto-âncora:\n",
    "\n",
    "* **Texto-âncora**: utilize os caracteres `[]()`, adicionando entre chaves o texto que você quer que apareça, e entre os parênteses, o endereço de destino.\n",
    "\n",
    "* **Link direto**: envolva o endereço da web em chaves `<>`. O endereço ficará visível e será clicável pelo usuário."
   ]
  },
  {
   "cell_type": "markdown",
   "metadata": {
    "slideshow": {
     "slide_type": "subslide"
    }
   },
   "source": [
    "### Texto-âncora"
   ]
  },
  {
   "cell_type": "markdown",
   "metadata": {
    "slideshow": {
     "slide_type": "fragment"
    }
   },
   "source": [
    "```\n",
    "[AI2 Site](http://advancedinstitute.ai/)\n",
    "```"
   ]
  },
  {
   "cell_type": "markdown",
   "metadata": {
    "slideshow": {
     "slide_type": "fragment"
    }
   },
   "source": [
    "Exemplo:\n",
    "\n",
    "[AI2 Site](http://advancedinstitute.ai/)"
   ]
  },
  {
   "cell_type": "markdown",
   "metadata": {
    "slideshow": {
     "slide_type": "slide"
    }
   },
   "source": [
    "### Link direto"
   ]
  },
  {
   "cell_type": "markdown",
   "metadata": {
    "slideshow": {
     "slide_type": "fragment"
    }
   },
   "source": [
    "```\n",
    "<http://advancedinstitute.ai/>\n",
    "```"
   ]
  },
  {
   "cell_type": "markdown",
   "metadata": {
    "slideshow": {
     "slide_type": "fragment"
    }
   },
   "source": [
    "Exemplo:\n",
    "\n",
    "<http://advancedinstitute.ai/>"
   ]
  },
  {
   "cell_type": "markdown",
   "metadata": {
    "slideshow": {
     "slide_type": "slide"
    }
   },
   "source": [
    "## Imagens\n",
    "\n",
    "O código para inserir uma imagem no conteúdo é semelhante ao código de inserir links-âncora, adicionando um ponto de exclamação `!` no início do código, como no exemplo abaixo:"
   ]
  },
  {
   "cell_type": "markdown",
   "metadata": {
    "slideshow": {
     "slide_type": "slide"
    }
   },
   "source": [
    "```\n",
    "![Jupyter Logo](https://upload.wikimedia.org/wikipedia/commons/thumb/3/38/Jupyter_logo.svg/300px-Jupyter_logo.svg.png)\n",
    "```"
   ]
  },
  {
   "cell_type": "markdown",
   "metadata": {
    "slideshow": {
     "slide_type": "subslide"
    }
   },
   "source": [
    "![GitHub Logo](https://upload.wikimedia.org/wikipedia/commons/thumb/3/38/Jupyter_logo.svg/300px-Jupyter_logo.svg.png)"
   ]
  },
  {
   "cell_type": "markdown",
   "metadata": {
    "slideshow": {
     "slide_type": "slide"
    }
   },
   "source": [
    "## Listas"
   ]
  },
  {
   "cell_type": "markdown",
   "metadata": {
    "slideshow": {
     "slide_type": "fragment"
    }
   },
   "source": [
    "### Ordenadas\n",
    "\n",
    "Utilize `1.` antes do item. Para subitens, basta identar. "
   ]
  },
  {
   "cell_type": "markdown",
   "metadata": {
    "slideshow": {
     "slide_type": "fragment"
    }
   },
   "source": [
    "```\n",
    "1. Item ordenado 1.\n",
    "1. Item ordenado 2.\n",
    "1. Item ordenado 3.\n",
    "   1. Item ordenado 3.1.\n",
    "   1. Item ordenado 3.2.\n",
    "```"
   ]
  },
  {
   "cell_type": "markdown",
   "metadata": {
    "slideshow": {
     "slide_type": "subslide"
    }
   },
   "source": [
    "Exemplo:\n",
    "\n",
    "1. Item ordenado 1.\n",
    "1. Item ordenado 2.\n",
    "1. Item ordenado 3.\n",
    "   1. Item ordenado 3.1.\n",
    "   1. Item ordenado 3.2."
   ]
  },
  {
   "cell_type": "markdown",
   "metadata": {
    "slideshow": {
     "slide_type": "slide"
    }
   },
   "source": [
    "### Não-ordenadas\n",
    "\n",
    "Utilize `*` antes do item. Para subitens, basta identar. "
   ]
  },
  {
   "cell_type": "markdown",
   "metadata": {
    "slideshow": {
     "slide_type": "fragment"
    }
   },
   "source": [
    "```\n",
    "* Item não-ordenado 1.\n",
    "* Item não-ordenado 2.\n",
    "* Item não-ordenado 3.\n",
    "   * Item não-ordenado 3.1.\n",
    "   * Item não-ordenado 3.2.\n",
    "```"
   ]
  },
  {
   "cell_type": "markdown",
   "metadata": {
    "slideshow": {
     "slide_type": "subslide"
    }
   },
   "source": [
    "Exemplo:\n",
    "\n",
    "* Item não-ordenado 1.\n",
    "* Item não-ordenado 2.\n",
    "* Item não-ordenado 3.\n",
    "   * Item não-ordenado 3.1.\n",
    "   * Item não-ordenado 3.2."
   ]
  },
  {
   "cell_type": "markdown",
   "metadata": {
    "slideshow": {
     "slide_type": "slide"
    }
   },
   "source": [
    "# Tabelas\n",
    "Escolha os títulos das colunas e use `|` ( _pipe_ ) para delimitar as colunas. Depois, utilize hífen `-` na segunda linha para indicar que acima estão os títulos das colunas, usando novamente o `|` para delimitar colunas. "
   ]
  },
  {
   "cell_type": "markdown",
   "metadata": {
    "slideshow": {
     "slide_type": "fragment"
    }
   },
   "source": [
    "```\n",
    "|Col 1|Col 2|Col 3|\n",
    "|---|---|---|\n",
    "|A|B|C|\n",
    "|**D**|_E_|**_F_**|\n",
    "```"
   ]
  },
  {
   "cell_type": "markdown",
   "metadata": {
    "slideshow": {
     "slide_type": "subslide"
    }
   },
   "source": [
    "Exemplo:\n",
    "\n",
    "|Col 1|Col 2|Col 3|\n",
    "|---|---|---|\n",
    "|A|B|C|\n",
    "|**D**|_E_|**_F_**|"
   ]
  },
  {
   "cell_type": "markdown",
   "metadata": {
    "slideshow": {
     "slide_type": "slide"
    }
   },
   "source": [
    "## Citações\n",
    "\n",
    "utilize o sinal `>` no início da linha."
   ]
  },
  {
   "cell_type": "markdown",
   "metadata": {
    "slideshow": {
     "slide_type": "fragment"
    }
   },
   "source": [
    "```\n",
    "Cesar Lattes disse:\n",
    "\n",
    "> \"A ciência não pode prever o que vai acontecer. Só pode prever a probabilidade de algo acontecer.\"\n",
    "```"
   ]
  },
  {
   "cell_type": "markdown",
   "metadata": {
    "slideshow": {
     "slide_type": "subslide"
    }
   },
   "source": [
    "Exemplo:\n",
    "\n",
    "Cesar Lattes disse:\n",
    "\n",
    "> \"A ciência não pode prever o que vai acontecer. Só pode prever a probabilidade de algo acontecer.\"\n",
    "\n"
   ]
  },
  {
   "cell_type": "markdown",
   "metadata": {
    "slideshow": {
     "slide_type": "slide"
    }
   },
   "source": [
    "## Código\n",
    "\n",
    "Há dois modos de adicionar trechos de código ao `Markdown`:\n",
    "\n",
    "* Código em linha (inline): adicione um acento grave `ˋ` no início e no final do código.\n",
    "* Blocos de código: envolva as linhas de código com três acentos graves `ˋˋˋ` ou três tils `~~~`."
   ]
  },
  {
   "cell_type": "markdown",
   "metadata": {
    "slideshow": {
     "slide_type": "subslide"
    }
   },
   "source": [
    "### Código _inline_"
   ]
  },
  {
   "cell_type": "markdown",
   "metadata": {
    "slideshow": {
     "slide_type": "fragment"
    }
   },
   "source": [
    "```\n",
    "No python, para escrever na tela, usamos a função `print`\n",
    "```"
   ]
  },
  {
   "cell_type": "markdown",
   "metadata": {
    "slideshow": {
     "slide_type": "subslide"
    }
   },
   "source": [
    "Exemplo:\n",
    "\n",
    "No python, para escrever na tela, usamos a função `print`"
   ]
  },
  {
   "cell_type": "markdown",
   "metadata": {
    "slideshow": {
     "slide_type": "subslide"
    }
   },
   "source": [
    "### Blocos de código"
   ]
  },
  {
   "cell_type": "markdown",
   "metadata": {
    "slideshow": {
     "slide_type": "fragment"
    }
   },
   "source": [
    "```\n",
    "ˋˋˋ\n",
    "saída = 'olá!'\n",
    "print(saída)\n",
    "ˋˋˋ\n",
    "```"
   ]
  },
  {
   "cell_type": "markdown",
   "metadata": {
    "slideshow": {
     "slide_type": "subslide"
    }
   },
   "source": [
    "Exemplo:\n",
    "\n",
    "~~~\n",
    "saída = 'olá!'\n",
    "print(saída)\n",
    "~~~"
   ]
  },
  {
   "cell_type": "markdown",
   "metadata": {
    "slideshow": {
     "slide_type": "slide"
    }
   },
   "source": [
    "## Usando LaTeX para definição de equações "
   ]
  },
  {
   "cell_type": "markdown",
   "metadata": {
    "slideshow": {
     "slide_type": "fragment"
    }
   },
   "source": [
    "Para usar equações matemáticas LaTeX, insira o conteúdo entre `$$`\n",
    "\n",
    "```\n",
    "$$c = \\sqrt{x^2 + y^2 + z^2}$$\n",
    "\n",
    "```"
   ]
  },
  {
   "cell_type": "markdown",
   "metadata": {
    "slideshow": {
     "slide_type": "subslide"
    }
   },
   "source": [
    "Exemplo:\n",
    "\n",
    "\n",
    "$$c = \\sqrt{x^2 + y^2 + z^2}$$"
   ]
  },
  {
   "cell_type": "code",
   "execution_count": null,
   "metadata": {},
   "outputs": [],
   "source": []
  }
 ],
 "metadata": {
  "celltoolbar": "Slideshow",
  "kernelspec": {
   "display_name": "Python 3",
   "language": "python",
   "name": "python3"
  },
  "language_info": {
   "codemirror_mode": {
    "name": "ipython",
    "version": 3
   },
   "file_extension": ".py",
   "mimetype": "text/x-python",
   "name": "python",
   "nbconvert_exporter": "python",
   "pygments_lexer": "ipython3",
   "version": "3.7.3"
  }
 },
 "nbformat": 4,
 "nbformat_minor": 2
}
